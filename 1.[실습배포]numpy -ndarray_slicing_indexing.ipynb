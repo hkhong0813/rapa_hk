{
 "cells": [
  {
   "cell_type": "markdown",
   "metadata": {
    "id": "YF6gKv_yLvyA"
   },
   "source": [
    "#1. Numpy 모듈 소개"
   ]
  },
  {
   "cell_type": "code",
   "execution_count": null,
   "metadata": {
    "id": "5Y1JmOVc7JBK"
   },
   "outputs": [],
   "source": []
  },
  {
   "cell_type": "markdown",
   "metadata": {
    "id": "ROaxqfM9pwE3"
   },
   "source": [
    "###1-0 Numpy 모듈 임폴트"
   ]
  },
  {
   "cell_type": "code",
   "execution_count": null,
   "metadata": {
    "id": "0_Kg9xjRLmo-"
   },
   "outputs": [],
   "source": []
  },
  {
   "cell_type": "code",
   "execution_count": null,
   "metadata": {
    "colab": {
     "base_uri": "https://localhost:8080/"
    },
    "executionInfo": {
     "elapsed": 267,
     "status": "ok",
     "timestamp": 1630059762621,
     "user": {
      "displayName": "경하김",
      "photoUrl": "",
      "userId": "00010385631009285573"
     },
     "user_tz": -540
    },
    "id": "GgV21jOYLutz",
    "outputId": "fd8e311b-a7d1-4df5-b362-1a375f3f1586"
   },
   "outputs": [
    {
     "data": {
      "text/plain": [
       "<module 'numpy' from '/usr/local/lib/python3.7/dist-packages/numpy/__init__.py'>"
      ]
     },
     "execution_count": 2,
     "metadata": {},
     "output_type": "execute_result"
    }
   ],
   "source": []
  },
  {
   "cell_type": "markdown",
   "metadata": {
    "id": "pf1gyZgaL0GG"
   },
   "source": [
    "### 1-1. 별칭 (alias) 지정하기 일반적으로 np"
   ]
  },
  {
   "cell_type": "code",
   "execution_count": null,
   "metadata": {
    "id": "mufbu6qBL3fq"
   },
   "outputs": [],
   "source": []
  },
  {
   "cell_type": "code",
   "execution_count": null,
   "metadata": {
    "colab": {
     "base_uri": "https://localhost:8080/"
    },
    "executionInfo": {
     "elapsed": 276,
     "status": "ok",
     "timestamp": 1630060977756,
     "user": {
      "displayName": "경하김",
      "photoUrl": "",
      "userId": "00010385631009285573"
     },
     "user_tz": -540
    },
    "id": "CfNcg0XXL4lm",
    "outputId": "a9198bea-c2a3-4318-8aa7-a9f888032935"
   },
   "outputs": [
    {
     "data": {
      "text/plain": [
       "<module 'numpy' from '/usr/local/lib/python3.7/dist-packages/numpy/__init__.py'>"
      ]
     },
     "execution_count": 4,
     "metadata": {},
     "output_type": "execute_result"
    }
   ],
   "source": []
  },
  {
   "cell_type": "markdown",
   "metadata": {
    "id": "e_ttjq8eL4yg"
   },
   "source": [
    "## 2. ndarray 생성하기"
   ]
  },
  {
   "cell_type": "code",
   "execution_count": null,
   "metadata": {
    "colab": {
     "background_save": true
    },
    "id": "mwQN0_UzMGPO"
   },
   "outputs": [],
   "source": []
  },
  {
   "cell_type": "code",
   "execution_count": null,
   "metadata": {
    "colab": {
     "base_uri": "https://localhost:8080/"
    },
    "executionInfo": {
     "elapsed": 267,
     "status": "ok",
     "timestamp": 1630060984608,
     "user": {
      "displayName": "경하김",
      "photoUrl": "",
      "userId": "00010385631009285573"
     },
     "user_tz": -540
    },
    "id": "qg-d37wfMJ85",
    "outputId": "cc0a6cfb-0660-4629-a107-ca16f1a00988"
   },
   "outputs": [
    {
     "data": {
      "text/plain": [
       "array([1, 2, 3, 4])"
      ]
     },
     "execution_count": 6,
     "metadata": {},
     "output_type": "execute_result"
    }
   ],
   "source": [
    "arr"
   ]
  },
  {
   "cell_type": "code",
   "execution_count": null,
   "metadata": {
    "colab": {
     "base_uri": "https://localhost:8080/"
    },
    "executionInfo": {
     "elapsed": 272,
     "status": "ok",
     "timestamp": 1630060999292,
     "user": {
      "displayName": "경하김",
      "photoUrl": "",
      "userId": "00010385631009285573"
     },
     "user_tz": -540
    },
    "id": "pK4LQp_feRLr",
    "outputId": "41d4b45e-732a-4291-9979-884d68bad72c"
   },
   "outputs": [
    {
     "data": {
      "text/plain": [
       "[1, 2, 3, 4]"
      ]
     },
     "execution_count": 8,
     "metadata": {},
     "output_type": "execute_result"
    }
   ],
   "source": [
    "a = [1, 2, 3, 4]\n",
    "a"
   ]
  },
  {
   "cell_type": "code",
   "execution_count": null,
   "metadata": {
    "colab": {
     "base_uri": "https://localhost:8080/"
    },
    "executionInfo": {
     "elapsed": 332,
     "status": "ok",
     "timestamp": 1630061003514,
     "user": {
      "displayName": "경하김",
      "photoUrl": "",
      "userId": "00010385631009285573"
     },
     "user_tz": -540
    },
    "id": "FpjKmMxJMVF3",
    "outputId": "862bf827-1a17-4a8d-a50f-c006aad1b550"
   },
   "outputs": [
    {
     "data": {
      "text/plain": [
       "numpy.ndarray"
      ]
     },
     "execution_count": 9,
     "metadata": {},
     "output_type": "execute_result"
    }
   ],
   "source": []
  },
  {
   "cell_type": "markdown",
   "metadata": {
    "id": "n83ZdpYzMWCh"
   },
   "source": [
    "### 2-1. list로 부터 생성하기"
   ]
  },
  {
   "cell_type": "code",
   "execution_count": null,
   "metadata": {
    "id": "3FoRNCmxMa96"
   },
   "outputs": [],
   "source": [
    "mylist1 = [1, 2, 3, 4]"
   ]
  },
  {
   "cell_type": "code",
   "execution_count": null,
   "metadata": {
    "id": "9aeUwDAkMhok"
   },
   "outputs": [],
   "source": [
    "arr1 = np.array(mylist1)"
   ]
  },
  {
   "cell_type": "code",
   "execution_count": null,
   "metadata": {
    "colab": {
     "base_uri": "https://localhost:8080/"
    },
    "executionInfo": {
     "elapsed": 9,
     "status": "ok",
     "timestamp": 1630061015076,
     "user": {
      "displayName": "경하김",
      "photoUrl": "",
      "userId": "00010385631009285573"
     },
     "user_tz": -540
    },
    "id": "lk6wwjOEMcqN",
    "outputId": "87a7d9f0-5a04-4af4-bdda-a819b913134a"
   },
   "outputs": [
    {
     "data": {
      "text/plain": [
       "[[1, 2, 3, 4], [5, 6, 7, 8]]"
      ]
     },
     "execution_count": 11,
     "metadata": {},
     "output_type": "execute_result"
    }
   ],
   "source": [
    "# list로 2차원 ndarray 생성\n"
   ]
  },
  {
   "cell_type": "code",
   "execution_count": null,
   "metadata": {
    "colab": {
     "base_uri": "https://localhost:8080/"
    },
    "executionInfo": {
     "elapsed": 273,
     "status": "ok",
     "timestamp": 1630061021169,
     "user": {
      "displayName": "경하김",
      "photoUrl": "",
      "userId": "00010385631009285573"
     },
     "user_tz": -540
    },
    "id": "uj3yIOjtMjjB",
    "outputId": "006645ff-9dcc-40fa-d672-454ac9988486"
   },
   "outputs": [
    {
     "data": {
      "text/plain": [
       "array([[1, 2, 3, 4],\n",
       "       [5, 6, 7, 8]])"
      ]
     },
     "execution_count": 13,
     "metadata": {},
     "output_type": "execute_result"
    }
   ],
   "source": []
  },
  {
   "cell_type": "markdown",
   "metadata": {
    "id": "yzMxMbQzMtNO"
   },
   "source": [
    "### 2-2. shape확인하기"
   ]
  },
  {
   "cell_type": "code",
   "execution_count": null,
   "metadata": {
    "colab": {
     "base_uri": "https://localhost:8080/"
    },
    "executionInfo": {
     "elapsed": 275,
     "status": "ok",
     "timestamp": 1630061024204,
     "user": {
      "displayName": "경하김",
      "photoUrl": "",
      "userId": "00010385631009285573"
     },
     "user_tz": -540
    },
    "id": "JvsXql8XMzSQ",
    "outputId": "4d067d02-7ad7-4d21-b762-c2dfedd27f6b"
   },
   "outputs": [
    {
     "data": {
      "text/plain": [
       "(4,)"
      ]
     },
     "execution_count": 14,
     "metadata": {},
     "output_type": "execute_result"
    }
   ],
   "source": [
    "#arr1의 shape 확인\n"
   ]
  },
  {
   "cell_type": "code",
   "execution_count": null,
   "metadata": {
    "colab": {
     "base_uri": "https://localhost:8080/"
    },
    "executionInfo": {
     "elapsed": 4,
     "status": "ok",
     "timestamp": 1630061027639,
     "user": {
      "displayName": "경하김",
      "photoUrl": "",
      "userId": "00010385631009285573"
     },
     "user_tz": -540
    },
    "id": "0DvV6rmdM0zH",
    "outputId": "23dbdc40-b052-413d-cd93-f06532724968"
   },
   "outputs": [
    {
     "data": {
      "text/plain": [
       "(2, 4)"
      ]
     },
     "execution_count": 15,
     "metadata": {},
     "output_type": "execute_result"
    }
   ],
   "source": [
    "#arr2의 shape 확인\n"
   ]
  },
  {
   "cell_type": "markdown",
   "metadata": {
    "id": "gX-z_P_LM9LV"
   },
   "source": [
    "## 3. array에서의 data 타입\n",
    "[numpy data type 살펴보기](https://engineer-mole.tistory.com/85)"
   ]
  },
  {
   "cell_type": "markdown",
   "metadata": {
    "id": "MktQdRu7NCt_"
   },
   "source": [
    "array에서는 list와는 다르게 1개의 **단일 데이터 타입**만 허용 됨.  \n",
    "타입이 다른 형태 데이터를 넣어서 ndarray 객체를 만들면 어떻게 될까?"
   ]
  },
  {
   "cell_type": "markdown",
   "metadata": {
    "id": "XTLMkufHNT_M"
   },
   "source": [
    "### 3-1. list에서의 data 타입"
   ]
  },
  {
   "cell_type": "code",
   "execution_count": null,
   "metadata": {
    "id": "C0B5BIjtNIhI"
   },
   "outputs": [],
   "source": [
    "mylist = [1, 3.14, '테디', '1234']"
   ]
  },
  {
   "cell_type": "code",
   "execution_count": null,
   "metadata": {
    "id": "KGJ2KOsiNN9e"
   },
   "outputs": [],
   "source": [
    "mylist"
   ]
  },
  {
   "cell_type": "code",
   "execution_count": null,
   "metadata": {
    "id": "2DpInJBdNQBx"
   },
   "outputs": [],
   "source": [
    "# mylist 인덱스 1의 값 확인\n"
   ]
  },
  {
   "cell_type": "code",
   "execution_count": null,
   "metadata": {
    "id": "xjgOr_LnNRgp"
   },
   "outputs": [],
   "source": [
    "# mylist 인덱스 2의 값 확인\n"
   ]
  },
  {
   "cell_type": "markdown",
   "metadata": {
    "id": "GX81OuGvNSWJ"
   },
   "source": [
    "### 3-2. array에서의 data 타입 결정 (case별로 살펴보기)"
   ]
  },
  {
   "cell_type": "markdown",
   "metadata": {
    "id": "szwCkfiKOscZ"
   },
   "source": [
    "### case 1. int와 float 타입이 혼재된 경우"
   ]
  },
  {
   "cell_type": "code",
   "execution_count": null,
   "metadata": {
    "id": "cbixPa34Opbw"
   },
   "outputs": [],
   "source": [
    "arr = np.array([1, 2, 3, 3.14])"
   ]
  },
  {
   "cell_type": "code",
   "execution_count": null,
   "metadata": {
    "colab": {
     "base_uri": "https://localhost:8080/"
    },
    "executionInfo": {
     "elapsed": 277,
     "status": "ok",
     "timestamp": 1630061138348,
     "user": {
      "displayName": "경하김",
      "photoUrl": "",
      "userId": "00010385631009285573"
     },
     "user_tz": -540
    },
    "id": "ic54uzs8Oq2l",
    "outputId": "79f5d4c7-321b-4712-82d4-fbb030842e64"
   },
   "outputs": [
    {
     "data": {
      "text/plain": [
       "array([1.  , 2.  , 3.  , 3.14])"
      ]
     },
     "execution_count": 21,
     "metadata": {},
     "output_type": "execute_result"
    }
   ],
   "source": [
    "arr"
   ]
  },
  {
   "cell_type": "markdown",
   "metadata": {
    "id": "NK9OEY8cO1h1"
   },
   "source": [
    "### case 2. int와 float 타입이 혼재되었으나, dtype을 지정한 경우"
   ]
  },
  {
   "cell_type": "code",
   "execution_count": null,
   "metadata": {
    "id": "J-CMx0MkOiVB"
   },
   "outputs": [],
   "source": [
    "# dtype=int 옵션 파라미터로 정수형으로 입력\n"
   ]
  },
  {
   "cell_type": "code",
   "execution_count": null,
   "metadata": {
    "colab": {
     "base_uri": "https://localhost:8080/"
    },
    "executionInfo": {
     "elapsed": 378,
     "status": "ok",
     "timestamp": 1630061147084,
     "user": {
      "displayName": "경하김",
      "photoUrl": "",
      "userId": "00010385631009285573"
     },
     "user_tz": -540
    },
    "id": "9CyK3SNOOmuI",
    "outputId": "2fdc2d12-7cb9-402b-e2c9-52f486080f3a"
   },
   "outputs": [
    {
     "data": {
      "text/plain": [
       "array([1, 2, 3, 3])"
      ]
     },
     "execution_count": 23,
     "metadata": {},
     "output_type": "execute_result"
    }
   ],
   "source": []
  },
  {
   "cell_type": "markdown",
   "metadata": {
    "id": "RDfxDsUWOoT1"
   },
   "source": [
    "### case 3. int와 str 타입이 혼재된 경우"
   ]
  },
  {
   "cell_type": "code",
   "execution_count": null,
   "metadata": {
    "id": "EFxhPu_oNZ9V"
   },
   "outputs": [],
   "source": [
    "arr = np.array([1, 3.14, '테디', '1234'])"
   ]
  },
  {
   "cell_type": "code",
   "execution_count": null,
   "metadata": {
    "colab": {
     "base_uri": "https://localhost:8080/"
    },
    "executionInfo": {
     "elapsed": 406,
     "status": "ok",
     "timestamp": 1630061162044,
     "user": {
      "displayName": "경하김",
      "photoUrl": "",
      "userId": "00010385631009285573"
     },
     "user_tz": -540
    },
    "id": "bkZjF2alNeXJ",
    "outputId": "44bd779d-872b-44ed-ac54-dcb0f0bc2d9b"
   },
   "outputs": [
    {
     "data": {
      "text/plain": [
       "array(['1', '3.14', '테디', '1234'], dtype='<U32')"
      ]
     },
     "execution_count": 25,
     "metadata": {},
     "output_type": "execute_result"
    }
   ],
   "source": [
    "arr"
   ]
  },
  {
   "cell_type": "code",
   "execution_count": null,
   "metadata": {
    "colab": {
     "base_uri": "https://localhost:8080/",
     "height": 35
    },
    "executionInfo": {
     "elapsed": 264,
     "status": "ok",
     "timestamp": 1630061167587,
     "user": {
      "displayName": "경하김",
      "photoUrl": "",
      "userId": "00010385631009285573"
     },
     "user_tz": -540
    },
    "id": "VcFfCH16Ni4-",
    "outputId": "672685a7-cee3-4c92-de39-8bd89d4ec8a7"
   },
   "outputs": [
    {
     "data": {
      "application/vnd.google.colaboratory.intrinsic+json": {
       "type": "string"
      },
      "text/plain": [
       "'13.14'"
      ]
     },
     "execution_count": 26,
     "metadata": {},
     "output_type": "execute_result"
    }
   ],
   "source": [
    "# arr[0], arr[1] + 연산 확인\n"
   ]
  },
  {
   "cell_type": "markdown",
   "metadata": {
    "id": "ihIB8zQfPCLP"
   },
   "source": [
    "### case 4. int와 str 타입이 혼재되어 있고 int로 dtype을 지정한 경우"
   ]
  },
  {
   "cell_type": "code",
   "execution_count": null,
   "metadata": {
    "id": "L2cVoxoEPH7X"
   },
   "outputs": [],
   "source": [
    "arr = np.array([1, 3.14, '1234'], dtype=int)"
   ]
  },
  {
   "cell_type": "code",
   "execution_count": null,
   "metadata": {
    "colab": {
     "base_uri": "https://localhost:8080/"
    },
    "executionInfo": {
     "elapsed": 261,
     "status": "ok",
     "timestamp": 1630061186359,
     "user": {
      "displayName": "경하김",
      "photoUrl": "",
      "userId": "00010385631009285573"
     },
     "user_tz": -540
    },
    "id": "f7EtNlGuPLTM",
    "outputId": "7cc35bdb-448a-455b-c26c-d8fd22a8e039"
   },
   "outputs": [
    {
     "data": {
      "text/plain": [
       "array([   1,    3, 1234])"
      ]
     },
     "execution_count": 28,
     "metadata": {},
     "output_type": "execute_result"
    }
   ],
   "source": [
    " arr"
   ]
  },
  {
   "cell_type": "code",
   "execution_count": null,
   "metadata": {
    "id": "RsgT85tB69-i"
   },
   "outputs": [],
   "source": [
    "# 문자열이 같이 들어간 경우는 어떻게 될까?\n",
    "arr = np.array([1, 3.14, '1234','colab'], dtype=int)"
   ]
  },
  {
   "cell_type": "markdown",
   "metadata": {
    "id": "KLNUbm6HOcJO"
   },
   "source": [
    "#4. 슬라이싱(Slicing)\n",
    "배열의 부분을 추출하는 기능"
   ]
  },
  {
   "cell_type": "code",
   "execution_count": null,
   "metadata": {
    "id": "vwPrPP6kerQ6"
   },
   "outputs": [],
   "source": [
    "import numpy as np"
   ]
  },
  {
   "cell_type": "code",
   "execution_count": null,
   "metadata": {
    "id": "BNLLLFYYOjJh"
   },
   "outputs": [],
   "source": [
    "arr = np.array([10, 11, 12, 13, 14, 15, 16, 17, 18, 19])"
   ]
  },
  {
   "cell_type": "code",
   "execution_count": null,
   "metadata": {
    "colab": {
     "base_uri": "https://localhost:8080/"
    },
    "executionInfo": {
     "elapsed": 276,
     "status": "ok",
     "timestamp": 1630062361775,
     "user": {
      "displayName": "경하김",
      "photoUrl": "",
      "userId": "00010385631009285573"
     },
     "user_tz": -540
    },
    "id": "hZd47k_-PIPS",
    "outputId": "b164c7a6-bd56-4a05-b45c-4c743ef2443c"
   },
   "outputs": [
    {
     "data": {
      "text/plain": [
       "array([10, 11, 12, 13, 14, 15, 16, 17, 18, 19])"
      ]
     },
     "execution_count": 59,
     "metadata": {},
     "output_type": "execute_result"
    }
   ],
   "source": [
    "arr"
   ]
  },
  {
   "cell_type": "code",
   "execution_count": null,
   "metadata": {
    "colab": {
     "base_uri": "https://localhost:8080/"
    },
    "executionInfo": {
     "elapsed": 349,
     "status": "ok",
     "timestamp": 1630062365504,
     "user": {
      "displayName": "경하김",
      "photoUrl": "",
      "userId": "00010385631009285573"
     },
     "user_tz": -540
    },
    "id": "MTGlOshEOlRt",
    "outputId": "f2a125cf-9702-4772-fa74-4970d97c5e30"
   },
   "outputs": [
    {
     "data": {
      "text/plain": [
       "(10,)"
      ]
     },
     "execution_count": 60,
     "metadata": {},
     "output_type": "execute_result"
    }
   ],
   "source": [
    "# ndarray 형태 확인하기\n"
   ]
  },
  {
   "cell_type": "markdown",
   "metadata": {
    "id": "mYDOkFnhOzFk"
   },
   "source": [
    "###3-1 index 지정하여 indexing(색인)하기"
   ]
  },
  {
   "cell_type": "markdown",
   "metadata": {
    "id": "fjAMiDKFPNF6"
   },
   "source": [
    "#### 1차원 ndarray 요소 확인\n",
    "arr[인덱스]  \n",
    "arr[인덱스], arr[인덱스]"
   ]
  },
  {
   "cell_type": "code",
   "execution_count": null,
   "metadata": {
    "colab": {
     "base_uri": "https://localhost:8080/"
    },
    "executionInfo": {
     "elapsed": 294,
     "status": "ok",
     "timestamp": 1630062371852,
     "user": {
      "displayName": "경하김",
      "photoUrl": "",
      "userId": "00010385631009285573"
     },
     "user_tz": -540
    },
    "id": "vImFkF3_Om74",
    "outputId": "10141a64-754a-4af2-e794-17e5f7e72bc2"
   },
   "outputs": [
    {
     "data": {
      "text/plain": [
       "10"
      ]
     },
     "execution_count": 61,
     "metadata": {},
     "output_type": "execute_result"
    }
   ],
   "source": [
    "arr[0]"
   ]
  },
  {
   "cell_type": "code",
   "execution_count": null,
   "metadata": {
    "colab": {
     "base_uri": "https://localhost:8080/"
    },
    "executionInfo": {
     "elapsed": 4,
     "status": "ok",
     "timestamp": 1630062372903,
     "user": {
      "displayName": "경하김",
      "photoUrl": "",
      "userId": "00010385631009285573"
     },
     "user_tz": -540
    },
    "id": "mXFZALh_PXMo",
    "outputId": "44505cef-5ba6-4f75-eec5-35d2f5931d51"
   },
   "outputs": [
    {
     "data": {
      "text/plain": [
       "14"
      ]
     },
     "execution_count": 62,
     "metadata": {},
     "output_type": "execute_result"
    }
   ],
   "source": []
  },
  {
   "cell_type": "code",
   "execution_count": null,
   "metadata": {
    "id": "UQmzM2JBPYjF"
   },
   "outputs": [],
   "source": [
    "# 인덱스 10의 값 확인\n"
   ]
  },
  {
   "cell_type": "code",
   "execution_count": null,
   "metadata": {
    "id": "67Z-XGLwe8w2"
   },
   "outputs": [],
   "source": [
    "# arr의  0과 5의 인덱스 확인\n"
   ]
  },
  {
   "cell_type": "code",
   "execution_count": null,
   "metadata": {
    "id": "yg5eK46QPaRY"
   },
   "outputs": [],
   "source": [
    "# arr의  -1과 6의 인덱스 확인\n"
   ]
  },
  {
   "cell_type": "code",
   "execution_count": null,
   "metadata": {
    "id": "kaEyni7ZPcW8"
   },
   "outputs": [],
   "source": [
    "# arr의  -10과 -6의 인덱스 확인\n"
   ]
  },
  {
   "cell_type": "code",
   "execution_count": null,
   "metadata": {
    "id": "6dFax9zjPgSG"
   },
   "outputs": [],
   "source": [
    "# arr의  -11 인덱스 확인\n",
    "arr[-11]"
   ]
  },
  {
   "cell_type": "markdown",
   "metadata": {
    "id": "d6FXLGwUPjUN"
   },
   "source": [
    "####2차원 array"
   ]
  },
  {
   "cell_type": "code",
   "execution_count": null,
   "metadata": {
    "id": "rKCTf69NPhSn"
   },
   "outputs": [],
   "source": [
    "arr2d = np.array([[1, 2, 3, 4], \n",
    "                  [5, 6, 7, 8], \n",
    "                  [9, 10, 11, 12]])"
   ]
  },
  {
   "cell_type": "code",
   "execution_count": null,
   "metadata": {
    "colab": {
     "base_uri": "https://localhost:8080/"
    },
    "executionInfo": {
     "elapsed": 349,
     "status": "ok",
     "timestamp": 1630132711352,
     "user": {
      "displayName": "경하김",
      "photoUrl": "",
      "userId": "00010385631009285573"
     },
     "user_tz": -540
    },
    "id": "p1pTUZ8qP9Mk",
    "outputId": "45d88785-c2be-4dbe-fab1-a3cb291b07c9"
   },
   "outputs": [
    {
     "data": {
      "text/plain": [
       "(3, 4)"
      ]
     },
     "execution_count": 5,
     "metadata": {},
     "output_type": "execute_result"
    }
   ],
   "source": [
    "# arr2d 객체의 shape 확인하기\n"
   ]
  },
  {
   "cell_type": "markdown",
   "metadata": {
    "id": "dcB0o-wLQCBE"
   },
   "source": [
    "#### 2차원 ndarray 요소 확인\n",
    "arr2d[행 인덱스, 열 인덱스]"
   ]
  },
  {
   "cell_type": "code",
   "execution_count": null,
   "metadata": {
    "colab": {
     "base_uri": "https://localhost:8080/"
    },
    "executionInfo": {
     "elapsed": 9,
     "status": "ok",
     "timestamp": 1630132717816,
     "user": {
      "displayName": "경하김",
      "photoUrl": "",
      "userId": "00010385631009285573"
     },
     "user_tz": -540
    },
    "id": "obNkaVV7ekDG",
    "outputId": "32282c10-4497-440a-eb26-0e9901c41781"
   },
   "outputs": [
    {
     "data": {
      "text/plain": [
       "array([ 9, 10, 11, 12])"
      ]
     },
     "execution_count": 6,
     "metadata": {},
     "output_type": "execute_result"
    }
   ],
   "source": [
    "# 3 행 전체\n"
   ]
  },
  {
   "cell_type": "code",
   "execution_count": null,
   "metadata": {
    "colab": {
     "base_uri": "https://localhost:8080/"
    },
    "executionInfo": {
     "elapsed": 253,
     "status": "ok",
     "timestamp": 1630062392362,
     "user": {
      "displayName": "경하김",
      "photoUrl": "",
      "userId": "00010385631009285573"
     },
     "user_tz": -540
    },
    "id": "ONNTPMQrP_iO",
    "outputId": "59fb7b8b-afd7-4409-dc82-59c7a6653104"
   },
   "outputs": [
    {
     "data": {
      "text/plain": [
       "3"
      ]
     },
     "execution_count": 69,
     "metadata": {},
     "output_type": "execute_result"
    }
   ],
   "source": [
    "# 인덱스 (0, 2) 요소\n"
   ]
  },
  {
   "cell_type": "code",
   "execution_count": null,
   "metadata": {
    "colab": {
     "base_uri": "https://localhost:8080/"
    },
    "executionInfo": {
     "elapsed": 5,
     "status": "ok",
     "timestamp": 1630062393478,
     "user": {
      "displayName": "경하김",
      "photoUrl": "",
      "userId": "00010385631009285573"
     },
     "user_tz": -540
    },
    "id": "RC1uo56dQGwg",
    "outputId": "0869052e-0633-4dde-95f1-18747336d6a3"
   },
   "outputs": [
    {
     "data": {
      "text/plain": [
       "10"
      ]
     },
     "execution_count": 70,
     "metadata": {},
     "output_type": "execute_result"
    }
   ],
   "source": [
    "# 인덱스 (2, 1) 요소"
   ]
  },
  {
   "cell_type": "code",
   "execution_count": null,
   "metadata": {
    "colab": {
     "base_uri": "https://localhost:8080/"
    },
    "executionInfo": {
     "elapsed": 266,
     "status": "ok",
     "timestamp": 1630132907261,
     "user": {
      "displayName": "경하김",
      "photoUrl": "",
      "userId": "00010385631009285573"
     },
     "user_tz": -540
    },
    "id": "zEYnPu69fdIJ",
    "outputId": "a251cd3c-dd43-4661-8e05-97666f6ab707"
   },
   "outputs": [
    {
     "data": {
      "text/plain": [
       "(12, 3)"
      ]
     },
     "execution_count": 13,
     "metadata": {},
     "output_type": "execute_result"
    }
   ],
   "source": [
    "# arr2d[2, 3], arr2d[0, 2] 확인해 보기\n"
   ]
  },
  {
   "cell_type": "code",
   "execution_count": null,
   "metadata": {
    "colab": {
     "base_uri": "https://localhost:8080/"
    },
    "executionInfo": {
     "elapsed": 267,
     "status": "ok",
     "timestamp": 1630132976629,
     "user": {
      "displayName": "경하김",
      "photoUrl": "",
      "userId": "00010385631009285573"
     },
     "user_tz": -540
    },
    "id": "yxxV-hfIfsFw",
    "outputId": "1349763f-84b6-4c76-b568-d112e577b42f"
   },
   "outputs": [
    {
     "data": {
      "text/plain": [
       "array([[ 1,  2,  3,  4],\n",
       "       [ 5,  6,  7,  8],\n",
       "       [ 9, 10, 11, 13]])"
      ]
     },
     "execution_count": 15,
     "metadata": {},
     "output_type": "execute_result"
    }
   ],
   "source": [
    "# 특정 위치에 값 변경\n",
    "# 인덱스 (2,3)에 값 12->13으로 변경\n"
   ]
  },
  {
   "cell_type": "markdown",
   "metadata": {
    "id": "YRcrYY0QQJsj"
   },
   "source": [
    "#### 3차원 array는?"
   ]
  },
  {
   "cell_type": "code",
   "execution_count": null,
   "metadata": {
    "id": "9xRchVv6QIOM"
   },
   "outputs": [],
   "source": [
    "arr3d = np.array([[[1, 2,],[3, 4]], \n",
    "                  [[5, 6], [7, 8]], \n",
    "                  [[9, 10], [11, 12]]])"
   ]
  },
  {
   "cell_type": "code",
   "execution_count": null,
   "metadata": {
    "colab": {
     "base_uri": "https://localhost:8080/"
    },
    "executionInfo": {
     "elapsed": 5,
     "status": "ok",
     "timestamp": 1630062398570,
     "user": {
      "displayName": "경하김",
      "photoUrl": "",
      "userId": "00010385631009285573"
     },
     "user_tz": -540
    },
    "id": "1tb2zVOlQa7R",
    "outputId": "c439b185-213d-4288-98ea-52ec6c35eb5d"
   },
   "outputs": [
    {
     "data": {
      "text/plain": [
       "array([[[ 1,  2],\n",
       "        [ 3,  4]],\n",
       "\n",
       "       [[ 5,  6],\n",
       "        [ 7,  8]],\n",
       "\n",
       "       [[ 9, 10],\n",
       "        [11, 12]]])"
      ]
     },
     "execution_count": 72,
     "metadata": {},
     "output_type": "execute_result"
    }
   ],
   "source": [
    "arr3d"
   ]
  },
  {
   "cell_type": "code",
   "execution_count": null,
   "metadata": {
    "colab": {
     "base_uri": "https://localhost:8080/"
    },
    "executionInfo": {
     "elapsed": 268,
     "status": "ok",
     "timestamp": 1630061871775,
     "user": {
      "displayName": "경하김",
      "photoUrl": "",
      "userId": "00010385631009285573"
     },
     "user_tz": -540
    },
    "id": "se37-deLQd_t",
    "outputId": "fe359747-57aa-4bb3-f898-f12a83005655"
   },
   "outputs": [
    {
     "data": {
      "text/plain": [
       "(3, 2, 2)"
      ]
     },
     "execution_count": 51,
     "metadata": {},
     "output_type": "execute_result"
    }
   ],
   "source": [
    "arr3d.shape"
   ]
  },
  {
   "cell_type": "markdown",
   "metadata": {
    "id": "dPXMy4xuRKXj"
   },
   "source": [
    "### 3-2 범위 색인"
   ]
  },
  {
   "cell_type": "markdown",
   "metadata": {
    "id": "v0CcyHlURWc7"
   },
   "source": [
    "####1차원\n",
    "- arr[start:stop:step]\n",
    "- arr[::-1] # step이 음수인 경우 거꾸로 출력"
   ]
  },
  {
   "cell_type": "code",
   "execution_count": 2,
   "metadata": {
    "executionInfo": {
     "elapsed": 654,
     "status": "ok",
     "timestamp": 1630310566663,
     "user": {
      "displayName": "경하김",
      "photoUrl": "",
      "userId": "00010385631009285573"
     },
     "user_tz": -540
    },
    "id": "2cEULiGAlxK5"
   },
   "outputs": [],
   "source": [
    "import numpy as np"
   ]
  },
  {
   "cell_type": "code",
   "execution_count": 3,
   "metadata": {
    "executionInfo": {
     "elapsed": 301,
     "status": "ok",
     "timestamp": 1630310574157,
     "user": {
      "displayName": "경하김",
      "photoUrl": "",
      "userId": "00010385631009285573"
     },
     "user_tz": -540
    },
    "id": "eg6P7lSJgC8G"
   },
   "outputs": [],
   "source": [
    "arr = np.arange(10,20)"
   ]
  },
  {
   "cell_type": "code",
   "execution_count": 4,
   "metadata": {
    "executionInfo": {
     "elapsed": 4,
     "status": "ok",
     "timestamp": 1630310577880,
     "user": {
      "displayName": "경하김",
      "photoUrl": "",
      "userId": "00010385631009285573"
     },
     "user_tz": -540
    },
    "id": "TfrLJTD_FG7T"
   },
   "outputs": [],
   "source": [
    "arr2 = [20,40,65,80,30,10,65,55]"
   ]
  },
  {
   "cell_type": "code",
   "execution_count": 5,
   "metadata": {
    "colab": {
     "base_uri": "https://localhost:8080/"
    },
    "executionInfo": {
     "elapsed": 296,
     "status": "ok",
     "timestamp": 1630310580542,
     "user": {
      "displayName": "경하김",
      "photoUrl": "",
      "userId": "00010385631009285573"
     },
     "user_tz": -540
    },
    "id": "Vv1fGXicQj-4",
    "outputId": "96602fe2-0ec5-4704-93e2-2fe372f1dbd5"
   },
   "outputs": [
    {
     "data": {
      "text/plain": [
       "array([10, 11, 12, 13, 14, 15, 16, 17, 18, 19])"
      ]
     },
     "execution_count": 5,
     "metadata": {},
     "output_type": "execute_result"
    }
   ],
   "source": [
    "arr"
   ]
  },
  {
   "cell_type": "code",
   "execution_count": 7,
   "metadata": {
    "colab": {
     "base_uri": "https://localhost:8080/"
    },
    "executionInfo": {
     "elapsed": 305,
     "status": "ok",
     "timestamp": 1630310600380,
     "user": {
      "displayName": "경하김",
      "photoUrl": "",
      "userId": "00010385631009285573"
     },
     "user_tz": -540
    },
    "id": "gpvkMTjkhvfG",
    "outputId": "309a333c-52a0-4e1e-9ca1-e03ca2af6ffc"
   },
   "outputs": [
    {
     "data": {
      "text/plain": [
       "[55, 65, 10, 30, 80, 65, 40, 20]"
      ]
     },
     "execution_count": 7,
     "metadata": {},
     "output_type": "execute_result"
    }
   ],
   "source": [
    "# 정렬이 아닌 순서를 거꾸로 하는 것\n",
    "arr2[::-1]"
   ]
  },
  {
   "cell_type": "code",
   "execution_count": null,
   "metadata": {
    "colab": {
     "base_uri": "https://localhost:8080/"
    },
    "executionInfo": {
     "elapsed": 4,
     "status": "ok",
     "timestamp": 1630062408569,
     "user": {
      "displayName": "경하김",
      "photoUrl": "",
      "userId": "00010385631009285573"
     },
     "user_tz": -540
    },
    "id": "QszFFLpQRfWA",
    "outputId": "762b34f3-e912-4879-a38b-127437fcac3a"
   },
   "outputs": [
    {
     "data": {
      "text/plain": [
       "array([11, 12, 13, 14, 15, 16, 17, 18, 19])"
      ]
     },
     "execution_count": 74,
     "metadata": {},
     "output_type": "execute_result"
    }
   ],
   "source": [
    "# index 1이상 끝까지\n",
    "arr[1:]"
   ]
  },
  {
   "cell_type": "code",
   "execution_count": null,
   "metadata": {
    "colab": {
     "base_uri": "https://localhost:8080/"
    },
    "executionInfo": {
     "elapsed": 255,
     "status": "ok",
     "timestamp": 1630062410244,
     "user": {
      "displayName": "경하김",
      "photoUrl": "",
      "userId": "00010385631009285573"
     },
     "user_tz": -540
    },
    "id": "QxjEyWisRgrH",
    "outputId": "a45a4d8f-72f2-433a-fe0c-9c0532289c92"
   },
   "outputs": [
    {
     "data": {
      "text/plain": [
       "array([10, 11, 12, 13, 14])"
      ]
     },
     "execution_count": 75,
     "metadata": {},
     "output_type": "execute_result"
    }
   ],
   "source": [
    "# 처음 ~ (5-1)까지(5에서 stop)\n"
   ]
  },
  {
   "cell_type": "code",
   "execution_count": null,
   "metadata": {
    "colab": {
     "base_uri": "https://localhost:8080/"
    },
    "executionInfo": {
     "elapsed": 6,
     "status": "ok",
     "timestamp": 1630062411438,
     "user": {
      "displayName": "경하김",
      "photoUrl": "",
      "userId": "00010385631009285573"
     },
     "user_tz": -540
    },
    "id": "5eaqvZ2VRiS5",
    "outputId": "a5fdbfe7-6c2c-473a-9d6d-7ab039ab246a"
   },
   "outputs": [
    {
     "data": {
      "text/plain": [
       "array([11, 12, 13, 14])"
      ]
     },
     "execution_count": 76,
     "metadata": {},
     "output_type": "execute_result"
    }
   ],
   "source": [
    "# index 1 ~ (5-1)까지\n",
    "# array([11, 12, 13, 14])\n"
   ]
  },
  {
   "cell_type": "code",
   "execution_count": null,
   "metadata": {
    "id": "1gHdtnXqSH7m"
   },
   "outputs": [],
   "source": [
    "# 처음 ~ (마지막-1)까지(마지막에서 stop)\n",
    "# 결과 : array([10, 11, 12, 13, 14, 15, 16, 17, 18])\n"
   ]
  },
  {
   "cell_type": "code",
   "execution_count": null,
   "metadata": {
    "id": "pLrmpn82ggAl"
   },
   "outputs": [],
   "source": [
    "#arr[start:stop:step]\n",
    "# 결과 : array([10, 12, 14])\n"
   ]
  },
  {
   "cell_type": "code",
   "execution_count": null,
   "metadata": {
    "id": "ww6cXbZggoQm"
   },
   "outputs": [],
   "source": [
    "# 결과 : (array([10, 12, 14]), array([10, 11]))\n"
   ]
  },
  {
   "cell_type": "markdown",
   "metadata": {
    "id": "vvCZOzcHS2Y0"
   },
   "source": [
    "#### 2차원\n",
    "  \n",
    "arr2d[행start:행stop, 열start:열stop]"
   ]
  },
  {
   "cell_type": "code",
   "execution_count": null,
   "metadata": {
    "id": "5-UU85uESqdv"
   },
   "outputs": [],
   "source": [
    "arr2d = np.array([[1, 2, 3, 4], \n",
    "                  [5, 6, 7, 8], \n",
    "                  [9, 10, 11, 12]])"
   ]
  },
  {
   "cell_type": "code",
   "execution_count": null,
   "metadata": {
    "colab": {
     "base_uri": "https://localhost:8080/"
    },
    "executionInfo": {
     "elapsed": 260,
     "status": "ok",
     "timestamp": 1630202515020,
     "user": {
      "displayName": "경하김",
      "photoUrl": "",
      "userId": "00010385631009285573"
     },
     "user_tz": -540
    },
    "id": "lpcDkMg9S8hp",
    "outputId": "7a1db10d-be22-4c7e-a6d9-70f55d9fd344"
   },
   "outputs": [
    {
     "data": {
      "text/plain": [
       "array([1, 2, 3, 4])"
      ]
     },
     "execution_count": 13,
     "metadata": {},
     "output_type": "execute_result"
    }
   ],
   "source": [
    "# 인덱스 0 row(행) 모두 슬라싱하기\n",
    "# array([1, 2, 3, 4])\n"
   ]
  },
  {
   "cell_type": "code",
   "execution_count": null,
   "metadata": {
    "colab": {
     "base_uri": "https://localhost:8080/"
    },
    "executionInfo": {
     "elapsed": 259,
     "status": "ok",
     "timestamp": 1630202553355,
     "user": {
      "displayName": "경하김",
      "photoUrl": "",
      "userId": "00010385631009285573"
     },
     "user_tz": -540
    },
    "id": "UWJRW__gTjC9",
    "outputId": "d02d5115-86f9-491e-e015-9e4870c0fe10"
   },
   "outputs": [
    {
     "data": {
      "text/plain": [
       "array([ 3,  7, 11])"
      ]
     },
     "execution_count": 14,
     "metadata": {},
     "output_type": "execute_result"
    }
   ],
   "source": [
    "# 인덱스 2 column(열) 모두 슬라이싱하기\n",
    "# array([ 3,  7, 11])\n"
   ]
  },
  {
   "cell_type": "code",
   "execution_count": null,
   "metadata": {
    "id": "v2QNTlqyTx50"
   },
   "outputs": [],
   "source": [
    "# 부분적으로 슬라이싱하기\n",
    "# array([[1, 2, 3, 4], \n",
    "#       [5, 6, 7, 8]])\n"
   ]
  },
  {
   "cell_type": "code",
   "execution_count": null,
   "metadata": {
    "id": "n-RpT8kFUIZ5"
   },
   "outputs": [],
   "source": [
    "# 부분적으로 슬라이싱하기\n",
    "# array([[3, 4],\n",
    "#       [7, 8]])\n"
   ]
  },
  {
   "cell_type": "markdown",
   "metadata": {
    "id": "bd1GIyE4UY6x"
   },
   "source": [
    "#### 문제. 다음과 같이 슬라이싱하기\n",
    "- 행 : 1~3행까지, 열 : 1부터 모두\n"
   ]
  },
  {
   "cell_type": "code",
   "execution_count": null,
   "metadata": {
    "id": "maTbF9eIpcYr"
   },
   "outputs": [],
   "source": [
    "arr2d = np.array([[1, 2, 3, 4], \n",
    "                  [5, 6, 7, 8], \n",
    "                  [9, 10, 11, 12]])"
   ]
  },
  {
   "cell_type": "code",
   "execution_count": null,
   "metadata": {
    "id": "K9A9Gk5lUSsh"
   },
   "outputs": [],
   "source": [
    "#array([[ 6,  7,  8],\n",
    "#       [10, 11, 12]])\n"
   ]
  },
  {
   "cell_type": "markdown",
   "metadata": {
    "id": "Qq9xHsZNV628"
   },
   "source": [
    "# 5. Fancy 인덱싱\n",
    "fancy 인덱싱은 범위가 아닌 **특정 index의 값들을 추출**하고 싶을 때 사용  \n",
    "index list 업하여 적용하면 값을 추출할 수 있음  \n",
    "arr[[index list]]"
   ]
  },
  {
   "cell_type": "markdown",
   "metadata": {
    "id": "aeeWPHiDXpov"
   },
   "source": [
    "### 5-1 1차원 fancy 인덱싱"
   ]
  },
  {
   "cell_type": "code",
   "execution_count": null,
   "metadata": {
    "id": "rHpXElaEWQCu"
   },
   "outputs": [],
   "source": [
    "arr = np.array([10, 23, 2, 7, 90, 65, 32, 66, 70])"
   ]
  },
  {
   "cell_type": "code",
   "execution_count": null,
   "metadata": {
    "colab": {
     "base_uri": "https://localhost:8080/"
    },
    "executionInfo": {
     "elapsed": 319,
     "status": "ok",
     "timestamp": 1630063611841,
     "user": {
      "displayName": "경하김",
      "photoUrl": "",
      "userId": "00010385631009285573"
     },
     "user_tz": -540
    },
    "id": "4G-SdP2HXI4N",
    "outputId": "42fc4a8f-5ce0-4bef-b9e0-8c00b90e67e8"
   },
   "outputs": [
    {
     "data": {
      "text/plain": [
       "array([23,  2, 65])"
      ]
     },
     "execution_count": 97,
     "metadata": {},
     "output_type": "execute_result"
    }
   ],
   "source": [
    "# index를 list로 정의 해서 값을 추출\n",
    "arr[[1, 2, 5]]"
   ]
  },
  {
   "cell_type": "code",
   "execution_count": null,
   "metadata": {
    "colab": {
     "base_uri": "https://localhost:8080/"
    },
    "executionInfo": {
     "elapsed": 339,
     "status": "ok",
     "timestamp": 1630063572154,
     "user": {
      "displayName": "경하김",
      "photoUrl": "",
      "userId": "00010385631009285573"
     },
     "user_tz": -540
    },
    "id": "1jgOvLNuWXf-",
    "outputId": "d65418e9-861a-4b6b-dd07-f3a2139aad1e"
   },
   "outputs": [
    {
     "data": {
      "text/plain": [
       "array([23,  2, 65])"
      ]
     },
     "execution_count": 96,
     "metadata": {},
     "output_type": "execute_result"
    }
   ],
   "source": [
    "# index list를 idx 변수에 대입하여 추출\n",
    "# array([23,  2, 65])\n",
    "\n"
   ]
  },
  {
   "cell_type": "markdown",
   "metadata": {
    "id": "JQJEfcKSXfS2"
   },
   "source": [
    "### 5-2. 2차원 fancy 인덱싱\n",
    "\n",
    "arr2d[[요소1의 행, 요소2의 행], [요소1의 열, 요소2의 열]]"
   ]
  },
  {
   "cell_type": "code",
   "execution_count": null,
   "metadata": {
    "id": "WWMQih_EWgwx"
   },
   "outputs": [],
   "source": [
    "arr2d = np.array([[1, 2, 3, 4], \n",
    "                  [5, 6, 7, 8], \n",
    "                  [9, 10, 11, 12]])"
   ]
  },
  {
   "cell_type": "code",
   "execution_count": null,
   "metadata": {
    "id": "3NU_7AJsX6YG"
   },
   "outputs": [],
   "source": [
    "# arr2d[[행index],[열index]]\n",
    "# array([[ 1,  2,  3,  4],\n",
    "#       [ 9, 10, 11, 12]])\n"
   ]
  },
  {
   "cell_type": "code",
   "execution_count": null,
   "metadata": {
    "id": "QgZqWS1MX97b"
   },
   "outputs": [],
   "source": [
    "# array([[ 2,  4],\n",
    "#       [ 6,  8],\n",
    "#       [10, 12]])\n"
   ]
  },
  {
   "cell_type": "code",
   "execution_count": null,
   "metadata": {
    "id": "--0XnWA4K0eT"
   },
   "outputs": [],
   "source": [
    "# arr2d[[요소1의 행,요소2의 행],[요소1의 열, 요소2의 열]]\n",
    "# array([ 6, 11,  2])\n"
   ]
  },
  {
   "cell_type": "markdown",
   "metadata": {
    "id": "s44AGOUBYcOi"
   },
   "source": [
    "#6. Boolean index\n",
    "조건 필터링을 통하여 Boolean 값으로 색인"
   ]
  },
  {
   "cell_type": "markdown",
   "metadata": {
    "id": "zCd4X8mdY5lg"
   },
   "source": [
    "###6-1 True와 False 값으로 색인하기"
   ]
  },
  {
   "cell_type": "code",
   "execution_count": null,
   "metadata": {
    "colab": {
     "base_uri": "https://localhost:8080/"
    },
    "executionInfo": {
     "elapsed": 241,
     "status": "ok",
     "timestamp": 1630203276526,
     "user": {
      "displayName": "경하김",
      "photoUrl": "",
      "userId": "00010385631009285573"
     },
     "user_tz": -540
    },
    "id": "WqUuGvgWX_eC",
    "outputId": "76adfc73-f5e2-4372-aec5-c31fd2bc5b64"
   },
   "outputs": [
    {
     "data": {
      "text/plain": [
       "array([10, 20, 30, 40, 50, 60])"
      ]
     },
     "execution_count": 19,
     "metadata": {},
     "output_type": "execute_result"
    }
   ],
   "source": [
    "arr = np.array([10, 20, 30, 40, 50, 60])\n",
    "arr"
   ]
  },
  {
   "cell_type": "code",
   "execution_count": null,
   "metadata": {
    "id": "FvmeLIwDY3Fy"
   },
   "outputs": [],
   "source": [
    "TFset = [True, False, True]"
   ]
  },
  {
   "cell_type": "code",
   "execution_count": null,
   "metadata": {
    "id": "XFH6G7-uZDqP"
   },
   "outputs": [],
   "source": [
    "# 이렇게 하면 될까요?\n",
    "arr[TFset]"
   ]
  },
  {
   "cell_type": "code",
   "execution_count": null,
   "metadata": {
    "colab": {
     "base_uri": "https://localhost:8080/"
    },
    "executionInfo": {
     "elapsed": 278,
     "status": "ok",
     "timestamp": 1630066587986,
     "user": {
      "displayName": "경하김",
      "photoUrl": "",
      "userId": "00010385631009285573"
     },
     "user_tz": -540
    },
    "id": "8INKWYJHZIWZ",
    "outputId": "3af9fac1-3c10-492c-e294-c33ae7e28c57"
   },
   "outputs": [
    {
     "data": {
      "text/plain": [
       "array([10, 30, 40, 60])"
      ]
     },
     "execution_count": 156,
     "metadata": {},
     "output_type": "execute_result"
    }
   ],
   "source": [
    "# boolean 값을 list로 작성하여 색인, 배열의 갯수가 맞아야함.\n",
    "# 결과 : array([10, 30, 40, 60])\n"
   ]
  },
  {
   "cell_type": "markdown",
   "metadata": {
    "id": "7AU8MeYOscYw"
   },
   "source": [
    "2차원 boolean index"
   ]
  },
  {
   "cell_type": "code",
   "execution_count": null,
   "metadata": {
    "id": "W53JWv0Wc1wH"
   },
   "outputs": [],
   "source": [
    "arr2d = np.array([[1, 2, 3, 4], \n",
    "                  [5, 6, 7, 8], \n",
    "                  [9, 10, 11, 12]])"
   ]
  },
  {
   "cell_type": "code",
   "execution_count": null,
   "metadata": {
    "id": "X3bYGFvec7g0"
   },
   "outputs": [],
   "source": [
    "# boolean list로 정의, 행단위로 정의\n",
    "TFset = [True,False,True]"
   ]
  },
  {
   "cell_type": "code",
   "execution_count": null,
   "metadata": {
    "id": "jfeDbQu5hl1t"
   },
   "outputs": [],
   "source": [
    "#array([[ 1,  2,  3,  4],\n",
    "#       [ 9, 10, 11, 12]])\n"
   ]
  },
  {
   "cell_type": "markdown",
   "metadata": {
    "id": "ns9J_IG0aFJP"
   },
   "source": [
    "### 6-2 조건 필터\n",
    "비교 연산자를 활용하여 필터를 생성 함\n",
    "- arr2d[조건필터]"
   ]
  },
  {
   "cell_type": "code",
   "execution_count": null,
   "metadata": {
    "colab": {
     "base_uri": "https://localhost:8080/"
    },
    "executionInfo": {
     "elapsed": 262,
     "status": "ok",
     "timestamp": 1630064425766,
     "user": {
      "displayName": "경하김",
      "photoUrl": "",
      "userId": "00010385631009285573"
     },
     "user_tz": -540
    },
    "id": "OjPJ3nqeZi7U",
    "outputId": "87d2845c-a2d6-4460-b007-174dc1f7087e"
   },
   "outputs": [
    {
     "data": {
      "text/plain": [
       "array([[False, False,  True,  True],\n",
       "       [ True,  True,  True,  True],\n",
       "       [ True,  True,  True,  True]])"
      ]
     },
     "execution_count": 117,
     "metadata": {},
     "output_type": "execute_result"
    }
   ],
   "source": [
    "# ndarray 조건식\n",
    "# ndarray에 조건식을 주면 boolean 값 반환\n",
    "arr2d > 2"
   ]
  },
  {
   "cell_type": "code",
   "execution_count": null,
   "metadata": {
    "colab": {
     "base_uri": "https://localhost:8080/"
    },
    "executionInfo": {
     "elapsed": 309,
     "status": "ok",
     "timestamp": 1630064636229,
     "user": {
      "displayName": "경하김",
      "photoUrl": "",
      "userId": "00010385631009285573"
     },
     "user_tz": -540
    },
    "id": "zfU8GDI1anlq",
    "outputId": "aea554ac-9efc-479d-edca-0a0e38d058fd"
   },
   "outputs": [
    {
     "data": {
      "text/plain": [
       "array([ 3,  4,  5,  6,  7,  8,  9, 10, 11, 12])"
      ]
     },
     "execution_count": 121,
     "metadata": {},
     "output_type": "execute_result"
    }
   ],
   "source": [
    "# arr2d[조건필터]\n",
    "arr2d[ arr2d > 2 ]"
   ]
  },
  {
   "cell_type": "code",
   "execution_count": null,
   "metadata": {
    "colab": {
     "base_uri": "https://localhost:8080/"
    },
    "executionInfo": {
     "elapsed": 4,
     "status": "ok",
     "timestamp": 1630064637019,
     "user": {
      "displayName": "경하김",
      "photoUrl": "",
      "userId": "00010385631009285573"
     },
     "user_tz": -540
    },
    "id": "FVL6agf9bDiW",
    "outputId": "b9661d2d-2aa9-4f39-976f-40092956fee7"
   },
   "outputs": [
    {
     "data": {
      "text/plain": [
       "array([1, 2, 3, 4])"
      ]
     },
     "execution_count": 122,
     "metadata": {},
     "output_type": "execute_result"
    }
   ],
   "source": [
    "arr2d[ arr2d < 5 ]"
   ]
  },
  {
   "cell_type": "markdown",
   "metadata": {
    "id": "mWTsLRxabNtv"
   },
   "source": [
    "[문제] 다음을 완성해 보세요. \n",
    "- shape (3,2,4) ndarray를 만든다. 데이터는 1~24까지 다양하게 들어가도록 한다.\n",
    "- 조건필터 : 11보다 큰값 출력\n"
   ]
  },
  {
   "cell_type": "code",
   "execution_count": null,
   "metadata": {
    "id": "XpPSCoS3baQk"
   },
   "outputs": [],
   "source": [
    "arr3d = [[[1,2,3,4],\n",
    "         [5,6,7,8]],\n",
    "         [[9,10,11,12],\n",
    "         [13,14,15,4]],\n",
    "         [[5,6,7,8],\n",
    "         [9,10,11,12]]]\n",
    "arr3d = np.array(arr3d)"
   ]
  },
  {
   "cell_type": "code",
   "execution_count": null,
   "metadata": {
    "colab": {
     "base_uri": "https://localhost:8080/"
    },
    "executionInfo": {
     "elapsed": 257,
     "status": "ok",
     "timestamp": 1630064973039,
     "user": {
      "displayName": "경하김",
      "photoUrl": "",
      "userId": "00010385631009285573"
     },
     "user_tz": -540
    },
    "id": "cXUA6ehqcGfT",
    "outputId": "42348a2d-bd7c-4e39-f650-8ccd1aa57143"
   },
   "outputs": [
    {
     "data": {
      "text/plain": [
       "(3, 2, 4)"
      ]
     },
     "execution_count": 129,
     "metadata": {},
     "output_type": "execute_result"
    }
   ],
   "source": [
    "# shape 출력 \n"
   ]
  },
  {
   "cell_type": "code",
   "execution_count": null,
   "metadata": {
    "colab": {
     "base_uri": "https://localhost:8080/"
    },
    "executionInfo": {
     "elapsed": 357,
     "status": "ok",
     "timestamp": 1630065078247,
     "user": {
      "displayName": "경하김",
      "photoUrl": "",
      "userId": "00010385631009285573"
     },
     "user_tz": -540
    },
    "id": "tmvOxkslcJMz",
    "outputId": "9f2330c9-e701-4af6-f3bd-3c9801ca0531"
   },
   "outputs": [
    {
     "data": {
      "text/plain": [
       "array([12, 13, 14, 15, 12])"
      ]
     },
     "execution_count": 132,
     "metadata": {},
     "output_type": "execute_result"
    }
   ],
   "source": []
  },
  {
   "cell_type": "markdown",
   "metadata": {
    "id": "DdoNVpoRUwHp"
   },
   "source": [
    "-----------\n",
    "# 2차원 boolindex 부연설명\n",
    "\n",
    "각 names의 성분(7개 열)에 따라 ---> data의 각 행 대응된다고 생각해 보자.  \n",
    "예를 들어 aaa라는 사람은 1행, bbb는 2행에 대응 된다고 생각하고 아래처럼 array 조건문을 입력해 보자"
   ]
  },
  {
   "cell_type": "code",
   "execution_count": 8,
   "metadata": {
    "executionInfo": {
     "elapsed": 756,
     "status": "ok",
     "timestamp": 1630314725261,
     "user": {
      "displayName": "경하김",
      "photoUrl": "",
      "userId": "00010385631009285573"
     },
     "user_tz": -540
    },
    "id": "8-qSJyusVGQR"
   },
   "outputs": [],
   "source": [
    "names = np.array([\"aaa\", \"bbb\",\"ccc\", \"ddd\", \"eee\", \"fff\", \"ggg\"])\n",
    "data = np.random.rand(7,4)"
   ]
  },
  {
   "cell_type": "code",
   "execution_count": 14,
   "metadata": {
    "colab": {
     "base_uri": "https://localhost:8080/"
    },
    "executionInfo": {
     "elapsed": 289,
     "status": "ok",
     "timestamp": 1630315052368,
     "user": {
      "displayName": "경하김",
      "photoUrl": "",
      "userId": "00010385631009285573"
     },
     "user_tz": -540
    },
    "id": "jgUTcFR3VHkR",
    "outputId": "b87df90b-a4c2-4b6e-fc72-5651ef249654"
   },
   "outputs": [
    {
     "data": {
      "text/plain": [
       "array(['aaa', 'bbb', 'ccc', 'ddd', 'eee', 'fff', 'ggg'], dtype='<U3')"
      ]
     },
     "execution_count": 14,
     "metadata": {},
     "output_type": "execute_result"
    }
   ],
   "source": [
    "names"
   ]
  },
  {
   "cell_type": "code",
   "execution_count": 13,
   "metadata": {
    "colab": {
     "base_uri": "https://localhost:8080/"
    },
    "executionInfo": {
     "elapsed": 298,
     "status": "ok",
     "timestamp": 1630315049312,
     "user": {
      "displayName": "경하김",
      "photoUrl": "",
      "userId": "00010385631009285573"
     },
     "user_tz": -540
    },
    "id": "GiBeoat1WWCx",
    "outputId": "251891f4-3aae-488c-a385-ce1735775d10"
   },
   "outputs": [
    {
     "data": {
      "text/plain": [
       "array([[0.70412234, 0.1051641 , 0.90924685, 0.61497472],\n",
       "       [0.90230754, 0.17401736, 0.43687024, 0.99903732],\n",
       "       [0.48169292, 0.410346  , 0.20613698, 0.2223068 ],\n",
       "       [0.96355469, 0.1454321 , 0.41573014, 0.9797085 ],\n",
       "       [0.44719536, 0.89679357, 0.20846717, 0.99125197],\n",
       "       [0.64939105, 0.46332717, 0.05419308, 0.21729012],\n",
       "       [0.98127276, 0.39942914, 0.02701573, 0.363234  ]])"
      ]
     },
     "execution_count": 13,
     "metadata": {},
     "output_type": "execute_result"
    }
   ],
   "source": [
    "data"
   ]
  },
  {
   "cell_type": "code",
   "execution_count": 15,
   "metadata": {
    "colab": {
     "base_uri": "https://localhost:8080/"
    },
    "executionInfo": {
     "elapsed": 289,
     "status": "ok",
     "timestamp": 1630315079372,
     "user": {
      "displayName": "경하김",
      "photoUrl": "",
      "userId": "00010385631009285573"
     },
     "user_tz": -540
    },
    "id": "a-Ka-q5DWcKv",
    "outputId": "b642197d-26a3-47a3-b0ec-f83fedcc62b7"
   },
   "outputs": [
    {
     "data": {
      "text/plain": [
       "array([ True, False, False, False, False, False, False])"
      ]
     },
     "execution_count": 15,
     "metadata": {},
     "output_type": "execute_result"
    }
   ],
   "source": [
    "names == \"aaa\""
   ]
  },
  {
   "cell_type": "code",
   "execution_count": 10,
   "metadata": {
    "colab": {
     "base_uri": "https://localhost:8080/"
    },
    "executionInfo": {
     "elapsed": 678,
     "status": "ok",
     "timestamp": 1630314763069,
     "user": {
      "displayName": "경하김",
      "photoUrl": "",
      "userId": "00010385631009285573"
     },
     "user_tz": -540
    },
    "id": "2Oq2BA9PVJ4S",
    "outputId": "4937bd3f-a3dd-43ec-e538-f8a6fc6c93c5"
   },
   "outputs": [
    {
     "data": {
      "text/plain": [
       "array([[0.70412234, 0.1051641 , 0.90924685, 0.61497472]])"
      ]
     },
     "execution_count": 10,
     "metadata": {},
     "output_type": "execute_result"
    }
   ],
   "source": [
    "data[names == \"aaa\", :]"
   ]
  },
  {
   "cell_type": "code",
   "execution_count": 11,
   "metadata": {
    "colab": {
     "base_uri": "https://localhost:8080/"
    },
    "executionInfo": {
     "elapsed": 493,
     "status": "ok",
     "timestamp": 1630314774968,
     "user": {
      "displayName": "경하김",
      "photoUrl": "",
      "userId": "00010385631009285573"
     },
     "user_tz": -540
    },
    "id": "sGgZWjrRVQ18",
    "outputId": "c23b5db2-53a5-4344-dba2-46d1eed62dee"
   },
   "outputs": [
    {
     "data": {
      "text/plain": [
       "array([False, False,  True, False, False, False, False])"
      ]
     },
     "execution_count": 11,
     "metadata": {},
     "output_type": "execute_result"
    }
   ],
   "source": [
    "names ==\"ccc\""
   ]
  },
  {
   "cell_type": "code",
   "execution_count": 12,
   "metadata": {
    "colab": {
     "base_uri": "https://localhost:8080/"
    },
    "executionInfo": {
     "elapsed": 277,
     "status": "ok",
     "timestamp": 1630314782263,
     "user": {
      "displayName": "경하김",
      "photoUrl": "",
      "userId": "00010385631009285573"
     },
     "user_tz": -540
    },
    "id": "vxh8exI0VTzi",
    "outputId": "ddf677f6-cf09-4f0d-89a7-3a95752c5957"
   },
   "outputs": [
    {
     "data": {
      "text/plain": [
       "array([[0.48169292, 0.410346  , 0.20613698, 0.2223068 ]])"
      ]
     },
     "execution_count": 12,
     "metadata": {},
     "output_type": "execute_result"
    }
   ],
   "source": [
    "data[names==\"ccc\", :]"
   ]
  },
  {
   "cell_type": "markdown",
   "metadata": {
    "id": "epLa-NccXBvg"
   },
   "source": [
    "[문제] 'ggg'에 대응되는 값을 추출해 보세요."
   ]
  },
  {
   "cell_type": "code",
   "execution_count": null,
   "metadata": {
    "id": "YlkbMqMlXX2i"
   },
   "outputs": [],
   "source": []
  }
 ],
 "metadata": {
  "colab": {
   "collapsed_sections": [
    "GX81OuGvNSWJ"
   ],
   "name": "1.[실습배포]numpy -ndarray_slicing_indexing.ipynb",
   "provenance": []
  },
  "kernelspec": {
   "display_name": "Python 3 (ipykernel)",
   "language": "python",
   "name": "python3"
  },
  "language_info": {
   "codemirror_mode": {
    "name": "ipython",
    "version": 3
   },
   "file_extension": ".py",
   "mimetype": "text/x-python",
   "name": "python",
   "nbconvert_exporter": "python",
   "pygments_lexer": "ipython3",
   "version": "3.8.10"
  }
 },
 "nbformat": 4,
 "nbformat_minor": 1
}
