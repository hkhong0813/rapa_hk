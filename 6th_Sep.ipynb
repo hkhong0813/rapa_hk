{
 "cells": [
  {
   "cell_type": "code",
   "execution_count": 1,
   "id": "56394c39",
   "metadata": {},
   "outputs": [
    {
     "name": "stdout",
     "output_type": "stream",
     "text": [
      "c:\\python\\python38\\lib\\os.py\n",
      "1 \n",
      "2 C:\\python\\rapa\\hkhong.txt\n",
      "3 c:\\python\\rapa\\hkhong.txt\n",
      "4 c:\\python\\rapa\n",
      "5 C:\\python\\rapa\n"
     ]
    }
   ],
   "source": [
    "import os\n",
    "print(os.__file__)\n",
    "print(1, os.path.dirname('hkhong.txt')) #디렉토리 경로 출력\n",
    "print(2, os.path.realpath('hkhong.txt'))\n",
    "print(3, os.path.abspath('hkhong.txt'))\n",
    "print(4, os.getcwd())\n",
    "print(5, os.path.dirname(os.path.realpath('hkhong.txt')))\n",
    "\n"
   ]
  },
  {
   "cell_type": "code",
   "execution_count": 2,
   "id": "35aaaf2c",
   "metadata": {},
   "outputs": [
    {
     "name": "stdout",
     "output_type": "stream",
     "text": [
      "['.ipynb_checkpoints', '01-파이썬-기초명령어.ipynb', '02.파이썬 기초.ipynb', '03.파이썬 기초.ipynb', '04.파이썬기초.ipynb', '05.파이썬기초.ipynb', '06.파이썬기초.ipynb', '07.파이썬기초.ipynb', '08.Numpy.ipynb', '0831_Numpy.ipynb', '09.Numpy.ipynb', '1.[실습배포]numpy -ndarray_slicing_indexing.ipynb', '2.[실습배포]numpy - arange_range_sort_numpy함수.ipynb', '3.[실습배포]numpy - matrix(행렬연산)_브로드캐스팅.ipynb', '6th_Sep.ipynb', 'hkhong.txt']\n"
     ]
    }
   ],
   "source": [
    "print(os.listdir(os.getcwd())) #현재 디렉토리에 있는 파일목록 가져오기"
   ]
  },
  {
   "cell_type": "code",
   "execution_count": 3,
   "id": "ca3667c3",
   "metadata": {},
   "outputs": [
    {
     "name": "stdout",
     "output_type": "stream",
     "text": [
      "c:\\python\n"
     ]
    }
   ],
   "source": [
    "dir = '../'\n",
    "os.chdir(dir)\n",
    "path = os.getcwd()\n",
    "print(path) # 디렉토리 위치 변경하기\n",
    "\n"
   ]
  },
  {
   "cell_type": "code",
   "execution_count": 4,
   "id": "78176a83",
   "metadata": {},
   "outputs": [],
   "source": [
    "def createFolder(directory): # 디렉토리 생성하기\n",
    "    try:\n",
    "        if not os.path.exists(directory):\n",
    "            os.makedirs(directory)\n",
    "        else:\n",
    "            print('이미 해당 디렉토리가 있습니다.')\n",
    "    except OSError:\n",
    "        print('Error: Creating directory.' + directory)\n",
    "        \n",
    "dirname ='C:\\python/rapa/data'\n",
    "createFolder(dirname)"
   ]
  },
  {
   "cell_type": "code",
   "execution_count": 5,
   "id": "a5f83ad6",
   "metadata": {},
   "outputs": [],
   "source": [
    "def deleteFolder(directory): # 디렉토리 삭제하기\n",
    "    try:\n",
    "        \n",
    "        if os.path.exists(directory):\n",
    "            os.rmdir(directory)\n",
    "        else:\n",
    "            print('삭제할 파일이 없습니다.')\n",
    "    except OSError:\n",
    "        print('Error: deleting directory.' + directory)\n",
    "        \n",
    "dirname ='C:\\python/rapa/data'\n",
    "deleteFolder(dirname)"
   ]
  },
  {
   "cell_type": "code",
   "execution_count": 6,
   "id": "14bb556f",
   "metadata": {},
   "outputs": [
    {
     "name": "stdout",
     "output_type": "stream",
     "text": [
      "프린트 옵션이 꺼져있어요.\n",
      "None\n",
      "['.ipynb_checkpoints', '01-파이썬-기초명령어.ipynb', '02.파이썬 기초.ipynb', '03.파이썬 기초.ipynb', '04.파이썬기초.ipynb', '05.파이썬기초.ipynb', '06.파이썬기초.ipynb', '07.파이썬기초.ipynb', '08.Numpy.ipynb', '0831_Numpy.ipynb', '09.Numpy.ipynb', '1.[실습배포]numpy -ndarray_slicing_indexing.ipynb', '2.[실습배포]numpy - arange_range_sort_numpy함수.ipynb', '3.[실습배포]numpy - matrix(행렬연산)_브로드캐스팅.ipynb', '6th_Sep.ipynb', 'hkhong.txt']\n",
      "None\n",
      "프린트 옵션이 꺼져있어요.\n",
      "None\n"
     ]
    }
   ],
   "source": [
    "def getDirList(dirname, printOption = False): # 디렉토리 위치에 있는 파일 목록을 모두 출력\n",
    "    if printOption:\n",
    "        print(os.listdir(dirname))\n",
    "    \n",
    "    else:\n",
    "        print('프린트 옵션이 꺼져있어요.')\n",
    "    \n",
    "print(getDirList('./'))\n",
    "print(getDirList('C:\\python/rapa', True))\n",
    "print(getDirList('../', False))\n",
    "    "
   ]
  },
  {
   "cell_type": "code",
   "execution_count": 7,
   "id": "72e34127",
   "metadata": {},
   "outputs": [],
   "source": [
    "f = open('C:\\python/rapa/새파일.txt','w')\n",
    "f.close()"
   ]
  },
  {
   "cell_type": "code",
   "execution_count": 9,
   "id": "e2cf3038",
   "metadata": {},
   "outputs": [],
   "source": [
    "f = open('C:\\python/rapa/새파일.txt','w')\n",
    "for i in range(1,11):\n",
    "    data = \"%d 번째 줄입니다. \\n\" %i\n",
    "    f.write(data)\n",
    "f.close()"
   ]
  },
  {
   "cell_type": "code",
   "execution_count": 10,
   "id": "b76bff26",
   "metadata": {},
   "outputs": [],
   "source": [
    "f = open('C:\\python/rapa/새파일.txt','a')\n",
    "for i in range(11,21):\n",
    "    data = \"%d 번째 줄입니다. \\n\" %i\n",
    "    f.write(data)\n",
    "f.close()"
   ]
  },
  {
   "cell_type": "code",
   "execution_count": 11,
   "id": "fafb24ef",
   "metadata": {},
   "outputs": [
    {
     "name": "stdout",
     "output_type": "stream",
     "text": [
      "1 번째 줄입니다. \n",
      "\n"
     ]
    }
   ],
   "source": [
    "f = open('C:\\python/rapa/새파일.txt','r')\n",
    "line = f.readline()\n",
    "print(line)\n",
    "f.close()"
   ]
  },
  {
   "cell_type": "code",
   "execution_count": 12,
   "id": "2b6c4e71",
   "metadata": {},
   "outputs": [
    {
     "name": "stdout",
     "output_type": "stream",
     "text": [
      "1 번째 줄입니다. \n",
      "\n",
      "2 번째 줄입니다. \n",
      "\n",
      "3 번째 줄입니다. \n",
      "\n",
      "4 번째 줄입니다. \n",
      "\n",
      "5 번째 줄입니다. \n",
      "\n",
      "6 번째 줄입니다. \n",
      "\n",
      "7 번째 줄입니다. \n",
      "\n",
      "8 번째 줄입니다. \n",
      "\n",
      "9 번째 줄입니다. \n",
      "\n",
      "10 번째 줄입니다. \n",
      "\n",
      "11 번째 줄입니다. \n",
      "\n",
      "12 번째 줄입니다. \n",
      "\n",
      "13 번째 줄입니다. \n",
      "\n",
      "14 번째 줄입니다. \n",
      "\n",
      "15 번째 줄입니다. \n",
      "\n",
      "16 번째 줄입니다. \n",
      "\n",
      "17 번째 줄입니다. \n",
      "\n",
      "18 번째 줄입니다. \n",
      "\n",
      "19 번째 줄입니다. \n",
      "\n",
      "20 번째 줄입니다. \n",
      "\n"
     ]
    }
   ],
   "source": [
    "f = open('C:\\python/rapa/새파일.txt','r')\n",
    "while True:\n",
    "    line = f.readline()\n",
    "    if not line: break\n",
    "    print(line)\n",
    "f.close()"
   ]
  },
  {
   "cell_type": "code",
   "execution_count": 13,
   "id": "11bc40be",
   "metadata": {},
   "outputs": [
    {
     "name": "stdout",
     "output_type": "stream",
     "text": [
      "1 번째 줄입니다. \n",
      "\n",
      "2 번째 줄입니다. \n",
      "\n",
      "3 번째 줄입니다. \n",
      "\n",
      "4 번째 줄입니다. \n",
      "\n",
      "5 번째 줄입니다. \n",
      "\n",
      "6 번째 줄입니다. \n",
      "\n",
      "7 번째 줄입니다. \n",
      "\n",
      "8 번째 줄입니다. \n",
      "\n",
      "9 번째 줄입니다. \n",
      "\n",
      "10 번째 줄입니다. \n",
      "\n",
      "11 번째 줄입니다. \n",
      "\n",
      "12 번째 줄입니다. \n",
      "\n",
      "13 번째 줄입니다. \n",
      "\n",
      "14 번째 줄입니다. \n",
      "\n",
      "15 번째 줄입니다. \n",
      "\n",
      "16 번째 줄입니다. \n",
      "\n",
      "17 번째 줄입니다. \n",
      "\n",
      "18 번째 줄입니다. \n",
      "\n",
      "19 번째 줄입니다. \n",
      "\n",
      "20 번째 줄입니다. \n",
      "\n"
     ]
    }
   ],
   "source": [
    "f = open('C:\\python/rapa/새파일.txt','r')\n",
    "\n",
    "lines = f.readlines()\n",
    "\n",
    "for line in lines:\n",
    "    print(line)\n",
    "\n",
    "f.close()"
   ]
  },
  {
   "cell_type": "code",
   "execution_count": 14,
   "id": "015cd2cf",
   "metadata": {},
   "outputs": [
    {
     "name": "stdout",
     "output_type": "stream",
     "text": [
      "1 번째 줄입니다. \n",
      "2 번째 줄입니다. \n",
      "3 번째 줄입니다. \n",
      "4 번째 줄입니다. \n",
      "5 번째 줄입니다. \n",
      "6 번째 줄입니다. \n",
      "7 번째 줄입니다. \n",
      "8 번째 줄입니다. \n",
      "9 번째 줄입니다. \n",
      "10 번째 줄입니다. \n",
      "11 번째 줄입니다. \n",
      "12 번째 줄입니다. \n",
      "13 번째 줄입니다. \n",
      "14 번째 줄입니다. \n",
      "15 번째 줄입니다. \n",
      "16 번째 줄입니다. \n",
      "17 번째 줄입니다. \n",
      "18 번째 줄입니다. \n",
      "19 번째 줄입니다. \n",
      "20 번째 줄입니다. \n",
      "\n"
     ]
    }
   ],
   "source": [
    "f = open('C:\\python/rapa/새파일.txt','r')\n",
    "data = f.read()\n",
    "print(data)\n",
    "f.close()"
   ]
  },
  {
   "cell_type": "code",
   "execution_count": 15,
   "id": "082a38df",
   "metadata": {},
   "outputs": [],
   "source": [
    "with open('C:\\python/rapa/test.txt','w') as f:\n",
    "    for i in range(1,11):\n",
    "        data = '%d 번째 줄입니다. \\n' %i\n",
    "        f.write(data)"
   ]
  },
  {
   "cell_type": "code",
   "execution_count": 17,
   "id": "df247d20",
   "metadata": {},
   "outputs": [
    {
     "name": "stdout",
     "output_type": "stream",
     "text": [
      "1 번째 줄입니다. \n",
      "2 번째 줄입니다. \n",
      "3 번째 줄입니다. \n",
      "4 번째 줄입니다. \n",
      "5 번째 줄입니다. \n",
      "6 번째 줄입니다. \n",
      "7 번째 줄입니다. \n",
      "8 번째 줄입니다. \n",
      "9 번째 줄입니다. \n",
      "10 번째 줄입니다. \n",
      "\n",
      "1 번째 사람입니다. \n",
      "2 번째 사람입니다. \n",
      "3 번째 사람입니다. \n",
      "4 번째 사람입니다. \n",
      "5 번째 사람입니다. \n",
      "6 번째 사람입니다. \n",
      "7 번째 사람입니다. \n",
      "8 번째 사람입니다. \n",
      "9 번째 사람입니다. \n",
      "10 번째 사람입니다. \n",
      "\n",
      "end\n"
     ]
    }
   ],
   "source": [
    "with open('C:\\python/rapa/test.txt','r+') as f:\n",
    "    data = f.read()\n",
    "    print(data)\n",
    "    data = data.replace('줄','사람')\n",
    "    print(data)\n",
    "    f.write(data)\n",
    "    print('end')"
   ]
  },
  {
   "cell_type": "code",
   "execution_count": 19,
   "id": "79dbc2ad",
   "metadata": {},
   "outputs": [
    {
     "name": "stdout",
     "output_type": "stream",
     "text": [
      "[C:\\python/rapa/새파일2.txt]파일이 없습니다\n"
     ]
    }
   ],
   "source": [
    "import os\n",
    "file = 'C:\\python/rapa/새파일2.txt'\n",
    "if os.path.isfile(file):\n",
    "    os.remove(file)\n",
    "    print('[%s]파일이 삭제되었습니다'%file)\n",
    "else:\n",
    "    print('[%s]파일이 없습니다'%file)"
   ]
  },
  {
   "cell_type": "code",
   "execution_count": 23,
   "id": "ccf8dda2",
   "metadata": {},
   "outputs": [
    {
     "data": {
      "text/plain": [
       "'C:\\\\python/rapa/copy.txt'"
      ]
     },
     "execution_count": 23,
     "metadata": {},
     "output_type": "execute_result"
    }
   ],
   "source": [
    "import shutil\n",
    "shutil.copy('C:\\python/rapa/새파일.txt','C:\\python/rapa/copy.txt')"
   ]
  },
  {
   "cell_type": "code",
   "execution_count": 25,
   "id": "ff45d540",
   "metadata": {},
   "outputs": [],
   "source": [
    "with open('C:\\python/rapa/sample.txt','w') as f :\n",
    "    import random\n",
    "    for _ in range(10):\n",
    "        f.write('%d \\n'%(random.randint(1,100)))\n",
    "    "
   ]
  },
  {
   "cell_type": "code",
   "execution_count": 78,
   "id": "dfbbd0d0",
   "metadata": {},
   "outputs": [],
   "source": [
    "with open('C:\\python/rapa/sample.txt','r') as f:\n",
    "    lines = f.readlines()\n",
    "    lst = []\n",
    "    \n",
    "    \n",
    "    \n",
    "    for line in lines:\n",
    "        lst.append(int(line))\n",
    "    Num = str(lst)\n",
    "    hap = sum(lst)\n",
    "    avg = hap/len(lst)\n",
    "    with open('C:\\python/rapa/result.txt','w') as f2:\n",
    "        \n",
    "        f2.write('%s의 \\n'%Num)\n",
    "        f2.write('총합은 %d 입니다.\\n'%(hap))\n",
    "        f2.write('평균은 %d 입니다.'%(avg))\n",
    "            \n",
    "   "
   ]
  },
  {
   "cell_type": "code",
   "execution_count": null,
   "id": "a50ebf95",
   "metadata": {},
   "outputs": [],
   "source": [
    "dicText = {\n",
    "    '13' : '20',\n",
    "    '토트넘':'맨체스터유나이티드',\n",
    "    '해리 케인':'박지성',\n",
    "    '손흥민':'이승우'\n",
    "}"
   ]
  },
  {
   "cell_type": "code",
   "execution_count": null,
   "id": "18740485",
   "metadata": {},
   "outputs": [],
   "source": []
  }
 ],
 "metadata": {
  "kernelspec": {
   "display_name": "Python 3 (ipykernel)",
   "language": "python",
   "name": "python3"
  },
  "language_info": {
   "codemirror_mode": {
    "name": "ipython",
    "version": 3
   },
   "file_extension": ".py",
   "mimetype": "text/x-python",
   "name": "python",
   "nbconvert_exporter": "python",
   "pygments_lexer": "ipython3",
   "version": "3.8.10"
  }
 },
 "nbformat": 4,
 "nbformat_minor": 5
}
