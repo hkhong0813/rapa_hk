{
 "cells": [
  {
   "cell_type": "markdown",
   "metadata": {},
   "source": [
    "# 8.네이버 오픈API 사용하기"
   ]
  },
  {
   "cell_type": "markdown",
   "metadata": {},
   "source": [
    "### 책 검색\n",
    " - 책검색 https://book.naver.com/\n",
    " - 네이버오픈API https://developers.naver.com/products/intro/plan/ \n",
    " - API사용신청 https://developers.naver.com/apps/#/register \n"
   ]
  },
  {
   "cell_type": "code",
   "execution_count": 2,
   "metadata": {},
   "outputs": [
    {
     "name": "stdout",
     "output_type": "stream",
     "text": [
      "검색 도서명: open-cv\n",
      "\n",
      "제목: OpenCV 4로 배우는 컴퓨터 비전과 머신 러닝 (컴퓨터 비전 기초부터 딥러닝 활용까지!)\n",
      "저자: 황선규\n",
      "설명: 컴퓨터 비전 기초부터 딥러닝 활용까지!\n",
      "컴퓨터 비전은 컴퓨터를 이용하여 정지 영상 또는 동영상으로부터 의미 있는 정보를 추출하는 학문이다. 즉, 사람의 눈과 뇌가 하는 작업을 수학적 알고리즘을 통해 컴퓨터가 수행할 수 있도록 만드는 작업이다. 컴퓨터가 사물을 인식하게끔... \n",
      "url: http://book.naver.com/bookdb/book_detail.php?bid=14722394\n",
      "\n",
      "\n",
      "\n",
      "제목: OpenCV-Python으로 배우는 영상처리 및 응용\n",
      "저자: 정성환\n",
      "설명: 『OPENCV-PYTHON으로 배우는 영상 처리 및 응용』 은 〈영상처리란 무엇인가?〉, 〈영상처리의 수준〉, 〈영상처리의 역사〉, 〈디지털 영상의 표현과 영상처리〉, 〈OPENCV와 파이썬 개요〉, 〈파이썬(PYTHON) 설치 및 사용〉 등을 수록하고 있는 책이다.\n",
      "url: http://book.naver.com/bookdb/book_detail.php?bid=17526674\n",
      "\n",
      "\n",
      "\n",
      "제목: C#과 파이썬을 활용한 OpenCV 4 프로그래밍 (컴퓨터 비전 기초 이론부터 머신러닝을 활용한 영상 처리 프로젝트까지)\n",
      "저자: 윤대희\n",
      "설명: 이 책은 컴퓨터 비전 기초 이론을 비롯해 OPENCV에서 가장 많이 활용되는 기능들을 설명하고 이미지 데이터에서 유의미한 정보를 찾는 방식을 다룹니다. 또한 C#과 파이썬이라는 두 가지 프로그래밍 언어로 구성돼 있어 C#이나 파이썬 개발자분들이 손쉽게 OPENCV를 배울 수 있는 영상처리... \n",
      "url: http://book.naver.com/bookdb/book_detail.php?bid=18872549\n",
      "\n",
      "\n"
     ]
    }
   ],
   "source": [
    "import urllib.request\n",
    "import json\n",
    "\n",
    "#------------------------------------\n",
    "# 네이버 애플리케이션 등록 정보\n",
    "#------------------------------------\n",
    "Client_ID = \"WlIpA7IkqcaBRP6XKyUk\"  # 자신의 client id \n",
    "Client_Secret = \"pIew6Mp_Fr\"    # 자신의 client secret\n",
    "\n",
    "#------------------------------------\n",
    "#  검색어 입력받아 네이버검색 url 설정\n",
    "#------------------------------------\n",
    "# 검색어 입력\n",
    "title = input(\"검색 도서명: \")\n",
    "\n",
    "# url설정\n",
    "url = \"https://openapi.naver.com/v1/search/book.json\"\n",
    "option = \"&display=3&sort=count\"    \n",
    "query = \"?query=\"+urllib.parse.quote(title)\n",
    "url_query = url + query + option\n",
    "    \n",
    "#Open API 검색 요청 개체 설정\n",
    "request = urllib.request.Request(url_query)\n",
    "request.add_header(\"X-Naver-Client-Id\", Client_ID)\n",
    "request.add_header(\"X-Naver-Client-Secret\", Client_Secret)\n",
    "\n",
    "#------------------------------------\n",
    "# 검색 요청 및 처리\n",
    "#------------------------------------\n",
    "response = urllib.request.urlopen(request)\n",
    "rescode = response.getcode()\n",
    "if(rescode == 200):\n",
    "    result = response.read().decode('utf-8')\n",
    "    #print(result) # result에 어떤 값이 들어 있는지 확인해 보기\n",
    "else:\n",
    "    print(\"검색에 실패하였습니다.\")\n",
    "    exit()\n",
    "\n",
    "#------------------------------------\n",
    "# 검색 결과 parsing 해서 보기좋게 출력하기\n",
    "#------------------------------------\n",
    "j_result = json.loads(result)   #검색 결과를 json타입으로 보여주기\n",
    "if j_result == None:\n",
    "    print(\"json.loads 실패하였습니다.\")\n",
    "    exit()\n",
    "#print(j_result) # j_result에 어떤 값이 들어 있는지 확인해 보기\n",
    " \n",
    "# j_result의 결과 중 도서 정보가 담긴 items 항목의 내용을 parsing한다.\n",
    "for item in j_result['items']:\n",
    "    print(\"\\n제목: \" + item['title'])\n",
    "    print(\"저자: \" + item['author'])\n",
    "    print(\"설명: \" + item['description'])\n",
    "    print(\"url: \" + item['link'])\n",
    "    print(\"\\n\")\n"
   ]
  },
  {
   "cell_type": "code",
   "execution_count": null,
   "metadata": {},
   "outputs": [],
   "source": []
  }
 ],
 "metadata": {
  "kernelspec": {
   "display_name": "Python 3 (ipykernel)",
   "language": "python",
   "name": "python3"
  },
  "language_info": {
   "codemirror_mode": {
    "name": "ipython",
    "version": 3
   },
   "file_extension": ".py",
   "mimetype": "text/x-python",
   "name": "python",
   "nbconvert_exporter": "python",
   "pygments_lexer": "ipython3",
   "version": "3.8.10"
  }
 },
 "nbformat": 4,
 "nbformat_minor": 4
}
