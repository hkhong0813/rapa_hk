{
 "cells": [
  {
   "cell_type": "markdown",
   "id": "0456cc6a",
   "metadata": {},
   "source": [
    "# 함수 "
   ]
  },
  {
   "cell_type": "markdown",
   "id": "97d2af4a",
   "metadata": {},
   "source": [
    "## 함수 정의\n"
   ]
  },
  {
   "cell_type": "code",
   "execution_count": 10,
   "id": "dae9aa70",
   "metadata": {},
   "outputs": [
    {
     "ename": "SyntaxError",
     "evalue": "invalid syntax (Temp/ipykernel_11804/533152981.py, line 3)",
     "output_type": "error",
     "traceback": [
      "\u001b[1;36m  File \u001b[1;32m\"C:\\Users\\PC021\\AppData\\Local\\Temp/ipykernel_11804/533152981.py\"\u001b[1;36m, line \u001b[1;32m3\u001b[0m\n\u001b[1;33m    type(/)\u001b[0m\n\u001b[1;37m         ^\u001b[0m\n\u001b[1;31mSyntaxError\u001b[0m\u001b[1;31m:\u001b[0m invalid syntax\n"
     ]
    }
   ],
   "source": [
    "def add(x,y):\n",
    "    return x+y\n"
   ]
  },
  {
   "cell_type": "code",
   "execution_count": 34,
   "id": "8c6dd05d",
   "metadata": {},
   "outputs": [
    {
     "name": "stdout",
     "output_type": "stream",
     "text": [
      "첫번째숫자3\n",
      "두번째숫자5\n",
      "연산 기호%\n",
      "결과---:3\n"
     ]
    }
   ],
   "source": [
    "# 계산기 프로그램\n",
    "def calc(n1, n2, op):\n",
    "    operator = ['+','-','*','/','%','//']\n",
    "    if op in operator:\n",
    "        return eval(n1+op+n2)\n",
    "    else:\n",
    "        return \"연산 기호가 잘못되었습니다.\"\n",
    "num1 = input('첫번째숫자')\n",
    "num2 = input('두번째숫자')\n",
    "op = input('연산 기호')\n",
    "print(f'결과---:{calc(num1,num2,op)}') "
   ]
  },
  {
   "cell_type": "code",
   "execution_count": 37,
   "id": "10f155e4",
   "metadata": {},
   "outputs": [
    {
     "name": "stdout",
     "output_type": "stream",
     "text": [
      "['피카츄', '라이츄', '파이리', '꼬부기']\n",
      "Random choice item`s 파이리\n"
     ]
    }
   ],
   "source": [
    "def get_random_item(items):\n",
    "    import random\n",
    "    print(items)\n",
    "    return random.choice(items)\n",
    "items = [\"피카츄\",\"라이츄\",\"파이리\",\"꼬부기\"]\n",
    "print(f'Random choice item`s {get_random_item(items)}')"
   ]
  },
  {
   "cell_type": "code",
   "execution_count": 38,
   "id": "2645499b",
   "metadata": {},
   "outputs": [
    {
     "name": "stdout",
     "output_type": "stream",
     "text": [
      "Good Luck ! [5, 17, 19, 29, 30, 34]\n"
     ]
    }
   ],
   "source": [
    "def lotto():\n",
    "    import random\n",
    "    x = []\n",
    "    while True:\n",
    "        c = random.randint(1,45)\n",
    "        if len(x) == 6:\n",
    "            break\n",
    "    \n",
    "        if c not in x:\n",
    "            x.append(c)\n",
    "    x.sort()\n",
    "    print('Good Luck !',x)\n",
    "lotto()"
   ]
  },
  {
   "cell_type": "code",
   "execution_count": 45,
   "id": "35acae02",
   "metadata": {},
   "outputs": [
    {
     "name": "stdout",
     "output_type": "stream",
     "text": [
      "[16, 24, 25, 28, 31, 39]\n"
     ]
    }
   ],
   "source": [
    "import random\n",
    "sample_num = random.sample([i for i in range(1,46)], 6)\n",
    "sample_num.sort()\n",
    "print(sample_num)"
   ]
  },
  {
   "cell_type": "code",
   "execution_count": 65,
   "id": "bb013b25",
   "metadata": {},
   "outputs": [
    {
     "name": "stdout",
     "output_type": "stream",
     "text": [
      "[환율정보 불러오기]\n",
      "-환율기준시간: 2021.08.26 15:52\n",
      "-달러: 1,170.50\n",
      "-위안: 180.52\n",
      "-유로: 1,376.63\n"
     ]
    }
   ],
   "source": [
    "print(\"[환율정보 불러오기]\")\n",
    "def a(a,b,c):\n",
    "    import urllib.request\n",
    "    import ssl\n",
    "    context = ssl._create_unverified_context()\n",
    "    \n",
    "    \n",
    "    URL = \"https://search.naver.com/search.naver?where=nexearch&sm=top_hty&fbm=1&ie=utf8&query=%ED%99%98%EC%9C%A8\"\n",
    "    page = urllib.request.urlopen(URL, context=context)\n",
    "    text = page.read().decode(\"utf8\")  # 해당 페이지의 소스코드\n",
    "    searchText = a\n",
    "    where      = text.find(searchText)  #소스코드에서 해당 문자열의 시작위치\n",
    "    targetInfo = text[where+len(searchText):where+len(searchText)+b]\n",
    "    print(f'-{c}: {targetInfo}')\n",
    "\n",
    "a('class=\"grp_info\"> <em>',16, '환율기준시간')\n",
    "a('<span>미국 <em>USD</em></span></a></th> <td><span>',8,'달러')\n",
    "a('<span>중국 <em>CNY</em></span></a></th> <td><span>',6,'위안')\n",
    "a('<span>유럽연합 <em>EUR</em></span></a></th> <td><span>',8,'유로')"
   ]
  },
  {
   "cell_type": "markdown",
   "id": "e5d735e5",
   "metadata": {},
   "source": [
    "# 매개변수에 기본 값을 주는 경우"
   ]
  },
  {
   "cell_type": "code",
   "execution_count": 69,
   "id": "5f099b6d",
   "metadata": {},
   "outputs": [
    {
     "name": "stdout",
     "output_type": "stream",
     "text": [
      "test()-->a:0 b:0 c:0\n",
      "test()-->a:10 b:0 c:0\n",
      "test()-->a:10 b:20 c:0\n",
      "test()-->a:10 b:20 c:30\n",
      "test()-->a:30 b:20 c:10\n"
     ]
    }
   ],
   "source": [
    "def test(a=0, b=0, c=0):\n",
    "    print(f'test()-->a:{a} b:{b} c:{c}')\n",
    "test()\n",
    "test(10)\n",
    "test(10,20)\n",
    "test(10,20,30)\n",
    "test(c=10,b=20,a=30)          "
   ]
  },
  {
   "cell_type": "markdown",
   "id": "96eee28b",
   "metadata": {},
   "source": [
    "# 무제한 인자 받기(tuple로 받기)\n"
   ]
  },
  {
   "cell_type": "code",
   "execution_count": 74,
   "id": "81b76eb3",
   "metadata": {},
   "outputs": [
    {
     "name": "stdout",
     "output_type": "stream",
     "text": [
      "args:('a', 'b', 'c', 'd')\n",
      "<class 'tuple'>\n",
      "0: a\n",
      "1: b\n",
      "2: c\n",
      "3: d\n",
      "args:{'name': '홍현기', 'age': '30', 'address': '광진구'}\n",
      "<class 'dict'>\n",
      "-key:name, value:홍현기\n",
      "-key:age, value:30\n",
      "-key:address, value:광진구\n"
     ]
    }
   ],
   "source": [
    "def test02(*args): # tuple 로 받기\n",
    "    print(f'args:{args}')\n",
    "    print(type(args))\n",
    "    for i in range(len(args)):\n",
    "        print(f'{i}: {args[i]}')\n",
    "\n",
    "def test03(**args): # dictionary 로 받기\n",
    "    print(f'args:{args}')\n",
    "    print(type(args))\n",
    "    for k,v in args.items():\n",
    "        print(f'-key:{k}, value:{v}')    \n",
    "test02('a','b','c','d')\n",
    "test03(name='홍현기',age='30',address='광진구')"
   ]
  },
  {
   "cell_type": "markdown",
   "id": "37d7c082",
   "metadata": {},
   "source": [
    "# Lambda"
   ]
  },
  {
   "cell_type": "code",
   "execution_count": 77,
   "id": "e3688fb5",
   "metadata": {},
   "outputs": [
    {
     "name": "stdout",
     "output_type": "stream",
     "text": [
      "30\n"
     ]
    }
   ],
   "source": [
    "hap = lambda num1, num2: num1+num2\n",
    "print(hap(10,20))"
   ]
  },
  {
   "cell_type": "code",
   "execution_count": 79,
   "id": "d823f6d6",
   "metadata": {},
   "outputs": [
    {
     "name": "stdout",
     "output_type": "stream",
     "text": [
      "[11, 12, 13, 14, 15]\n"
     ]
    }
   ],
   "source": [
    "myList = [1,2,3,4,5]\n",
    "myList = list(map(lambda num: num+10, myList))\n",
    "print(myList)"
   ]
  },
  {
   "cell_type": "markdown",
   "id": "411b39b8",
   "metadata": {},
   "source": [
    "# Map & Lambda"
   ]
  },
  {
   "cell_type": "code",
   "execution_count": 102,
   "id": "8313b5ff",
   "metadata": {},
   "outputs": [
    {
     "name": "stdout",
     "output_type": "stream",
     "text": [
      "[1, 2, '3', 4, 5, '6', 7, 8, '9', 10]\n",
      "[1, 2, 3, 4, 5]\n",
      "[2, 4, 6, 8, 10]\n"
     ]
    }
   ],
   "source": [
    "\n",
    "myList =list(map(lambda num :str(num) if num%3==0 else num  ,[i for i in range(1,11)]))\n",
    "print(myList)\n",
    "\n",
    "myList = [i for i in range(1,6)]\n",
    "myList2 = list(map(lambda num : num*2, myList))\n",
    "print(myList)\n",
    "print(myList2)"
   ]
  }
 ],
 "metadata": {
  "kernelspec": {
   "display_name": "Python 3 (ipykernel)",
   "language": "python",
   "name": "python3"
  },
  "language_info": {
   "codemirror_mode": {
    "name": "ipython",
    "version": 3
   },
   "file_extension": ".py",
   "mimetype": "text/x-python",
   "name": "python",
   "nbconvert_exporter": "python",
   "pygments_lexer": "ipython3",
   "version": "3.8.10"
  }
 },
 "nbformat": 4,
 "nbformat_minor": 5
}
