{
 "cells": [
  {
   "cell_type": "code",
   "execution_count": 5,
   "id": "926dd77b",
   "metadata": {},
   "outputs": [
    {
     "name": "stdout",
     "output_type": "stream",
     "text": [
      "<class 'int'>\n",
      "<class 'str'>\n",
      "<class 'list'>\n",
      "<class 'str'>\n"
     ]
    }
   ],
   "source": [
    "a = 345\n",
    "print(type(a))\n",
    "b = '345'\n",
    "print(type(b))\n",
    "c = [1,2,3]\n",
    "print(type(c))\n",
    "사과 = '사과'\n",
    "print(type(사과))"
   ]
  },
  {
   "cell_type": "markdown",
   "id": "1ddd9b9d",
   "metadata": {},
   "source": [
    "### 정수의 진수 표현"
   ]
  },
  {
   "cell_type": "code",
   "execution_count": 6,
   "id": "6483121b",
   "metadata": {},
   "outputs": [
    {
     "name": "stdout",
     "output_type": "stream",
     "text": [
      "83\n",
      "4764\n",
      "4266\n"
     ]
    }
   ],
   "source": [
    "b1 = 0b1010011\n",
    "o1 = 0o11234\n",
    "h1 =  0x10AA\n",
    "print(b1)\n",
    "print(o1)\n",
    "print(h1)\n",
    "\n"
   ]
  },
  {
   "cell_type": "code",
   "execution_count": 7,
   "id": "c4810007",
   "metadata": {},
   "outputs": [
    {
     "name": "stdout",
     "output_type": "stream",
     "text": [
      "0b1100100\n",
      "0o144\n",
      "0x64\n"
     ]
    }
   ],
   "source": [
    "b2 = bin(100)\n",
    "o2 = oct(100)\n",
    "h2 = hex(100)\n",
    "print(b2)\n",
    "print(o2)\n",
    "print(h2)"
   ]
  },
  {
   "cell_type": "code",
   "execution_count": 8,
   "id": "a39d9116",
   "metadata": {},
   "outputs": [
    {
     "name": "stdout",
     "output_type": "stream",
     "text": [
      "<class 'str'>\n",
      "<class 'str'>\n",
      "<class 'str'>\n"
     ]
    }
   ],
   "source": [
    "print(type(b2))\n",
    "print(type(o2))\n",
    "print(type(h2))"
   ]
  },
  {
   "cell_type": "code",
   "execution_count": 9,
   "id": "be85614e",
   "metadata": {},
   "outputs": [
    {
     "name": "stdout",
     "output_type": "stream",
     "text": [
      "4349\n",
      "0b11001000x64\n"
     ]
    }
   ],
   "source": [
    "print(b1+h1)\n",
    "print(b2+h2)"
   ]
  },
  {
   "cell_type": "code",
   "execution_count": 10,
   "id": "b06fa875",
   "metadata": {},
   "outputs": [
    {
     "data": {
      "text/plain": [
       "7"
      ]
     },
     "execution_count": 10,
     "metadata": {},
     "output_type": "execute_result"
    }
   ],
   "source": [
    "7%10"
   ]
  },
  {
   "cell_type": "code",
   "execution_count": 11,
   "id": "dc74a0b6",
   "metadata": {},
   "outputs": [
    {
     "data": {
      "text/plain": [
       "6"
      ]
     },
     "execution_count": 11,
     "metadata": {},
     "output_type": "execute_result"
    }
   ],
   "source": [
    "20//3"
   ]
  },
  {
   "cell_type": "markdown",
   "id": "ddafbb2c",
   "metadata": {},
   "source": [
    "## 문자열"
   ]
  },
  {
   "cell_type": "code",
   "execution_count": 14,
   "id": "99ab498f",
   "metadata": {},
   "outputs": [
    {
     "name": "stdout",
     "output_type": "stream",
     "text": [
      "파이썬 수업시간입니다. \n",
      "OK!\n"
     ]
    }
   ],
   "source": [
    "s = '파이썬 수업시간입니다. \\nOK!'\n",
    "print(s)"
   ]
  },
  {
   "cell_type": "code",
   "execution_count": 16,
   "id": "c4c99ae1",
   "metadata": {},
   "outputs": [
    {
     "name": "stdout",
     "output_type": "stream",
     "text": [
      "사랑해요파이썬\n",
      "사랑해요 파이썬\n"
     ]
    }
   ],
   "source": [
    "# + 효과\n",
    "head = '사랑해요'\n",
    "tail = '파이썬'\n",
    "print(head+tail)\n",
    "print(head,tail)"
   ]
  },
  {
   "cell_type": "code",
   "execution_count": 17,
   "id": "714815a9",
   "metadata": {},
   "outputs": [
    {
     "name": "stdout",
     "output_type": "stream",
     "text": [
      "------------------------------\n"
     ]
    }
   ],
   "source": [
    "# * --> 반복\n",
    "print('-'*30)"
   ]
  },
  {
   "cell_type": "code",
   "execution_count": 18,
   "id": "824d0c66",
   "metadata": {},
   "outputs": [
    {
     "name": "stdout",
     "output_type": "stream",
     "text": [
      "*\n",
      "***\n",
      "*****\n"
     ]
    }
   ],
   "source": [
    "for i in range(1,7,2):\n",
    "    print('*'*i)"
   ]
  },
  {
   "cell_type": "markdown",
   "id": "fa9218d7",
   "metadata": {},
   "source": [
    "## 기본 입출력 함수\n",
    "### input()"
   ]
  },
  {
   "cell_type": "code",
   "execution_count": 21,
   "id": "4ea0e66f",
   "metadata": {},
   "outputs": [
    {
     "name": "stdout",
     "output_type": "stream",
     "text": [
      "숫자 입력:5\n",
      "205\n"
     ]
    }
   ],
   "source": [
    "a = int(input('숫자 입력:'))\n",
    "print(a+200)"
   ]
  },
  {
   "cell_type": "markdown",
   "id": "05446feb",
   "metadata": {},
   "source": [
    "## print()"
   ]
  },
  {
   "cell_type": "code",
   "execution_count": 22,
   "id": "379d2a11",
   "metadata": {},
   "outputs": [
    {
     "name": "stdout",
     "output_type": "stream",
     "text": [
      "------------------------------\n",
      "\n",
      "\n",
      "------------------------------\n"
     ]
    }
   ],
   "source": [
    "print('-'*30)\n",
    "print()\n",
    "print()\n",
    "print('-'*30)"
   ]
  },
  {
   "cell_type": "code",
   "execution_count": 38,
   "id": "289947a1",
   "metadata": {},
   "outputs": [
    {
     "name": "stdout",
     "output_type": "stream",
     "text": [
      "첫번째 숫자: 3\n",
      "두번째 숫자: 5\n",
      "덧셈: 3 + 5 = 8\n",
      "뺄셈: 3 - 5 = 8\n",
      "곱셈: 3 * 5 = 8\n",
      "나눗셈: 3 / 5 = 8\n",
      "나머지: 3 % 5 = 8\n",
      "몫: 3 // 5 = 8\n"
     ]
    }
   ],
   "source": [
    "num1= int(input('첫번째 숫자: '))\n",
    "num2= int(input('두번째 숫자: '))\n",
    "\n",
    "print('덧셈: %d + %d = %d' % (num1, num2, (num1+num2)) )\n",
    "print('뺄셈: %d - %d = %d' % (num1, num2, (num1+num2)) )\n",
    "print('곱셈: %d * %d = %d' % (num1, num2, (num1+num2)) )\n",
    "print('나눗셈: %d / %d = %d' % (num1, num2, (num1+num2)) )\n",
    "print('나머지: %d %% %d = %d' % (num1, num2, (num1+num2)) )\n",
    "print('몫: %d // %d = %d' % (num1, num2, (num1+num2)) )\n"
   ]
  },
  {
   "cell_type": "code",
   "execution_count": 43,
   "id": "5fc14306",
   "metadata": {},
   "outputs": [
    {
     "name": "stdout",
     "output_type": "stream",
     "text": [
      "속도를 입력해주세요: 300\n",
      "거리를 입력해주세요: 1200\n",
      "속도:300\n",
      "거리:1200\n",
      "시간:4\n"
     ]
    }
   ],
   "source": [
    "num3= int(input('속도를 입력해주세요: '))\n",
    "num4= int(input('거리를 입력해주세요: '))\n",
    "print('속도:%d'%num3)\n",
    "print('거리:%d'%num4)\n",
    "print('시간:%d'%(num4/num3))"
   ]
  },
  {
   "cell_type": "code",
   "execution_count": 42,
   "id": "7f31ab89",
   "metadata": {},
   "outputs": [
    {
     "name": "stdout",
     "output_type": "stream",
     "text": [
      "길이를 입력해주세요: 100\n",
      "너비를 입력해주세요: 20\n",
      "길이:100\n",
      "너비:20\n",
      "면적:2000\n",
      "둘레:240\n"
     ]
    }
   ],
   "source": [
    "num5= int(input('길이를 입력해주세요: '))\n",
    "num6= int(input('너비를 입력해주세요: '))\n",
    "print('길이:%d'%num5)\n",
    "print('너비:%d'%num6)\n",
    "print('면적:%d'%(num5*num6))\n",
    "print('둘레:%d'%(2*num5+2*num6))\n"
   ]
  },
  {
   "cell_type": "code",
   "execution_count": 47,
   "id": "33dcfe7e",
   "metadata": {},
   "outputs": [
    {
     "name": "stdout",
     "output_type": "stream",
     "text": [
      "정수를 입력하세요:7\n",
      "7+77+777 =861 \n"
     ]
    }
   ],
   "source": [
    "num7 = int(input('정수를 입력하세요:'))\n",
    "print('%d+%d+%d =%d '%(num7,num7*11,num7*111,num7*123))"
   ]
  },
  {
   "cell_type": "code",
   "execution_count": 49,
   "id": "be186481",
   "metadata": {},
   "outputs": [
    {
     "name": "stdout",
     "output_type": "stream",
     "text": [
      "정수: 7\n",
      "7+77+777=861\n"
     ]
    }
   ],
   "source": [
    "num8 = input('정수: ')\n",
    "n = int(num8)\n",
    "nn = int(num8+num8)\n",
    "nnn = int(num8+num8+num8)\n",
    "print(f'{n}+{nn}+{nnn}={n+nn+nnn}')"
   ]
  },
  {
   "cell_type": "code",
   "execution_count": 50,
   "id": "288b5427",
   "metadata": {},
   "outputs": [
    {
     "ename": "SyntaxError",
     "evalue": "invalid syntax (Temp/ipykernel_3196/507982075.py, line 2)",
     "output_type": "error",
     "traceback": [
      "\u001b[1;36m  File \u001b[1;32m\"C:\\Users\\PC021\\AppData\\Local\\Temp/ipykernel_3196/507982075.py\"\u001b[1;36m, line \u001b[1;32m2\u001b[0m\n\u001b[1;33m    print(test[-2]:[1:-1])\u001b[0m\n\u001b[1;37m                  ^\u001b[0m\n\u001b[1;31mSyntaxError\u001b[0m\u001b[1;31m:\u001b[0m invalid syntax\n"
     ]
    }
   ],
   "source": [
    "test = [['k','e',95],['h','m',88],['p','h',95]]\n",
    "print(test[-2]:[1:-1])"
   ]
  },
  {
   "cell_type": "code",
   "execution_count": 52,
   "id": "5a583616",
   "metadata": {},
   "outputs": [
    {
     "name": "stdout",
     "output_type": "stream",
     "text": [
      "1\n",
      "3\n",
      "5\n"
     ]
    }
   ],
   "source": [
    "for i in range(1,7,2):\n",
    "    print(i)"
   ]
  },
  {
   "cell_type": "code",
   "execution_count": null,
   "id": "73266e7c",
   "metadata": {},
   "outputs": [],
   "source": []
  }
 ],
 "metadata": {
  "kernelspec": {
   "display_name": "Python 3 (ipykernel)",
   "language": "python",
   "name": "python3"
  },
  "language_info": {
   "codemirror_mode": {
    "name": "ipython",
    "version": 3
   },
   "file_extension": ".py",
   "mimetype": "text/x-python",
   "name": "python",
   "nbconvert_exporter": "python",
   "pygments_lexer": "ipython3",
   "version": "3.8.10"
  }
 },
 "nbformat": 4,
 "nbformat_minor": 5
}
