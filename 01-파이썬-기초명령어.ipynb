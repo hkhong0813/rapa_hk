{
 "cells": [
  {
   "cell_type": "markdown",
   "id": "01d4df39",
   "metadata": {},
   "source": [
    "# 제목\n",
    "## 제목\n",
    "### 제목\n",
    "#### 제목\n",
    "\n",
    "파이썬 첫 시간"
   ]
  },
  {
   "cell_type": "code",
   "execution_count": null,
   "id": "9aee7e26",
   "metadata": {},
   "outputs": [],
   "source": [
    "hap = 0 \n",
    "\n",
    "for i in range(1,11):\n",
    "    hap += i\n",
    "print(f'1에서 10까지 합계: {hap}')"
   ]
  },
  {
   "cell_type": "code",
   "execution_count": null,
   "id": "35da2b34",
   "metadata": {},
   "outputs": [],
   "source": [
    "import sys\n",
    "sys.executable\n"
   ]
  },
  {
   "cell_type": "code",
   "execution_count": null,
   "id": "639683cf",
   "metadata": {},
   "outputs": [],
   "source": [
    "sys.path"
   ]
  },
  {
   "cell_type": "code",
   "execution_count": 1,
   "id": "06dbb201",
   "metadata": {},
   "outputs": [
    {
     "name": "stdout",
     "output_type": "stream",
     "text": [
      "Note: you may need to restart the kernel to use updated packages.\n"
     ]
    },
    {
     "name": "stderr",
     "output_type": "stream",
     "text": [
      "파일 이름, 디렉터리 이름 또는 볼륨 레이블 구문이 잘못되었습니다.\n"
     ]
    }
   ],
   "source": [
    "pip show jupyter\n"
   ]
  },
  {
   "cell_type": "code",
   "execution_count": null,
   "id": "edc592ea",
   "metadata": {},
   "outputs": [],
   "source": [
    "\n"
   ]
  },
  {
   "cell_type": "code",
   "execution_count": null,
   "id": "f2425727",
   "metadata": {},
   "outputs": [],
   "source": [
    "v = 5\n",
    "type(v)"
   ]
  },
  {
   "cell_type": "code",
   "execution_count": null,
   "id": "7420a936",
   "metadata": {},
   "outputs": [],
   "source": [
    "v = 3.14\n",
    "type(v)"
   ]
  },
  {
   "cell_type": "code",
   "execution_count": null,
   "id": "72a1f70a",
   "metadata": {},
   "outputs": [],
   "source": [
    "v = \"5\"\n",
    "type(v)"
   ]
  },
  {
   "cell_type": "code",
   "execution_count": null,
   "id": "5930b876",
   "metadata": {},
   "outputs": [],
   "source": [
    "v = -3.14\n",
    "type(v)"
   ]
  },
  {
   "cell_type": "code",
   "execution_count": null,
   "id": "34554df1",
   "metadata": {},
   "outputs": [],
   "source": [
    "v = 0x3d\n",
    "type(v)"
   ]
  },
  {
   "cell_type": "code",
   "execution_count": null,
   "id": "8a95c654",
   "metadata": {},
   "outputs": [],
   "source": [
    "v = '나는 사랑입니다'\n",
    "type(v)"
   ]
  },
  {
   "cell_type": "code",
   "execution_count": null,
   "id": "df9eabd3",
   "metadata": {},
   "outputs": [],
   "source": [
    "v = \"I'm \"+\"사랑\"\n",
    "type(v)"
   ]
  },
  {
   "cell_type": "code",
   "execution_count": null,
   "id": "6e0c070a",
   "metadata": {},
   "outputs": [],
   "source": [
    "v = \"사랑\"*3\n",
    "type(v)"
   ]
  },
  {
   "cell_type": "code",
   "execution_count": null,
   "id": "3aab867b",
   "metadata": {},
   "outputs": [],
   "source": [
    "x,y = 100,3 \n",
    "print('x+y:',x+y)\n",
    "print('x-y:',x-y)\n",
    "print('x*y:',x*y)\n",
    "print('x/y:',x/y)\n",
    "print('x//y:',x//y)\n",
    "print('x%y:',x%y)\n",
    "print('-x:',-x)\n",
    "print('+x:',+x)\n",
    "print('x**y:',x**y)\n"
   ]
  }
 ],
 "metadata": {
  "kernelspec": {
   "display_name": "Python 3 (ipykernel)",
   "language": "python",
   "name": "python3"
  },
  "language_info": {
   "codemirror_mode": {
    "name": "ipython",
    "version": 3
   },
   "file_extension": ".py",
   "mimetype": "text/x-python",
   "name": "python",
   "nbconvert_exporter": "python",
   "pygments_lexer": "ipython3",
   "version": "3.8.10"
  }
 },
 "nbformat": 4,
 "nbformat_minor": 5
}
