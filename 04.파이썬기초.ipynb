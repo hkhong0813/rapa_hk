{
 "cells": [
  {
   "cell_type": "code",
   "execution_count": 6,
   "id": "c1bdf49b",
   "metadata": {},
   "outputs": [
    {
     "name": "stdout",
     "output_type": "stream",
     "text": [
      "[10, 9]\n",
      "[8, 9]\n"
     ]
    }
   ],
   "source": [
    "h = [i for i in range(10,8,-1)]\n",
    "k = [j for j in range(8,10,1)]\n",
    "print(h)\n",
    "print(k)"
   ]
  },
  {
   "cell_type": "code",
   "execution_count": 283,
   "id": "a95dbe65",
   "metadata": {},
   "outputs": [
    {
     "name": "stdout",
     "output_type": "stream",
     "text": [
      "#  2 단 \t#  3 단 \t#  4 단 \t#  5 단 \t#  6 단 \t#  7 단 \t#  8 단 \t#  9 단 \t\n",
      "2 x 1= 2 \t3 x 1= 3 \t4 x 1= 4 \t5 x 1= 5 \t6 x 1= 6 \t7 x 1= 7 \t8 x 1= 8 \t9 x 1= 9 \t\n",
      "2 x 2= 4 \t3 x 2= 6 \t4 x 2= 8 \t5 x 2= 10 \t6 x 2= 12 \t7 x 2= 14 \t8 x 2= 16 \t9 x 2= 18 \t\n",
      "2 x 3= 6 \t3 x 3= 9 \t4 x 3= 12 \t5 x 3= 15 \t6 x 3= 18 \t7 x 3= 21 \t8 x 3= 24 \t9 x 3= 27 \t\n",
      "2 x 4= 8 \t3 x 4= 12 \t4 x 4= 16 \t5 x 4= 20 \t6 x 4= 24 \t7 x 4= 28 \t8 x 4= 32 \t9 x 4= 36 \t\n",
      "2 x 5= 10 \t3 x 5= 15 \t4 x 5= 20 \t5 x 5= 25 \t6 x 5= 30 \t7 x 5= 35 \t8 x 5= 40 \t9 x 5= 45 \t\n",
      "2 x 6= 12 \t3 x 6= 18 \t4 x 6= 24 \t5 x 6= 30 \t6 x 6= 36 \t7 x 6= 42 \t8 x 6= 48 \t9 x 6= 54 \t\n",
      "2 x 7= 14 \t3 x 7= 21 \t4 x 7= 28 \t5 x 7= 35 \t6 x 7= 42 \t7 x 7= 49 \t8 x 7= 56 \t9 x 7= 63 \t\n",
      "2 x 8= 16 \t3 x 8= 24 \t4 x 8= 32 \t5 x 8= 40 \t6 x 8= 48 \t7 x 8= 56 \t8 x 8= 64 \t9 x 8= 72 \t\n",
      "2 x 9= 18 \t3 x 9= 27 \t4 x 9= 36 \t5 x 9= 45 \t6 x 9= 54 \t7 x 9= 63 \t8 x 9= 72 \t9 x 9= 81 \t\n"
     ]
    }
   ],
   "source": [
    "for i in range(2,10):\n",
    "    print(f'#  {i} 단 ', end='\\t')\n",
    "print() # act like Enter\n",
    "for i in range(1,10):    \n",
    "    for j in range(2,10):\n",
    "        \n",
    "        print('%d x %d= %d '%(j,i,j*i) ,end= '\\t')\n",
    "    print()"
   ]
  },
  {
   "cell_type": "code",
   "execution_count": 105,
   "id": "822ae44b",
   "metadata": {},
   "outputs": [
    {
     "name": "stdout",
     "output_type": "stream",
     "text": [
      "  1   2   3   4 \n",
      "  5   6   7   8 \n",
      "  9  10  11  12 \n"
     ]
    }
   ],
   "source": [
    "for i in range(1,13):\n",
    "    print('%3d'%i, end= ' ')\n",
    "    if i % 4 == 0 :\n",
    "        print()\n",
    "\n"
   ]
  },
  {
   "cell_type": "code",
   "execution_count": 126,
   "id": "4177e0d9",
   "metadata": {},
   "outputs": [
    {
     "name": "stdout",
     "output_type": "stream",
     "text": [
      "    1    4    7   10\n",
      "    2    5    8   11\n",
      "    3    6    9   12\n"
     ]
    }
   ],
   "source": [
    "for i in range(1,4):\n",
    "    print('%5d'%i, end = '')\n",
    "    print('%5d'%(i+3), end = '')\n",
    "    print('%5d'%(i+6),end = '')\n",
    "    print('%5d'%(i+9))\n",
    "    \n",
    " "
   ]
  },
  {
   "cell_type": "code",
   "execution_count": 173,
   "id": "676210a8",
   "metadata": {},
   "outputs": [
    {
     "ename": "KeyError",
     "evalue": "'6'",
     "output_type": "error",
     "traceback": [
      "\u001b[1;31m---------------------------------------------------------------------------\u001b[0m",
      "\u001b[1;31mKeyError\u001b[0m                                  Traceback (most recent call last)",
      "\u001b[1;32m~\\AppData\\Local\\Temp/ipykernel_12776/3924976191.py\u001b[0m in \u001b[0;36m<module>\u001b[1;34m\u001b[0m\n\u001b[0;32m     15\u001b[0m             \u001b[0mdict1\u001b[0m\u001b[1;33m[\u001b[0m\u001b[0mx\u001b[0m\u001b[1;33m]\u001b[0m \u001b[1;33m=\u001b[0m \u001b[1;36m1\u001b[0m\u001b[1;33m\u001b[0m\u001b[1;33m\u001b[0m\u001b[0m\n\u001b[0;32m     16\u001b[0m \u001b[1;33m\u001b[0m\u001b[0m\n\u001b[1;32m---> 17\u001b[1;33m \u001b[0mdice\u001b[0m\u001b[1;33m(\u001b[0m\u001b[1;36m10\u001b[0m\u001b[1;33m)\u001b[0m\u001b[1;33m\u001b[0m\u001b[1;33m\u001b[0m\u001b[0m\n\u001b[0m\u001b[0;32m     18\u001b[0m \u001b[0mdict1\u001b[0m\u001b[1;33m.\u001b[0m\u001b[0mvalues\u001b[0m\u001b[1;33m(\u001b[0m\u001b[1;33m)\u001b[0m\u001b[1;33m\u001b[0m\u001b[1;33m\u001b[0m\u001b[0m\n\u001b[0;32m     19\u001b[0m \u001b[1;33m\u001b[0m\u001b[0m\n",
      "\u001b[1;32m~\\AppData\\Local\\Temp/ipykernel_12776/3924976191.py\u001b[0m in \u001b[0;36mdice\u001b[1;34m(n)\u001b[0m\n\u001b[0;32m      6\u001b[0m     \u001b[1;32mfor\u001b[0m \u001b[0mi\u001b[0m \u001b[1;32min\u001b[0m \u001b[0mrange\u001b[0m\u001b[1;33m(\u001b[0m\u001b[0mn\u001b[0m\u001b[1;33m)\u001b[0m\u001b[1;33m:\u001b[0m\u001b[1;33m\u001b[0m\u001b[1;33m\u001b[0m\u001b[0m\n\u001b[0;32m      7\u001b[0m         \u001b[0mx\u001b[0m \u001b[1;33m=\u001b[0m \u001b[0mstr\u001b[0m\u001b[1;33m(\u001b[0m\u001b[0mrandom\u001b[0m\u001b[1;33m.\u001b[0m\u001b[0mrandint\u001b[0m\u001b[1;33m(\u001b[0m\u001b[1;36m1\u001b[0m\u001b[1;33m,\u001b[0m\u001b[1;36m6\u001b[0m\u001b[1;33m)\u001b[0m\u001b[1;33m)\u001b[0m\u001b[1;33m\u001b[0m\u001b[1;33m\u001b[0m\u001b[0m\n\u001b[1;32m----> 8\u001b[1;33m         \u001b[1;32mif\u001b[0m \u001b[0mdict1\u001b[0m\u001b[1;33m[\u001b[0m\u001b[0mx\u001b[0m\u001b[1;33m]\u001b[0m \u001b[1;33m==\u001b[0m \u001b[1;32mFalse\u001b[0m\u001b[1;33m:\u001b[0m\u001b[1;33m\u001b[0m\u001b[1;33m\u001b[0m\u001b[0m\n\u001b[0m\u001b[0;32m      9\u001b[0m             \u001b[0mcnt\u001b[0m \u001b[1;33m=\u001b[0m \u001b[0mint\u001b[0m\u001b[1;33m(\u001b[0m\u001b[0mdict1\u001b[0m\u001b[1;33m[\u001b[0m\u001b[0mx\u001b[0m\u001b[1;33m]\u001b[0m\u001b[1;33m)\u001b[0m\u001b[1;33m\u001b[0m\u001b[1;33m\u001b[0m\u001b[0m\n\u001b[0;32m     10\u001b[0m \u001b[1;33m\u001b[0m\u001b[0m\n",
      "\u001b[1;31mKeyError\u001b[0m: '6'"
     ]
    }
   ],
   "source": [
    "import random\n",
    "\n",
    "dict1 = dict()\n",
    "\n",
    "def dice(n):\n",
    "    for i in range(n):\n",
    "        x = str(random.randint(1,6))\n",
    "        if dict1[x] == False:\n",
    "            cnt = int(dict1[x])\n",
    "        \n",
    "        \n",
    "            dict1[x] = cnt+1\n",
    "            print(dict1)\n",
    "        else:\n",
    "            dict1[x] = 1\n",
    "\n",
    "dice(10)\n",
    "dict1.values()\n",
    "\n"
   ]
  },
  {
   "cell_type": "code",
   "execution_count": 187,
   "id": "8c445e8d",
   "metadata": {},
   "outputs": [
    {
     "name": "stdout",
     "output_type": "stream",
     "text": [
      "가장 많이 나온 숫자는[3]14개입니다.\n",
      "[5, 4, 4, 2, 3, 3, 4, 3, 1, 6, 1, 3, 4, 6, 1, 5, 3, 4, 2, 2, 3, 2, 1, 3, 1, 6, 3, 6, 4, 3, 2, 1, 1, 4, 2, 2, 5, 3, 3, 3, 6, 1, 4, 4, 3, 6, 3, 2, 1, 5]\n",
      "[9, 8, 14, 9, 4, 6]\n"
     ]
    }
   ],
   "source": [
    "import random\n",
    "\n",
    "lst = []\n",
    "lst2 =[]\n",
    "\n",
    "def dice(n):\n",
    "    for i in range(n):\n",
    "        lst.append(random.randint(1,6))\n",
    "\n",
    "dice(50) # 괄호 안에 주사위 돌릴 횟수 입력\n",
    "\n",
    "lst2.append(lst.count(1)) # 전체 경우의 수에서 각 숫자가 나온 횟수를 카운트\n",
    "lst2.append(lst.count(2))\n",
    "lst2.append(lst.count(3))\n",
    "lst2.append(lst.count(4))\n",
    "lst2.append(lst.count(5))\n",
    "lst2.append(lst.count(6))\n",
    "\n",
    "find_max = max(lst2) # 카운트한 횟수 중 max 값\n",
    "max_num = [] #max 값을 가지는 숫자가 들어갈 list (중복이 발생할 수 있기 때문에)\n",
    "\n",
    "for j in range(6):\n",
    "    if find_max==lst2[j]:\n",
    "        max_num.append(j+1)\n",
    "print('가장 많이 나온 숫자는'+str(max_num)+'%d개입니다.'%max(lst2))\n",
    "\n",
    "#print(lst)\n",
    "#print(lst2)"
   ]
  },
  {
   "cell_type": "code",
   "execution_count": 190,
   "id": "0c8b87c9",
   "metadata": {},
   "outputs": [
    {
     "name": "stdout",
     "output_type": "stream",
     "text": [
      "5050\n",
      "5050\n"
     ]
    }
   ],
   "source": [
    "hap = 0 \n",
    "for i in range(1,101):\n",
    "    hap += i\n",
    "hap2,j = 0, 1\n",
    "while j<101:\n",
    "    hap2 += j\n",
    "    j +=1\n",
    "print(hap)\n",
    "print(hap2)"
   ]
  },
  {
   "cell_type": "code",
   "execution_count": 193,
   "id": "3c2e8bc5",
   "metadata": {},
   "outputs": [
    {
     "name": "stdout",
     "output_type": "stream",
     "text": [
      "나무를 1번 찍었습니다.\n",
      "나무를 2번 찍었습니다.\n",
      "나무를 3번 찍었습니다.\n",
      "나무를 4번 찍었습니다.\n",
      "나무를 5번 찍었습니다.\n",
      "나무를 6번 찍었습니다.\n",
      "나무를 7번 찍었습니다.\n",
      "나무를 8번 찍었습니다.\n",
      "나무를 9번 찍었습니다.\n",
      "나무를 10번 찍었습니다.\n",
      "나무 넘어 갑니다~\n"
     ]
    }
   ],
   "source": [
    "treehit,k = 10,1\n",
    "\n",
    "while treehit >0:\n",
    "    print('나무를 %d번 찍었습니다.'%k )\n",
    "    k +=1\n",
    "    treehit -=1\n",
    "print('나무 넘어 갑니다~')\n",
    "    "
   ]
  },
  {
   "cell_type": "code",
   "execution_count": 195,
   "id": "8992daa8",
   "metadata": {},
   "outputs": [
    {
     "name": "stdout",
     "output_type": "stream",
     "text": [
      "\n",
      "        1.Add 2.Del 3.Modify 4.Quit\n",
      "        Enter Number:\n",
      "4\n",
      "프로그램을 종료합니다.\n"
     ]
    }
   ],
   "source": [
    "prompt = \"\"\"\n",
    "        1.Add 2.Del 3.Modify 4.Quit\n",
    "        Enter Number:\n",
    "\"\"\"\n",
    "while True:\n",
    "    num = input(prompt)\n",
    "    if num =='4':\n",
    "        break\n",
    "print('프로그램을 종료합니다.')"
   ]
  },
  {
   "cell_type": "code",
   "execution_count": 209,
   "id": "6a770d17",
   "metadata": {},
   "outputs": [
    {
     "name": "stdout",
     "output_type": "stream",
     "text": [
      "345\n",
      "******\n",
      "\n",
      "********\n",
      "\n",
      "**********\n",
      "\n"
     ]
    }
   ],
   "source": [
    "num_lst = str(input(''))\n",
    "\n",
    "\n",
    "num_len,l = len(num_lst), 0 \n",
    "\n",
    "while l<num_len:\n",
    "    star_num = int(num_lst[l])*2\n",
    "    print('*'*star_num)\n",
    "    l +=1\n",
    "    print()"
   ]
  },
  {
   "cell_type": "code",
   "execution_count": 225,
   "id": "3da4b5f1",
   "metadata": {},
   "outputs": [
    {
     "name": "stdout",
     "output_type": "stream",
     "text": [
      "height(m)0.000009\n",
      "9e-06위치에서 공의 튕긴 횟수는 총 0번 입니다.\n"
     ]
    }
   ],
   "source": [
    "length = float(input('height(m)'))\n",
    "meter, cnt = length, 0\n",
    "while meter>0.00001:\n",
    "    meter /= 2\n",
    "    print(meter)\n",
    "    cnt += 1\n",
    "    print(cnt)\n",
    "print(f'{length}위치에서 공의 튕긴 횟수는 총 {cnt}번 입니다.')"
   ]
  },
  {
   "cell_type": "code",
   "execution_count": 232,
   "id": "88f6814e",
   "metadata": {},
   "outputs": [
    {
     "name": "stdout",
     "output_type": "stream",
     "text": [
      "1부터 100까지 찍어봐요50\n",
      "비밀의 수보다 작네요\n",
      "찍어75\n",
      "비밀의 수보다 작네요\n",
      "찍어87\n",
      "비밀의 수보다 크네요\n",
      "찍어82\n",
      "비밀의 수보다 작네요\n",
      "찍어85\n",
      "정답입니다.\n",
      "5번이나 시도하셧네요 ^^\n"
     ]
    }
   ],
   "source": [
    "import random \n",
    "user_num = int(input('1부터 100까지 찍어봐요'))\n",
    "sec_num = random.randint(1,100)\n",
    "num_cnt = 1\n",
    "while True:\n",
    "    if user_num == sec_num : \n",
    "        \n",
    "        print('정답입니다.')\n",
    "        print(f'{num_cnt}번이나 시도하셧네요 ^^')\n",
    "        break\n",
    "    if user_num >sec_num:\n",
    "        print('비밀의 수보다 크네요')\n",
    "        user_num = int(input('찍어'))\n",
    "        num_cnt +=1\n",
    "    elif user_num < sec_num:\n",
    "        print('비밀의 수보다 작네요')\n",
    "        user_num = int(input('찍어'))\n",
    "        num_cnt +=1\n"
   ]
  },
  {
   "cell_type": "code",
   "execution_count": 265,
   "id": "9d98b799",
   "metadata": {},
   "outputs": [
    {
     "name": "stdout",
     "output_type": "stream",
     "text": [
      "<무인 호텔 관리 프로그램>\n",
      "원하시는 객실의 방 개수를 입력해주세요. (1~5개)3\n",
      "방1개:[0, 0, 0, 0, 0] 방2개:[0, 0, 0, 0, 0] 방3개:[0, 0, 0, 0, 0] 방4개:[0, 0, 0, 0, 0] 방5개:[0, 0, 0, 0, 0]\n",
      "<메뉴>\n",
      "                    1. 체크인\n",
      "                    2. 체크아웃\n",
      "                    3. 현황 보기\n",
      "                    0. 종료하기\n",
      "                    1\n",
      "[0, 0, 0, 0, 0]\n",
      "체크인하실 방 호수를 입력해주세요.3\n",
      "입실 완료\n",
      "[0, 0, 1, 0, 0]\n",
      "원하시는 객실의 방 개수를 입력해주세요. (1~5개)3\n",
      "방1개:[0, 0, 0, 0, 0] 방2개:[0, 0, 0, 0, 0] 방3개:[0, 0, 1, 0, 0] 방4개:[0, 0, 0, 0, 0] 방5개:[0, 0, 0, 0, 0]\n",
      "<메뉴>\n",
      "                    1. 체크인\n",
      "                    2. 체크아웃\n",
      "                    3. 현황 보기\n",
      "                    0. 종료하기\n",
      "                    3\n",
      "1호: 빈방\n",
      "2호: 빈방\n",
      "3호: 입실 중\n",
      "4호: 빈방\n",
      "5호: 빈방\n",
      "원하시는 객실의 방 개수를 입력해주세요. (1~5개)1\n",
      "방1개:[0, 0, 0, 0, 0] 방2개:[0, 0, 0, 0, 0] 방3개:[0, 0, 1, 0, 0] 방4개:[0, 0, 0, 0, 0] 방5개:[0, 0, 0, 0, 0]\n",
      "<메뉴>\n",
      "                    1. 체크인\n",
      "                    2. 체크아웃\n",
      "                    3. 현황 보기\n",
      "                    0. 종료하기\n",
      "                    2\n",
      "[0, 0, 0, 0, 0]\n",
      "체크아웃하실 방 호수를 입력해주세요.3\n",
      "빈 방은 체크인 하실 수 없습니다.\n",
      "원하시는 객실의 방 개수를 입력해주세요. (1~5개)3\n",
      "방1개:[0, 0, 0, 0, 0] 방2개:[0, 0, 0, 0, 0] 방3개:[0, 0, 1, 0, 0] 방4개:[0, 0, 0, 0, 0] 방5개:[0, 0, 0, 0, 0]\n",
      "<메뉴>\n",
      "                    1. 체크인\n",
      "                    2. 체크아웃\n",
      "                    3. 현황 보기\n",
      "                    0. 종료하기\n",
      "                    1\n",
      "[0, 0, 1, 0, 0]\n",
      "체크인하실 방 호수를 입력해주세요.3\n",
      "입실 중인 방은 체크인 하실 수 없습니다.\n",
      "원하시는 객실의 방 개수를 입력해주세요. (1~5개)2\n",
      "방1개:[0, 0, 0, 0, 0] 방2개:[0, 0, 0, 0, 0] 방3개:[0, 0, 1, 0, 0] 방4개:[0, 0, 0, 0, 0] 방5개:[0, 0, 0, 0, 0]\n",
      "<메뉴>\n",
      "                    1. 체크인\n",
      "                    2. 체크아웃\n",
      "                    3. 현황 보기\n",
      "                    0. 종료하기\n",
      "                    3\n",
      "1호: 빈방\n",
      "2호: 빈방\n",
      "3호: 빈방\n",
      "4호: 빈방\n",
      "5호: 빈방\n",
      "원하시는 객실의 방 개수를 입력해주세요. (1~5개)3\n",
      "방1개:[0, 0, 0, 0, 0] 방2개:[0, 0, 0, 0, 0] 방3개:[0, 0, 1, 0, 0] 방4개:[0, 0, 0, 0, 0] 방5개:[0, 0, 0, 0, 0]\n",
      "<메뉴>\n",
      "                    1. 체크인\n",
      "                    2. 체크아웃\n",
      "                    3. 현황 보기\n",
      "                    0. 종료하기\n",
      "                    0\n",
      "무인 호텔 프로그램 종료.\n"
     ]
    }
   ],
   "source": [
    "print('<무인 호텔 관리 프로그램>')\n",
    "def hotel_management():\n",
    "    room = [[0,0,0,0,0],[0,0,0,0,0],[0,0,0,0,0],[0,0,0,0,0],[0,0,0,0,0]]\n",
    "    \n",
    "    \n",
    "    menu_select = 5\n",
    "    while True:\n",
    "        if menu_select == 0 :\n",
    "            break\n",
    "        room_num = int(input('원하시는 객실의 방 개수를 입력해주세요. (1~5개)'))\n",
    "        print('방1개:%s 방2개:%s 방3개:%s 방4개:%s 방5개:%s'%(str(room[0]),str(room[1]),str(room[2]),str(room[3]),str(room[4]))) # 고객이 선택한 방의 개수에 따른 객실 리스트를 생성\n",
    "        menu_select = int(input('''<메뉴>\n",
    "                    1. 체크인\n",
    "                    2. 체크아웃\n",
    "                    3. 현황 보기\n",
    "                    0. 종료하기\n",
    "                    '''))\n",
    "        if menu_select == 1:\n",
    "            print(room[room_num-1])\n",
    "            room_select = int(input('체크인하실 방 호수를 입력해주세요.'))\n",
    "            if room[room_num-1][room_select-1] == 1:\n",
    "                print('입실 중인 방은 체크인 하실 수 없습니다.')\n",
    "                \n",
    "            else:\n",
    "                print('입실 완료')\n",
    "                room[room_num-1][room_select-1] =1\n",
    "                print(room[room_num-1])\n",
    "                \n",
    "        elif menu_select == 2:\n",
    "            print(room[room_num-1])\n",
    "            room_select = int(input('체크아웃하실 방 호수를 입력해주세요.'))\n",
    "            if room[room_num-1][room_select-1] == 0:\n",
    "                print('빈 방은 체크인 하실 수 없습니다.')\n",
    "                \n",
    "            else:\n",
    "                print('체크 아웃 완료')\n",
    "                room[room_num-1][room_select-1] = 0\n",
    "                print(room[room_num-1])\n",
    "                \n",
    "        \n",
    "        elif menu_select == 3 :\n",
    "            for i in range(5):\n",
    "                if room[room_num-1][i] == 1:\n",
    "                    print('%d호: 입실 중'%(i+1))\n",
    "                    \n",
    "                else :\n",
    "                    print('%d호: 빈방'%(i+1))\n",
    "            \n",
    "            \n",
    "            \n",
    "    print('무인 호텔 프로그램 종료.')\n",
    "hotel_management()\n",
    "                    \n",
    "        \n",
    "    \n",
    "    "
   ]
  },
  {
   "cell_type": "markdown",
   "id": "8b89432a",
   "metadata": {},
   "source": [
    "## List"
   ]
  },
  {
   "cell_type": "code",
   "execution_count": 278,
   "id": "9a9bc4f7",
   "metadata": {},
   "outputs": [
    {
     "name": "stdout",
     "output_type": "stream",
     "text": [
      "[[1, 2, 3, 4], [5, 6, 7, 8], [9, 10, 11, 12]]\n",
      "    1    2    3    4\n",
      "    5    6    7    8\n",
      "    9   10   11   12\n"
     ]
    }
   ],
   "source": [
    "lst34=[[] for _ in range(3)]\n",
    "for i in range(12):\n",
    "    row_num = i // 4\n",
    "    lst34[row_num].append(i+1)\n",
    "print(lst34)\n",
    "for numbers in lst34:\n",
    "    for number in numbers:\n",
    "        print(f'{number:5d}', end='')\n",
    "    print()"
   ]
  },
  {
   "cell_type": "code",
   "execution_count": 268,
   "id": "6fe299c8",
   "metadata": {},
   "outputs": [
    {
     "name": "stdout",
     "output_type": "stream",
     "text": [
      "[3, 6, 9, 12, 15, 18, 21, 24, 27, 30, 33, 36, 39, 42, 45, 48, 51, 54, 57, 60, 63, 66, 69, 72, 75, 78, 81, 84, 87, 90, 93, 96, 99, 102, 105, 108, 111, 114, 117, 120, 123, 126, 129, 132, 135, 138, 141, 144, 147, 150, 153, 156, 159, 162, 165, 168, 171, 174, 177, 180, 183, 186, 189, 192, 195, 198]\n"
     ]
    }
   ],
   "source": [
    "lst3 = []\n",
    "for i in range(3,200,3):\n",
    "    lst3.append(i)\n",
    "print(lst3)\n"
   ]
  },
  {
   "cell_type": "code",
   "execution_count": 284,
   "id": "5d9bd4ef",
   "metadata": {},
   "outputs": [
    {
     "name": "stdout",
     "output_type": "stream",
     "text": [
      "[3, 6, 9, 12, 15, 18, 21, 24, 27, 30, 33, 36, 39, 42, 45, 48, 51, 54, 57, 60, 63, 66, 69, 72, 75, 78, 81, 84, 87, 90, 93, 96, 99, 102, 105, 108, 111, 114, 117, 120, 123, 126, 129, 132, 135, 138, 141, 144, 147, 150, 153, 156, 159, 162, 165, 168, 171, 174, 177, 180, 183, 186, 189, 192, 195, 198]\n"
     ]
    }
   ],
   "source": [
    "lchs=[i for i in range(3,200,3)]\n",
    "print(lchs)"
   ]
  },
  {
   "cell_type": "code",
   "execution_count": 303,
   "id": "42edeaea",
   "metadata": {},
   "outputs": [
    {
     "name": "stdout",
     "output_type": "stream",
     "text": [
      "BTS의 성적을 입력하세요.100\n",
      "TWICE의 성적을 입력하세요.100\n",
      "BLACKPINK의 성적을 입력하세요.100\n",
      "NUEST의 성적을 입력하세요.100\n",
      "------------------------------\n",
      "아이돌 성적 결과\n",
      "------------------------------\n",
      "BTS의 성적은 100 점: PASS\n",
      "TWICE의 성적은 100 점: PASS\n",
      "BLACKPINK의 성적은 100 점: PASS\n",
      "NUEST의 성적은 100 점: PASS\n"
     ]
    }
   ],
   "source": [
    "# List Comprehension - Pythonic Code \n",
    "names = ['BTS','TWICE','BLACKPINK','NUEST']\n",
    "\n",
    "scores = [int(input(f'{name}의 성적을 입력하세요.')) for name in names ]\n",
    "\n",
    "print('-'*30)\n",
    "print('아이돌 성적 결과')\n",
    "print('-'*30)\n",
    "\n",
    "result=  [\"PASS\" if score>= 80 else \"Fail\" for score in scores ]\n",
    "\n",
    "for i, v in enumerate(names):\n",
    "    print(f'{v}의 성적은 {scores[i]} 점: {result[i]}')\n"
   ]
  },
  {
   "cell_type": "code",
   "execution_count": 320,
   "id": "2f625a01",
   "metadata": {},
   "outputs": [
    {
     "name": "stdout",
     "output_type": "stream",
     "text": [
      "계산을 시작할 년월일을 입력하세요. EX)2020123020010320\n",
      "계산을 끝낼 년월일을 입력하세요. EX)2020123020050120\n"
     ]
    },
    {
     "ename": "KeyboardInterrupt",
     "evalue": "",
     "output_type": "error",
     "traceback": [
      "\u001b[1;31m---------------------------------------------------------------------------\u001b[0m",
      "\u001b[1;31mKeyboardInterrupt\u001b[0m                         Traceback (most recent call last)",
      "\u001b[1;32m~\\AppData\\Local\\Temp/ipykernel_12776/3727163244.py\u001b[0m in \u001b[0;36m<module>\u001b[1;34m\u001b[0m\n\u001b[0;32m     14\u001b[0m         \u001b[1;32mbreak\u001b[0m\u001b[1;33m\u001b[0m\u001b[1;33m\u001b[0m\u001b[0m\n\u001b[0;32m     15\u001b[0m     \u001b[1;32mif\u001b[0m \u001b[0myear\u001b[0m \u001b[1;33m==\u001b[0m \u001b[0mend_year\u001b[0m\u001b[1;33m:\u001b[0m\u001b[1;33m\u001b[0m\u001b[1;33m\u001b[0m\u001b[0m\n\u001b[1;32m---> 16\u001b[1;33m         \u001b[1;32mif\u001b[0m \u001b[0myear\u001b[0m\u001b[1;33m%\u001b[0m\u001b[1;36m400\u001b[0m \u001b[1;33m==\u001b[0m\u001b[1;36m0\u001b[0m \u001b[1;32mor\u001b[0m\u001b[1;33m(\u001b[0m\u001b[0myear\u001b[0m\u001b[1;33m%\u001b[0m\u001b[1;36m100\u001b[0m \u001b[1;33m!=\u001b[0m\u001b[1;36m0\u001b[0m \u001b[1;32mand\u001b[0m \u001b[0myear\u001b[0m\u001b[1;33m%\u001b[0m\u001b[1;36m4\u001b[0m \u001b[1;33m==\u001b[0m\u001b[1;36m0\u001b[0m\u001b[1;33m)\u001b[0m\u001b[1;33m:\u001b[0m\u001b[1;33m\u001b[0m\u001b[1;33m\u001b[0m\u001b[0m\n\u001b[0m\u001b[0;32m     17\u001b[0m             \u001b[0mdates\u001b[0m\u001b[1;33m[\u001b[0m\u001b[1;36m1\u001b[0m\u001b[1;33m]\u001b[0m\u001b[1;33m=\u001b[0m \u001b[1;36m29\u001b[0m\u001b[1;33m\u001b[0m\u001b[1;33m\u001b[0m\u001b[0m\n\u001b[0;32m     18\u001b[0m \u001b[1;33m\u001b[0m\u001b[0m\n",
      "\u001b[1;31mKeyboardInterrupt\u001b[0m: "
     ]
    }
   ],
   "source": [
    "start_date = input('계산을 시작할 년월일을 입력하세요. EX)20201230') \n",
    "end_date = input('계산을 끝낼 년월일을 입력하세요. EX)20201230')\n",
    "\n",
    "start_year, start_month, start_day = int(start_date[0:4]), int(start_date[4:6]),int(start_date[6:])\n",
    "end_year, end_month, end_day = int(end_date[0:4]), int(end_date[4:6]), int(end_date[6:])\n",
    "dates = [31, 28, 31, 30, 31, 30, 31, 31, 30, 31, 30, 31]\n",
    "year = start_year\n",
    "month = start_month\n",
    "day = start_day\n",
    "cnt = 0\n",
    "while True:\n",
    "    if year > end_year :\n",
    "    \n",
    "        break\n",
    "    if year == end_year:\n",
    "        if year%400 ==0 or(year%100 !=0 and year%4 ==0):\n",
    "            dates[1]= 29\n",
    "            \n",
    "            if end_month > month or end_month < month:\n",
    "                \n",
    "                for i in range(month,end_month):\n",
    "                    cnt += dates[month]-dates[i]\n",
    "                \n",
    "            else:\n",
    "                cnt += (end_day-day)\n",
    "            year +=1\n",
    "    if year < end_year:\n",
    "        if year%400 ==0 or(year%100 !=0 and year%4 ==0):\n",
    "            cnt +=366\n",
    "            year+=1\n",
    "        else:\n",
    "            cnt += 365\n",
    "            year+= 1\n",
    "print(cnt)\n",
    "\n",
    "# 아직 미완성 코드임.\n"
   ]
  },
  {
   "cell_type": "code",
   "execution_count": 315,
   "id": "58294d2f",
   "metadata": {},
   "outputs": [
    {
     "name": "stdout",
     "output_type": "stream",
     "text": [
      "년월일을 입력하세요 (YYYYMMDD형식):20120320\n",
      "------------------------------\n",
      "2012//1//1 ~ 2012//3//20 : 80\n"
     ]
    }
   ],
   "source": []
  },
  {
   "cell_type": "code",
   "execution_count": null,
   "id": "4bdf8b0a",
   "metadata": {},
   "outputs": [],
   "source": []
  }
 ],
 "metadata": {
  "kernelspec": {
   "display_name": "Python 3 (ipykernel)",
   "language": "python",
   "name": "python3"
  },
  "language_info": {
   "codemirror_mode": {
    "name": "ipython",
    "version": 3
   },
   "file_extension": ".py",
   "mimetype": "text/x-python",
   "name": "python",
   "nbconvert_exporter": "python",
   "pygments_lexer": "ipython3",
   "version": "3.8.10"
  }
 },
 "nbformat": 4,
 "nbformat_minor": 5
}
