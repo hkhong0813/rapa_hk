{
 "cells": [
  {
   "cell_type": "code",
   "execution_count": 2,
   "id": "412bb41a",
   "metadata": {},
   "outputs": [
    {
     "name": "stdout",
     "output_type": "stream",
     "text": [
      "안\n",
      "녕\n",
      "하\n",
      "세\n",
      "요\n",
      "!\n"
     ]
    }
   ],
   "source": [
    "a = '안녕하세요!'\n",
    "print(a[0])\n",
    "print(a[1])\n",
    "print(a[2])\n",
    "print(a[3])\n",
    "print(a[4])\n",
    "print(a[5])\n"
   ]
  },
  {
   "cell_type": "code",
   "execution_count": 3,
   "id": "698493ce",
   "metadata": {},
   "outputs": [
    {
     "data": {
      "text/plain": [
       "'사랑해요      파이썬'"
      ]
     },
     "execution_count": 3,
     "metadata": {},
     "output_type": "execute_result"
    }
   ],
   "source": [
    "\"%-10s파이썬\"%\"사랑해요\""
   ]
  },
  {
   "cell_type": "code",
   "execution_count": null,
   "id": "49e671a2",
   "metadata": {},
   "outputs": [],
   "source": [
    "\"%10s파이썬\"%\"사랑해요\""
   ]
  },
  {
   "cell_type": "markdown",
   "id": "3c70410f",
   "metadata": {},
   "source": [
    "### Format 함수 이용"
   ]
  },
  {
   "cell_type": "markdown",
   "id": "9c4c6636",
   "metadata": {},
   "source": [
    "# # 파이썬 2일차"
   ]
  },
  {
   "cell_type": "markdown",
   "id": "236d3a61",
   "metadata": {},
   "source": [
    "## 이런게 단축키를 쓰는 재미가 아닐까"
   ]
  },
  {
   "cell_type": "code",
   "execution_count": 11,
   "id": "290eb16f",
   "metadata": {},
   "outputs": [
    {
     "data": {
      "text/plain": [
       "'I eat 3 apples'"
      ]
     },
     "execution_count": 11,
     "metadata": {},
     "output_type": "execute_result"
    }
   ],
   "source": [
    "\"I eat {0} apples\".format(3)\n",
    "\n"
   ]
  },
  {
   "cell_type": "code",
   "execution_count": 15,
   "id": "3a78e8a1",
   "metadata": {},
   "outputs": [
    {
     "data": {
      "text/plain": [
       "2"
      ]
     },
     "execution_count": 15,
     "metadata": {},
     "output_type": "execute_result"
    }
   ],
   "source": [
    "a = \"hobby\"\n",
    "a.count('b')"
   ]
  },
  {
   "cell_type": "code",
   "execution_count": 19,
   "id": "d92c779b",
   "metadata": {},
   "outputs": [
    {
     "name": "stdout",
     "output_type": "stream",
     "text": [
      "10\n",
      "-1\n"
     ]
    }
   ],
   "source": [
    "a = \"Python is the best choice\"\n",
    "print(a.find('b'))\n",
    "print(a.find('k'))\n"
   ]
  },
  {
   "cell_type": "code",
   "execution_count": 21,
   "id": "ab17bc12",
   "metadata": {},
   "outputs": [
    {
     "name": "stdout",
     "output_type": "stream",
     "text": [
      "314\n",
      "413\n"
     ]
    }
   ],
   "source": [
    "s  = input('')\n",
    "print(s[::-1])\n"
   ]
  },
  {
   "cell_type": "code",
   "execution_count": 64,
   "id": "6a3a8d66",
   "metadata": {},
   "outputs": [
    {
     "name": "stdout",
     "output_type": "stream",
     "text": [
      "파일을 입력하세요: python.txt\n",
      "파일명:python,확장자:txt\n",
      "파일명:python,확장자:txt\n",
      "파일명:python,확장자:txt\n"
     ]
    }
   ],
   "source": [
    "a = input('파일을 입력하세요: ')\n",
    "b = a.split('.')\n",
    "n = a.find('.')\n",
    "print(f'파일명:{b[0]},확장자:{b[1]}')\n",
    "print('파일명:%s,확장자:%s'%(b[0],b[1]))\n",
    "print('파일명:{0},확장자:{1}'.format(a[0:n],a[n+1:]))"
   ]
  },
  {
   "cell_type": "code",
   "execution_count": 81,
   "id": "a5aa4d47",
   "metadata": {},
   "outputs": [
    {
     "name": "stdout",
     "output_type": "stream",
     "text": [
      "첫번째 방법은 이게 있습니다. 2021-08-24 11:15:13\n",
      "두번째, 지금 시각은 2021년 8월24일 11시15분13초입니다\n",
      "세번째, 지금 시각은 2021년 08월 24일 11시 15분 13초 입니다\n"
     ]
    }
   ],
   "source": [
    "import datetime\n",
    "d = datetime.datetime.now()\n",
    "now = str(datetime.datetime.now())\n",
    "year = now[0:4]\n",
    "month = now[5:7]\n",
    "day = now[8:10]\n",
    "hour = now[11:13]\n",
    "minute = now[14:16]\n",
    "second = now[17:19]\n",
    "print('첫번째 방법은 이게 있습니다.',d.strftime('%Y-%m-%d %H:%M:%S'))\n",
    "\n",
    "\n",
    "print('두번째, 지금 시각은 %d년 %d월%d일 %d시%d분%d초입니다'%(d.year,d.month,d.day,d.hour,d.minute,d.second))\n",
    "\n",
    "print(f'세번째, 지금 시각은 {year}년 {month}월 {day}일 {hour}시 {minute}분 {second}초 입니다')"
   ]
  },
  {
   "cell_type": "code",
   "execution_count": 86,
   "id": "4ae8c1e3",
   "metadata": {
    "scrolled": true
   },
   "outputs": [
    {
     "name": "stdout",
     "output_type": "stream",
     "text": [
      "[환율정보 불러오기]\n",
      "-환율기준시간: 2021.08.24 11:46\n",
      "-달러: 1,166.90\n",
      "-위안: 180.00\n",
      "-유로: 1,369.88\n",
      "-파운드: 1,600.75\n"
     ]
    }
   ],
   "source": [
    "import urllib.request\n",
    "import ssl\n",
    "context = ssl._create_unverified_context()\n",
    "#환율정보 페이지 불러오기\n",
    "print(\"[환율정보 불러오기]\")\n",
    "URL = \"https://search.naver.com/search.naver?where=nexearch&sm=top_hty&fbm=1&ie=utf8&query=%ED%99%98%EC%9C%A8\"\n",
    "page = urllib.request.urlopen(URL, context=context)\n",
    "text = page.read().decode(\"utf8\")  # 해당 페이지의 소스코드\n",
    "#print(text)\n",
    "#환율정보 가져오기: 기준시간\n",
    "searchText = 'class=\"grp_info\"> <em>'\n",
    "where      = text.find(searchText)  #소스코드에서 해당 문자열의 시작위치\n",
    "targetInfo = text[where+len(searchText):where+len(searchText)+16]\n",
    "print(f'-환율기준시간: {targetInfo}')\n",
    "#환율정보 가져오기: 달러\n",
    "searchText = '<span>미국 <em>USD</em></span></a></th> <td><span>'\n",
    "where      = text.find(searchText)\n",
    "targetInfo = text[where+len(searchText):where+len(searchText)+8]\n",
    "print(f'-달러: {targetInfo}')\n",
    "#환율정보 가져오기: 위안\n",
    "searchText = '<span>중국 <em>CNY</em></span></a></th> <td><span>'\n",
    "where      = text.find(searchText)\n",
    "targetInfo = text[where+len(searchText):where+len(searchText)+6]\n",
    "print(f'-위안: {targetInfo}')\n",
    "#환율정보 가져오기:유로화\n",
    "searchText = '<span>유럽연합 <em>EUR</em></span></a></th> <td><span>'\n",
    "where      = text.find(searchText)\n",
    "targetInfo = text[where+len(searchText):where+len(searchText)+8]\n",
    "print(f'-유로: {targetInfo}')\n",
    "#환율정보 가져오기: 파운드\n",
    "searchText = '<span>영국 <em>GBP</em></span></a></th> <td><span>'\n",
    "where = text.find(searchText)\n",
    "targetInfo = text[where+len(searchText):where+len(searchText)+8]\n",
    "print(f'-파운드: {targetInfo}')"
   ]
  },
  {
   "cell_type": "code",
   "execution_count": 90,
   "id": "3337a7e7",
   "metadata": {},
   "outputs": [
    {
     "name": "stdout",
     "output_type": "stream",
     "text": [
      "0\n",
      "1\n",
      "1\n",
      "-1\n",
      "-2\n",
      "0\n"
     ]
    }
   ],
   "source": [
    "def And(x,y):\n",
    "    print(x&y)\n",
    "def Or(x,y):\n",
    "    print(x|y)\n",
    "def Xor(x,y):\n",
    "    print(x^y)\n",
    "def Not(x):\n",
    "    print(~x)\n",
    "    \n",
    "And(0,1)\n",
    "Or(0,1)\n",
    "Xor(0,1)\n",
    "Not(0)\n",
    "Not(1)\n",
    "Not(-1)"
   ]
  },
  {
   "cell_type": "code",
   "execution_count": 92,
   "id": "a7551780",
   "metadata": {},
   "outputs": [
    {
     "name": "stdout",
     "output_type": "stream",
     "text": [
      "False\n",
      "True\n"
     ]
    }
   ],
   "source": [
    "l = [1,2,3,4,5]\n",
    "a = 0 \n",
    "for i in range(5):\n",
    "    \n",
    "    \n",
    "    if a in l:\n",
    "        print('True')\n",
    "        break\n",
    "    else:\n",
    "        print('False')\n",
    "        a += 1"
   ]
  },
  {
   "cell_type": "code",
   "execution_count": 93,
   "id": "774a9457",
   "metadata": {
    "scrolled": true
   },
   "outputs": [
    {
     "name": "stdout",
     "output_type": "stream",
     "text": [
      "시프트할 숫자는?: 100\n",
      "출력할 횟수는?: 5\n",
      "100 << 1 = 200 \n",
      "100 << 2 = 400 \n",
      "100 << 3 = 800 \n",
      "100 << 4 = 1600 \n",
      "100 << 5 = 3200 \n",
      "100 >> 1 = 50\n",
      "100 >> 2 = 25\n",
      "100 >> 3 = 12\n",
      "100 >> 4 = 6\n",
      "100 >> 5 = 3\n"
     ]
    }
   ],
   "source": [
    "a = int(input(\"시프트할 숫자는?: \"))\n",
    "loop = int(input(\"출력할 횟수는?: \"))\n",
    "for i in range(loop):\n",
    "    print(\"%d << %d = %d \"% (a, i+1, a<< i+1))\n",
    "for i in range(loop):\n",
    "    print(\"%d >> %d = %d\" % (a, i+1, a>> i+1))"
   ]
  },
  {
   "cell_type": "code",
   "execution_count": 103,
   "id": "53b44d3b",
   "metadata": {
    "scrolled": true
   },
   "outputs": [
    {
     "name": "stdout",
     "output_type": "stream",
     "text": [
      "금액을 입력하세요 !: 100\n",
      "500원:0, 100원:1, 50원:0,10원:0, 잔돈:0\n"
     ]
    }
   ],
   "source": [
    "num = int(input(\"금액을 입력하세요 !: \"))\n",
    "a,b,c,d = 0,0,0,0\n",
    "\n",
    "a = num//500\n",
    "num -= 500*a\n",
    "b = num//100\n",
    "num -= 100*b\n",
    "c = num//50\n",
    "num -= 50*c\n",
    "d = num//10\n",
    "num -= 10*d\n",
    "print(\"500원:%d, 100원:%d, 50원:%d,10원:%d, 잔돈:%d\" % (a,b,c,d,num))\n",
    "\n"
   ]
  },
  {
   "cell_type": "code",
   "execution_count": 108,
   "id": "f954bc1c",
   "metadata": {},
   "outputs": [
    {
     "name": "stdout",
     "output_type": "stream",
     "text": [
      "0b100000\n"
     ]
    }
   ],
   "source": [
    "a,b = 100,50\n",
    "def And(x,y):\n",
    "    c= x&y\n",
    "    print(bin(c))\n",
    "And(a,b)\n"
   ]
  },
  {
   "cell_type": "code",
   "execution_count": 111,
   "id": "36b537a5",
   "metadata": {},
   "outputs": [
    {
     "name": "stdout",
     "output_type": "stream",
     "text": [
      "숫자를 입력해주세요.47\n",
      "47는 홀수입니다.\n"
     ]
    }
   ],
   "source": [
    "x=int(input(\"숫자를 입력해주세요.\"))\n",
    "if x % 2 == 0:\n",
    "    print('%d는 짝수입니다.'%(x))\n",
    "else:\n",
    "    print('%d는 홀수입니다.'%(x))"
   ]
  },
  {
   "cell_type": "code",
   "execution_count": 118,
   "id": "9ef3935a",
   "metadata": {},
   "outputs": [
    {
     "name": "stdout",
     "output_type": "stream",
     "text": [
      "Your Score: 85\n",
      "85 -> Grade: B\n"
     ]
    }
   ],
   "source": [
    "x = int(input('Your Score: '))\n",
    "if x >= 90:\n",
    "    print('%d -> Grade: A'%x)\n",
    "elif x>= 80:\n",
    "    print('%d -> Grade: B'%x)\n",
    "elif x>= 70:\n",
    "    print('%d -> Grade: C'%x)\n",
    "elif x>= 60:\n",
    "    print('%d -> Grade: D'%x)\n",
    "else:\n",
    "    print('%d -> Grade: F'%x)\n",
    "\n",
    "    "
   ]
  },
  {
   "cell_type": "code",
   "execution_count": 125,
   "id": "c70dbd23",
   "metadata": {},
   "outputs": [
    {
     "name": "stdout",
     "output_type": "stream",
     "text": [
      "temperature: 35\n",
      "Turn your air conditioner on!\n"
     ]
    }
   ],
   "source": [
    "x = int(input('temperature: '))\n",
    "if x >= 30 :\n",
    "    print(\"Turn your air conditioner on!\")\n",
    "elif x< 20:\n",
    "    print(\"You better wear a thermal underwear\")\n",
    "elif x<10:\n",
    "    print(\"Turn your electric heater on!\")\n",
    "else:\n",
    "    print(\"Nothing to do\")"
   ]
  },
  {
   "cell_type": "code",
   "execution_count": 155,
   "id": "fcfff8c6",
   "metadata": {},
   "outputs": [
    {
     "name": "stdout",
     "output_type": "stream",
     "text": [
      "주민번호: 020407-4210203\n",
      "2002년 04월 07일, 20세,여성\n"
     ]
    }
   ],
   "source": [
    "x = input('주민번호: ')\n",
    "\n",
    "if x[0] not in ['2','1','0']:\n",
    "    a = 100-int(x[0:2])+22\n",
    "    if x[7] =='1':\n",
    "        \n",
    "        print(\"19%s년 %s월 %s일, %d세,남성\"%(x[0:2],x[2:4],x[4:6],a ))\n",
    "    else:\n",
    "        print(\"19%s년 %s월 %s일, %d세,여성\"%(x[0:2],x[2:4],x[4:6],a ))\n",
    "else:\n",
    "    a = 22-int(x[0:2])\n",
    "    if x[7] =='3':\n",
    "        \n",
    "        print(\"20%s년 %s월 %s일, %d세,남성\"%(x[0:2],x[2:4],x[4:6],a ))\n",
    "    else:\n",
    "        print(\"20%s년 %s월 %s일, %d세,여성\"%(x[0:2],x[2:4],x[4:6],a ))\n"
   ]
  },
  {
   "cell_type": "code",
   "execution_count": 156,
   "id": "5e4209f0",
   "metadata": {},
   "outputs": [
    {
     "name": "stdout",
     "output_type": "stream",
     "text": [
      "나는 심심하다.\n"
     ]
    }
   ],
   "source": [
    "a= '나'\n",
    "b = '심심'\n",
    "print(f'{a}는 {b}하다.')"
   ]
  },
  {
   "cell_type": "code",
   "execution_count": 175,
   "id": "a294ae2d",
   "metadata": {},
   "outputs": [
    {
     "name": "stdout",
     "output_type": "stream",
     "text": [
      "(())\n",
      "['(', '(', ')', ')']\n",
      "True\n"
     ]
    }
   ],
   "source": [
    "a = list(input(''))\n",
    "print(a)\n",
    "n= 0\n",
    "n= len(a)\n",
    "t = 0\n",
    "for check in a:\n",
    "    if t == -1 :\n",
    "        break\n",
    "    if check == '(':\n",
    "        t+=1\n",
    "    else:\n",
    "        t-=1\n",
    "if t == 0 :\n",
    "    print(True)\n",
    "else:\n",
    "    print(False)"
   ]
  },
  {
   "cell_type": "markdown",
   "id": "b44167a6",
   "metadata": {},
   "source": [
    "### 실습 문제 : 커피 자동머신 "
   ]
  },
  {
   "cell_type": "code",
   "execution_count": 190,
   "id": "2bffe0a3",
   "metadata": {},
   "outputs": [
    {
     "name": "stdout",
     "output_type": "stream",
     "text": [
      "[커피 자동주문 머신 메뉴]\n",
      "-------------------------------------------------\n",
      "-아메리카노: 2500원\n",
      "-카페라떼: 3000원\n",
      "-카푸치노: 3000원\n",
      "입니다. 원하시는 커피종류와 잔수를 입력하세요.\n",
      "-------------------------------------------------\n",
      "아메리카노: 3\n",
      "카페라떼: 2\n",
      "카푸치노: 1\n",
      "3 2 1\n",
      "지불할 총 금액은 16500입니다.\n",
      "16500 원을 넣어주세요18000\n",
      "거스름돈은 1500원입니다.\n"
     ]
    }
   ],
   "source": [
    "menu ='''[커피 자동주문 머신 메뉴]\n",
    "-------------------------------------------------\n",
    "-아메리카노: 2500원\n",
    "-카페라떼: 3000원\n",
    "-카푸치노: 3000원\n",
    "입니다. 원하시는 커피종류와 잔수를 입력하세요.\n",
    "-------------------------------------------------\n",
    "'''\n",
    "coffee1 = int(input(menu+'아메리카노: '))\n",
    "coffee2 = int(input('카페라떼: '))\n",
    "coffee3 = int(input('카푸치노: '))\n",
    "print(coffee1,coffee2,coffee3)\n",
    "total = 2500*coffee1+3000*(coffee2+coffee3)\n",
    "\n",
    "print('지불할 총 금액은 %d입니다.'%(total))\n",
    "pay = int(input('%d 원을 넣어주세요'%(total)))\n",
    "while True:\n",
    "    if pay >= total:\n",
    "        print('거스름돈은 %d원입니다.'%(pay-total))\n",
    "        break\n",
    "    else:\n",
    "        print('%d원이 부족합니다.'%(total-pay))\n",
    "        total= total-pay\n",
    "        pay = int(input('%d원을 넣어주세요.'% (total)))\n",
    "        "
   ]
  },
  {
   "cell_type": "markdown",
   "id": "308842a1",
   "metadata": {},
   "source": [
    "# 난수"
   ]
  },
  {
   "cell_type": "code",
   "execution_count": 2,
   "id": "657f7a0d",
   "metadata": {},
   "outputs": [
    {
     "name": "stdout",
     "output_type": "stream",
     "text": [
      "Good Luck ! [5, 6, 12, 29, 30, 35]\n"
     ]
    }
   ],
   "source": [
    "def lotto():\n",
    "    import random\n",
    "    x = []\n",
    "    while True:\n",
    "        c = random.randint(1,45)\n",
    "        if len(x) == 6:\n",
    "            break\n",
    "    \n",
    "        if c not in x:\n",
    "            x.append(c)\n",
    "    x.sort()\n",
    "    print('Good Luck !',x)\n",
    "lotto()"
   ]
  },
  {
   "cell_type": "code",
   "execution_count": 216,
   "id": "560d2091",
   "metadata": {},
   "outputs": [
    {
     "name": "stdout",
     "output_type": "stream",
     "text": [
      "두 개의 주사위를 던지겠습니다.계속하시려면 온 힘을 다해서 \"y\"키를 눌러주세요.ㅛ\n",
      "A주사위는 5, B주사위는 4 입니다.\n",
      "A의 승리입니다.\n",
      "재밌었나요?.계속하시려면 다시 한 번 온 힘을 다해서 \"y\"키를 눌러주세요. 하기 싫으면 \"f\"를 눌러줘요ㄹ\n"
     ]
    }
   ],
   "source": [
    "import random\n",
    "user_sign = input('두 개의 주사위를 던지겠습니다.계속하시려면 온 힘을 다해서 \"y\"키를 눌러주세요.')\n",
    "while True:\n",
    "    if user_sign =='f' or user_sign =='F' or user_sign =='ㄹ':\n",
    "        break\n",
    "    if user_sign == 'Y' or user_sign == 'y' or user_sign == 'ㅛ' :\n",
    "        x,y = random.randint(1,6),random.randint(1,6)\n",
    "        if x>y:\n",
    "            print('A주사위는 %d, B주사위는 %d 입니다.'%(x,y))\n",
    "            print('A의 승리입니다.')\n",
    "        elif x == y:\n",
    "            print('두 개의 주사위 모두 %d 입니다'%(x))\n",
    "            print('무승부')\n",
    "        else:\n",
    "            print('A주사위는 %d, B주사위는 %d 입니다.'%(x,y))\n",
    "            print('B의 승리입니다.')\n",
    "        user_sign = input('재밌었나요?.계속하시려면 다시 한 번 온 힘을 다해서 \"y\"키를 눌러주세요. 하기 싫으면 \"f\"를 눌러줘요')\n",
    "    else:\n",
    "        user_sign = input('두 개의 주사위를 던지겠습니다.계속하시려면 온 힘을 다해서 \"y\"키를 눌러주세요.')\n",
    "        \n"
   ]
  },
  {
   "cell_type": "markdown",
   "id": "e89c200b",
   "metadata": {},
   "source": [
    "# for"
   ]
  },
  {
   "cell_type": "code",
   "execution_count": 233,
   "id": "487b38ef",
   "metadata": {},
   "outputs": [
    {
     "name": "stdout",
     "output_type": "stream",
     "text": [
      "[0][a] python\n",
      "[1][b] python\n",
      "[2][c] python\n",
      "[3][d] python\n",
      "[4][e] python\n",
      "[5][f] python\n",
      "[6][g] python\n"
     ]
    }
   ],
   "source": [
    "alist = ['a','b','c','d','e','f','g']\n",
    "for i,value in enumerate(alist):\n",
    "    print(f'[{i}][{value}] python')"
   ]
  },
  {
   "cell_type": "code",
   "execution_count": 219,
   "id": "0983ad81",
   "metadata": {},
   "outputs": [
    {
     "name": "stdout",
     "output_type": "stream",
     "text": [
      "합계를 구할 숫자 입력100\n",
      "1부터 100까지의 합은 : 5050\n"
     ]
    }
   ],
   "source": [
    "n = int(input('합계를 구할 숫자 입력'))\n",
    "a = 0 \n",
    "for i in range(1,n+1):\n",
    "    a += i\n",
    "print('1부터 %d까지의 합은 : %d'%(n,a))"
   ]
  },
  {
   "cell_type": "code",
   "execution_count": 236,
   "id": "2c8cb6a5",
   "metadata": {},
   "outputs": [
    {
     "name": "stdout",
     "output_type": "stream",
     "text": [
      "합계를 구할 숫자 입력:100\n",
      "55\n",
      "1~100까지 짝수를 제외한 합은:2500\n"
     ]
    }
   ],
   "source": [
    "n = int(input('합계를 구할 숫자 입력:'))\n",
    "hap = 0 \n",
    "for i in range(1,n+1,2):\n",
    "    hap +=i\n",
    "print(sum(list(range(1,11))))    \n",
    "print(f'1~{n}까지 짝수를 제외한 합은:{hap}')"
   ]
  },
  {
   "cell_type": "code",
   "execution_count": 224,
   "id": "db571fd7",
   "metadata": {},
   "outputs": [
    {
     "name": "stdout",
     "output_type": "stream",
     "text": [
      "몇 단을 출력할까요?9\n",
      "9x1 = 9\n",
      "9x2 = 18\n",
      "9x3 = 27\n",
      "9x4 = 36\n",
      "9x5 = 45\n",
      "9x6 = 54\n",
      "9x7 = 63\n",
      "9x8 = 72\n",
      "9x9 = 81\n"
     ]
    }
   ],
   "source": [
    "n = int(input('몇 단을 출력할까요?'))\n",
    "for i in range(1,10):\n",
    "    a = i * n\n",
    "    print(f'{n}x{i} = {a}')"
   ]
  },
  {
   "cell_type": "code",
   "execution_count": 235,
   "id": "479b08ff",
   "metadata": {},
   "outputs": [
    {
     "name": "stdout",
     "output_type": "stream",
     "text": [
      "# 2단 \n",
      "2x1 = 2\n",
      "2x2 = 4\n",
      "2x3 = 6\n",
      "2x4 = 8\n",
      "2x5 = 10\n",
      "2x6 = 12\n",
      "2x7 = 14\n",
      "2x8 = 16\n",
      "2x9 = 18\n",
      "# 3단 \n",
      "3x1 = 3\n",
      "3x2 = 6\n",
      "3x3 = 9\n",
      "3x4 = 12\n",
      "3x5 = 15\n",
      "3x6 = 18\n",
      "3x7 = 21\n",
      "3x8 = 24\n",
      "3x9 = 27\n",
      "# 4단 \n",
      "4x1 = 4\n",
      "4x2 = 8\n",
      "4x3 = 12\n",
      "4x4 = 16\n",
      "4x5 = 20\n",
      "4x6 = 24\n",
      "4x7 = 28\n",
      "4x8 = 32\n",
      "4x9 = 36\n",
      "# 5단 \n",
      "5x1 = 5\n",
      "5x2 = 10\n",
      "5x3 = 15\n",
      "5x4 = 20\n",
      "5x5 = 25\n",
      "5x6 = 30\n",
      "5x7 = 35\n",
      "5x8 = 40\n",
      "5x9 = 45\n",
      "# 6단 \n",
      "6x1 = 6\n",
      "6x2 = 12\n",
      "6x3 = 18\n",
      "6x4 = 24\n",
      "6x5 = 30\n",
      "6x6 = 36\n",
      "6x7 = 42\n",
      "6x8 = 48\n",
      "6x9 = 54\n",
      "# 7단 \n",
      "7x1 = 7\n",
      "7x2 = 14\n",
      "7x3 = 21\n",
      "7x4 = 28\n",
      "7x5 = 35\n",
      "7x6 = 42\n",
      "7x7 = 49\n",
      "7x8 = 56\n",
      "7x9 = 63\n",
      "# 8단 \n",
      "8x1 = 8\n",
      "8x2 = 16\n",
      "8x3 = 24\n",
      "8x4 = 32\n",
      "8x5 = 40\n",
      "8x6 = 48\n",
      "8x7 = 56\n",
      "8x8 = 64\n",
      "8x9 = 72\n",
      "# 9단 \n",
      "9x1 = 9\n",
      "9x2 = 18\n",
      "9x3 = 27\n",
      "9x4 = 36\n",
      "9x5 = 45\n",
      "9x6 = 54\n",
      "9x7 = 63\n",
      "9x8 = 72\n",
      "9x9 = 81\n"
     ]
    }
   ],
   "source": [
    "for i in range(2,10):\n",
    "    print(f'# {i}단 ')\n",
    "    for k in range(1,10):\n",
    "        a = i * k\n",
    "        print(f'{i}x{k} = {a}')"
   ]
  },
  {
   "cell_type": "code",
   "execution_count": null,
   "id": "e4781bed",
   "metadata": {},
   "outputs": [],
   "source": []
  }
 ],
 "metadata": {
  "kernelspec": {
   "display_name": "Python 3 (ipykernel)",
   "language": "python",
   "name": "python3"
  },
  "language_info": {
   "codemirror_mode": {
    "name": "ipython",
    "version": 3
   },
   "file_extension": ".py",
   "mimetype": "text/x-python",
   "name": "python",
   "nbconvert_exporter": "python",
   "pygments_lexer": "ipython3",
   "version": "3.8.10"
  }
 },
 "nbformat": 4,
 "nbformat_minor": 5
}
