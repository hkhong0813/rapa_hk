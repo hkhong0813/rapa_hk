{
 "cells": [
  {
   "cell_type": "markdown",
   "id": "93eb859e",
   "metadata": {},
   "source": [
    "# Numpy 배열"
   ]
  },
  {
   "cell_type": "code",
   "execution_count": 7,
   "id": "f1577428",
   "metadata": {},
   "outputs": [
    {
     "name": "stdout",
     "output_type": "stream",
     "text": [
      "[0 1 2 3 4 5 6 7 8 9]\n",
      "<class 'numpy.ndarray'>\n"
     ]
    }
   ],
   "source": [
    "import numpy as np # 1차원 배열 만들기\n",
    "\n",
    "arr = np.array([0,1,2,3,4,5,6,7,8,9])\n",
    "\n",
    "print(arr) # 공백으로 구분되는 것을 확인할 수 있음.\n",
    "\n",
    "print(type(arr))"
   ]
  },
  {
   "cell_type": "code",
   "execution_count": 9,
   "id": "0d37c99c",
   "metadata": {},
   "outputs": [
    {
     "name": "stdout",
     "output_type": "stream",
     "text": [
      "[[1 2 3]\n",
      " [3 4 5]]\n"
     ]
    },
    {
     "data": {
      "text/plain": [
       "3"
      ]
     },
     "execution_count": 9,
     "metadata": {},
     "output_type": "execute_result"
    }
   ],
   "source": [
    "arr = np.array([[1,2,3],[3,4,5]]) # 2차원 배열 만들기\n",
    "\n",
    "print(arr) \n",
    "\n",
    "len(arr) #행의 개수\n",
    "\n",
    "len(arr[0]) #열의 개수"
   ]
  },
  {
   "cell_type": "markdown",
   "id": "791cf7da",
   "metadata": {},
   "source": [
    "# Numpy 배열의 차원과 크기"
   ]
  },
  {
   "cell_type": "code",
   "execution_count": 12,
   "id": "d5ea3fee",
   "metadata": {},
   "outputs": [
    {
     "name": "stdout",
     "output_type": "stream",
     "text": [
      "1\n",
      "(3,)\n"
     ]
    }
   ],
   "source": [
    "arr = np.array([1,2,3])\n",
    "print(arr.ndim) # 배열의 차원\n",
    "print(arr.shape) # shape 속성\n",
    "\n"
   ]
  },
  {
   "cell_type": "code",
   "execution_count": 17,
   "id": "1707300c",
   "metadata": {},
   "outputs": [
    {
     "name": "stdout",
     "output_type": "stream",
     "text": [
      "[ 0  1  2  3  4  5  6  7  8  9 10 11]\n",
      "[[ 0  1  2  3]\n",
      " [ 4  5  6  7]\n",
      " [ 8  9 10 11]]\n",
      "[[ 0  1  2  3]\n",
      " [ 4  5  6  7]\n",
      " [ 8  9 10 11]]\n",
      "[[[ 0  1  2]\n",
      "  [ 3  4  5]]\n",
      "\n",
      " [[ 6  7  8]\n",
      "  [ 9 10 11]]]\n",
      "[[[ 0  1]\n",
      "  [ 2  3]\n",
      "  [ 4  5]]\n",
      "\n",
      " [[ 6  7]\n",
      "  [ 8  9]\n",
      "  [10 11]]]\n"
     ]
    }
   ],
   "source": [
    "na = np.arange(12)   # Reshape\n",
    "\n",
    "print(na)\n",
    "\n",
    "nb = na.reshape(3,4) # 2차원 - 3행 4열의 크기로 변경함.\n",
    "print(nb)\n",
    "\n",
    "nb = na.reshape(3,-1) # 자동으로 계산\n",
    "print(nb)\n",
    "\n",
    "nb = na.reshape(2,2,-1) # 3차원의 배열로 x,y 크기를 지정후 z 크기는 자동으로 변경함.\n",
    "print(nb)\n",
    "\n",
    "nb = na.reshape(2,-1,2) # y 크기를 자동으로 변경함\n",
    "print(nb)"
   ]
  },
  {
   "cell_type": "code",
   "execution_count": 18,
   "id": "c4b768ed",
   "metadata": {},
   "outputs": [
    {
     "name": "stdout",
     "output_type": "stream",
     "text": [
      "[ 0  1  2  3  4  5  6  7  8  9 10 11]\n"
     ]
    }
   ],
   "source": [
    "nc =  nb.flatten() #flatten은 원본을 변경해도 같이 변경되지 않음.\n",
    "print(nc)\n"
   ]
  }
 ],
 "metadata": {
  "kernelspec": {
   "display_name": "Python 3 (ipykernel)",
   "language": "python",
   "name": "python3"
  },
  "language_info": {
   "codemirror_mode": {
    "name": "ipython",
    "version": 3
   },
   "file_extension": ".py",
   "mimetype": "text/x-python",
   "name": "python",
   "nbconvert_exporter": "python",
   "pygments_lexer": "ipython3",
   "version": "3.8.10"
  }
 },
 "nbformat": 4,
 "nbformat_minor": 5
}
