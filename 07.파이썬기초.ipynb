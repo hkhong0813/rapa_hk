{
 "cells": [
  {
   "cell_type": "markdown",
   "id": "59472059",
   "metadata": {},
   "source": [
    "# Filter"
   ]
  },
  {
   "cell_type": "code",
   "execution_count": 13,
   "id": "6e4f0662",
   "metadata": {},
   "outputs": [
    {
     "name": "stdout",
     "output_type": "stream",
     "text": [
      "[8, 7, 9]\n",
      "[True, False, False, False, False, True, False, True, False, False]\n"
     ]
    }
   ],
   "source": [
    "def f(x):\n",
    "    return x > 5 and x < 10\n",
    "\n",
    "myList = [8, 3, 2, 10, 15, 7, 1, 9, 0, 11]\n",
    "print(list(filter(f,myList)))  #filter를 통해 f함수의 결과가 '참'인 요소들을 반환함.\n",
    "print(list(map(f,myList)))    # f함수의 결과로 각 요소들에 대해 'True' or 'False'를 함."
   ]
  },
  {
   "cell_type": "code",
   "execution_count": 14,
   "id": "c246617f",
   "metadata": {},
   "outputs": [
    {
     "data": {
      "text/plain": [
       "[8, 7, 9]"
      ]
     },
     "execution_count": 14,
     "metadata": {},
     "output_type": "execute_result"
    }
   ],
   "source": [
    "myList = [8, 3, 2, 10, 15, 7, 1, 9, 0, 11]\n",
    "\n",
    "list(filter(lambda num:num >5 and num <10,myList))  #List Comprehension을 통한 풀이.\n",
    "\n"
   ]
  },
  {
   "cell_type": "markdown",
   "id": "8d604828",
   "metadata": {},
   "source": [
    "# Recursive Function"
   ]
  },
  {
   "cell_type": "code",
   "execution_count": 16,
   "id": "0f978300",
   "metadata": {},
   "outputs": [
    {
     "name": "stdout",
     "output_type": "stream",
     "text": [
      "120\n"
     ]
    }
   ],
   "source": [
    "def factorial(n):\n",
    "    if n ==1 :\n",
    "        return 1\n",
    "    return n * factorial(n-1)\n",
    "print(factorial(5))"
   ]
  },
  {
   "cell_type": "code",
   "execution_count": 19,
   "id": "3c21c6cd",
   "metadata": {},
   "outputs": [
    {
     "name": "stdout",
     "output_type": "stream",
     "text": [
      "Num for count:5\n",
      "5 4 3 2 1 "
     ]
    }
   ],
   "source": [
    "def count(num):\n",
    "    if num >= 1:\n",
    "        print(num, end= ' ')\n",
    "        count(num-1)\n",
    "    else:\n",
    "        return\n",
    "N = int(input('Num for count:'))\n",
    "\n",
    "count(N)"
   ]
  },
  {
   "cell_type": "code",
   "execution_count": 56,
   "id": "0b177d64",
   "metadata": {},
   "outputs": [
    {
     "name": "stdout",
     "output_type": "stream",
     "text": [
      "35\n",
      "[('스', 4), ('코', 3), ('모', 3), ('에', 3), ('있', 3), ('이', 3), ('다', 3), ('는', 2), ('것', 2), ('과', 1), ('거', 1), ('었', 1), ('고', 1), ('현', 1), ('재', 1), ('으', 1), ('며', 1), ('미', 1), ('래', 1), ('을', 1), ('그', 1), ('든', 1), ('우', 1), ('리', 1), ('일', 1), ('부', 1), ('은', 1), ('결', 1), ('시', 1), ('적', 1), ('수', 1), ('사', 1), ('가', 1), ('아', 1), ('니', 1)]\n",
      "Counter({' ': 15, '\\n': 4, '스': 4, '코': 3, '모': 3, '에': 3, '있': 3, '이': 3, '다': 3, '.': 3, '는': 2, ',': 2, '것': 2, '과': 1, '거': 1, '었': 1, '고': 1, '현': 1, '재': 1, '으': 1, '며': 1, '미': 1, '래': 1, '을': 1, '그': 1, '든': 1, '우': 1, '리': 1, '일': 1, '부': 1, '은': 1, '결': 1, '시': 1, '적': 1, '수': 1, '사': 1, '가': 1, '아': 1, '니': 1})\n",
      "[(' ', 15), ('\\n', 4)]\n"
     ]
    }
   ],
   "source": [
    "inStr = '''\n",
    "코스모스는 과거에 있었고, 현재에 있으며, 미래에 있을 그 모든 것이다.\n",
    "우리는 코스모스이 일부다.\n",
    "이것은 결코 시적 수사가 아니다.\n",
    "'''\n",
    "#방법1\n",
    "def letterCount():\n",
    "    global inStr\n",
    "    \n",
    "    countDic = {}\n",
    "    countList = []\n",
    "    \n",
    "    for Str in inStr:\n",
    "        if Str not in [\"'\",\".\",\"\\n\",\" \",\",\"] and Str not in countDic.keys():\n",
    "            countDic[Str] = inStr.count(Str)\n",
    "            countList.append((Str,inStr.count(Str)))\n",
    "    #print(len(countDic))\n",
    "    \n",
    "    countList.sort(key=lambda x:x[1],reverse =True)\n",
    "    \n",
    "    return countList\n",
    "print(letterCount())\n",
    "\n",
    "#방법2\n",
    "from collections import Counter\n",
    "counter = Counter(inStr)  # 딕셔너리타입\n",
    "print(counter)\n",
    "# 가장 많이 나타난 2개를 출력한다\n",
    "print(counter.most_common(n=2))"
   ]
  },
  {
   "cell_type": "markdown",
   "id": "824f14fc",
   "metadata": {},
   "source": [
    "# Package"
   ]
  },
  {
   "cell_type": "code",
   "execution_count": 65,
   "id": "faa46f23",
   "metadata": {},
   "outputs": [
    {
     "name": "stdout",
     "output_type": "stream",
     "text": [
      "{'data': array([[5.1, 3.5, 1.4, 0.2],\n",
      "       [4.9, 3. , 1.4, 0.2],\n",
      "       [4.7, 3.2, 1.3, 0.2],\n",
      "       [4.6, 3.1, 1.5, 0.2],\n",
      "       [5. , 3.6, 1.4, 0.2],\n",
      "       [5.4, 3.9, 1.7, 0.4],\n",
      "       [4.6, 3.4, 1.4, 0.3],\n",
      "       [5. , 3.4, 1.5, 0.2],\n",
      "       [4.4, 2.9, 1.4, 0.2],\n",
      "       [4.9, 3.1, 1.5, 0.1],\n",
      "       [5.4, 3.7, 1.5, 0.2],\n",
      "       [4.8, 3.4, 1.6, 0.2],\n",
      "       [4.8, 3. , 1.4, 0.1],\n",
      "       [4.3, 3. , 1.1, 0.1],\n",
      "       [5.8, 4. , 1.2, 0.2],\n",
      "       [5.7, 4.4, 1.5, 0.4],\n",
      "       [5.4, 3.9, 1.3, 0.4],\n",
      "       [5.1, 3.5, 1.4, 0.3],\n",
      "       [5.7, 3.8, 1.7, 0.3],\n",
      "       [5.1, 3.8, 1.5, 0.3],\n",
      "       [5.4, 3.4, 1.7, 0.2],\n",
      "       [5.1, 3.7, 1.5, 0.4],\n",
      "       [4.6, 3.6, 1. , 0.2],\n",
      "       [5.1, 3.3, 1.7, 0.5],\n",
      "       [4.8, 3.4, 1.9, 0.2],\n",
      "       [5. , 3. , 1.6, 0.2],\n",
      "       [5. , 3.4, 1.6, 0.4],\n",
      "       [5.2, 3.5, 1.5, 0.2],\n",
      "       [5.2, 3.4, 1.4, 0.2],\n",
      "       [4.7, 3.2, 1.6, 0.2],\n",
      "       [4.8, 3.1, 1.6, 0.2],\n",
      "       [5.4, 3.4, 1.5, 0.4],\n",
      "       [5.2, 4.1, 1.5, 0.1],\n",
      "       [5.5, 4.2, 1.4, 0.2],\n",
      "       [4.9, 3.1, 1.5, 0.2],\n",
      "       [5. , 3.2, 1.2, 0.2],\n",
      "       [5.5, 3.5, 1.3, 0.2],\n",
      "       [4.9, 3.6, 1.4, 0.1],\n",
      "       [4.4, 3. , 1.3, 0.2],\n",
      "       [5.1, 3.4, 1.5, 0.2],\n",
      "       [5. , 3.5, 1.3, 0.3],\n",
      "       [4.5, 2.3, 1.3, 0.3],\n",
      "       [4.4, 3.2, 1.3, 0.2],\n",
      "       [5. , 3.5, 1.6, 0.6],\n",
      "       [5.1, 3.8, 1.9, 0.4],\n",
      "       [4.8, 3. , 1.4, 0.3],\n",
      "       [5.1, 3.8, 1.6, 0.2],\n",
      "       [4.6, 3.2, 1.4, 0.2],\n",
      "       [5.3, 3.7, 1.5, 0.2],\n",
      "       [5. , 3.3, 1.4, 0.2],\n",
      "       [7. , 3.2, 4.7, 1.4],\n",
      "       [6.4, 3.2, 4.5, 1.5],\n",
      "       [6.9, 3.1, 4.9, 1.5],\n",
      "       [5.5, 2.3, 4. , 1.3],\n",
      "       [6.5, 2.8, 4.6, 1.5],\n",
      "       [5.7, 2.8, 4.5, 1.3],\n",
      "       [6.3, 3.3, 4.7, 1.6],\n",
      "       [4.9, 2.4, 3.3, 1. ],\n",
      "       [6.6, 2.9, 4.6, 1.3],\n",
      "       [5.2, 2.7, 3.9, 1.4],\n",
      "       [5. , 2. , 3.5, 1. ],\n",
      "       [5.9, 3. , 4.2, 1.5],\n",
      "       [6. , 2.2, 4. , 1. ],\n",
      "       [6.1, 2.9, 4.7, 1.4],\n",
      "       [5.6, 2.9, 3.6, 1.3],\n",
      "       [6.7, 3.1, 4.4, 1.4],\n",
      "       [5.6, 3. , 4.5, 1.5],\n",
      "       [5.8, 2.7, 4.1, 1. ],\n",
      "       [6.2, 2.2, 4.5, 1.5],\n",
      "       [5.6, 2.5, 3.9, 1.1],\n",
      "       [5.9, 3.2, 4.8, 1.8],\n",
      "       [6.1, 2.8, 4. , 1.3],\n",
      "       [6.3, 2.5, 4.9, 1.5],\n",
      "       [6.1, 2.8, 4.7, 1.2],\n",
      "       [6.4, 2.9, 4.3, 1.3],\n",
      "       [6.6, 3. , 4.4, 1.4],\n",
      "       [6.8, 2.8, 4.8, 1.4],\n",
      "       [6.7, 3. , 5. , 1.7],\n",
      "       [6. , 2.9, 4.5, 1.5],\n",
      "       [5.7, 2.6, 3.5, 1. ],\n",
      "       [5.5, 2.4, 3.8, 1.1],\n",
      "       [5.5, 2.4, 3.7, 1. ],\n",
      "       [5.8, 2.7, 3.9, 1.2],\n",
      "       [6. , 2.7, 5.1, 1.6],\n",
      "       [5.4, 3. , 4.5, 1.5],\n",
      "       [6. , 3.4, 4.5, 1.6],\n",
      "       [6.7, 3.1, 4.7, 1.5],\n",
      "       [6.3, 2.3, 4.4, 1.3],\n",
      "       [5.6, 3. , 4.1, 1.3],\n",
      "       [5.5, 2.5, 4. , 1.3],\n",
      "       [5.5, 2.6, 4.4, 1.2],\n",
      "       [6.1, 3. , 4.6, 1.4],\n",
      "       [5.8, 2.6, 4. , 1.2],\n",
      "       [5. , 2.3, 3.3, 1. ],\n",
      "       [5.6, 2.7, 4.2, 1.3],\n",
      "       [5.7, 3. , 4.2, 1.2],\n",
      "       [5.7, 2.9, 4.2, 1.3],\n",
      "       [6.2, 2.9, 4.3, 1.3],\n",
      "       [5.1, 2.5, 3. , 1.1],\n",
      "       [5.7, 2.8, 4.1, 1.3],\n",
      "       [6.3, 3.3, 6. , 2.5],\n",
      "       [5.8, 2.7, 5.1, 1.9],\n",
      "       [7.1, 3. , 5.9, 2.1],\n",
      "       [6.3, 2.9, 5.6, 1.8],\n",
      "       [6.5, 3. , 5.8, 2.2],\n",
      "       [7.6, 3. , 6.6, 2.1],\n",
      "       [4.9, 2.5, 4.5, 1.7],\n",
      "       [7.3, 2.9, 6.3, 1.8],\n",
      "       [6.7, 2.5, 5.8, 1.8],\n",
      "       [7.2, 3.6, 6.1, 2.5],\n",
      "       [6.5, 3.2, 5.1, 2. ],\n",
      "       [6.4, 2.7, 5.3, 1.9],\n",
      "       [6.8, 3. , 5.5, 2.1],\n",
      "       [5.7, 2.5, 5. , 2. ],\n",
      "       [5.8, 2.8, 5.1, 2.4],\n",
      "       [6.4, 3.2, 5.3, 2.3],\n",
      "       [6.5, 3. , 5.5, 1.8],\n",
      "       [7.7, 3.8, 6.7, 2.2],\n",
      "       [7.7, 2.6, 6.9, 2.3],\n",
      "       [6. , 2.2, 5. , 1.5],\n",
      "       [6.9, 3.2, 5.7, 2.3],\n",
      "       [5.6, 2.8, 4.9, 2. ],\n",
      "       [7.7, 2.8, 6.7, 2. ],\n",
      "       [6.3, 2.7, 4.9, 1.8],\n",
      "       [6.7, 3.3, 5.7, 2.1],\n",
      "       [7.2, 3.2, 6. , 1.8],\n",
      "       [6.2, 2.8, 4.8, 1.8],\n",
      "       [6.1, 3. , 4.9, 1.8],\n",
      "       [6.4, 2.8, 5.6, 2.1],\n",
      "       [7.2, 3. , 5.8, 1.6],\n",
      "       [7.4, 2.8, 6.1, 1.9],\n",
      "       [7.9, 3.8, 6.4, 2. ],\n",
      "       [6.4, 2.8, 5.6, 2.2],\n",
      "       [6.3, 2.8, 5.1, 1.5],\n",
      "       [6.1, 2.6, 5.6, 1.4],\n",
      "       [7.7, 3. , 6.1, 2.3],\n",
      "       [6.3, 3.4, 5.6, 2.4],\n",
      "       [6.4, 3.1, 5.5, 1.8],\n",
      "       [6. , 3. , 4.8, 1.8],\n",
      "       [6.9, 3.1, 5.4, 2.1],\n",
      "       [6.7, 3.1, 5.6, 2.4],\n",
      "       [6.9, 3.1, 5.1, 2.3],\n",
      "       [5.8, 2.7, 5.1, 1.9],\n",
      "       [6.8, 3.2, 5.9, 2.3],\n",
      "       [6.7, 3.3, 5.7, 2.5],\n",
      "       [6.7, 3. , 5.2, 2.3],\n",
      "       [6.3, 2.5, 5. , 1.9],\n",
      "       [6.5, 3. , 5.2, 2. ],\n",
      "       [6.2, 3.4, 5.4, 2.3],\n",
      "       [5.9, 3. , 5.1, 1.8]]), 'target': array([0, 0, 0, 0, 0, 0, 0, 0, 0, 0, 0, 0, 0, 0, 0, 0, 0, 0, 0, 0, 0, 0,\n",
      "       0, 0, 0, 0, 0, 0, 0, 0, 0, 0, 0, 0, 0, 0, 0, 0, 0, 0, 0, 0, 0, 0,\n",
      "       0, 0, 0, 0, 0, 0, 1, 1, 1, 1, 1, 1, 1, 1, 1, 1, 1, 1, 1, 1, 1, 1,\n",
      "       1, 1, 1, 1, 1, 1, 1, 1, 1, 1, 1, 1, 1, 1, 1, 1, 1, 1, 1, 1, 1, 1,\n",
      "       1, 1, 1, 1, 1, 1, 1, 1, 1, 1, 1, 1, 2, 2, 2, 2, 2, 2, 2, 2, 2, 2,\n",
      "       2, 2, 2, 2, 2, 2, 2, 2, 2, 2, 2, 2, 2, 2, 2, 2, 2, 2, 2, 2, 2, 2,\n",
      "       2, 2, 2, 2, 2, 2, 2, 2, 2, 2, 2, 2, 2, 2, 2, 2, 2, 2]), 'frame': None, 'target_names': array(['setosa', 'versicolor', 'virginica'], dtype='<U10'), 'DESCR': '.. _iris_dataset:\\n\\nIris plants dataset\\n--------------------\\n\\n**Data Set Characteristics:**\\n\\n    :Number of Instances: 150 (50 in each of three classes)\\n    :Number of Attributes: 4 numeric, predictive attributes and the class\\n    :Attribute Information:\\n        - sepal length in cm\\n        - sepal width in cm\\n        - petal length in cm\\n        - petal width in cm\\n        - class:\\n                - Iris-Setosa\\n                - Iris-Versicolour\\n                - Iris-Virginica\\n                \\n    :Summary Statistics:\\n\\n    ============== ==== ==== ======= ===== ====================\\n                    Min  Max   Mean    SD   Class Correlation\\n    ============== ==== ==== ======= ===== ====================\\n    sepal length:   4.3  7.9   5.84   0.83    0.7826\\n    sepal width:    2.0  4.4   3.05   0.43   -0.4194\\n    petal length:   1.0  6.9   3.76   1.76    0.9490  (high!)\\n    petal width:    0.1  2.5   1.20   0.76    0.9565  (high!)\\n    ============== ==== ==== ======= ===== ====================\\n\\n    :Missing Attribute Values: None\\n    :Class Distribution: 33.3% for each of 3 classes.\\n    :Creator: R.A. Fisher\\n    :Donor: Michael Marshall (MARSHALL%PLU@io.arc.nasa.gov)\\n    :Date: July, 1988\\n\\nThe famous Iris database, first used by Sir R.A. Fisher. The dataset is taken\\nfrom Fisher\\'s paper. Note that it\\'s the same as in R, but not as in the UCI\\nMachine Learning Repository, which has two wrong data points.\\n\\nThis is perhaps the best known database to be found in the\\npattern recognition literature.  Fisher\\'s paper is a classic in the field and\\nis referenced frequently to this day.  (See Duda & Hart, for example.)  The\\ndata set contains 3 classes of 50 instances each, where each class refers to a\\ntype of iris plant.  One class is linearly separable from the other 2; the\\nlatter are NOT linearly separable from each other.\\n\\n.. topic:: References\\n\\n   - Fisher, R.A. \"The use of multiple measurements in taxonomic problems\"\\n     Annual Eugenics, 7, Part II, 179-188 (1936); also in \"Contributions to\\n     Mathematical Statistics\" (John Wiley, NY, 1950).\\n   - Duda, R.O., & Hart, P.E. (1973) Pattern Classification and Scene Analysis.\\n     (Q327.D83) John Wiley & Sons.  ISBN 0-471-22361-1.  See page 218.\\n   - Dasarathy, B.V. (1980) \"Nosing Around the Neighborhood: A New System\\n     Structure and Classification Rule for Recognition in Partially Exposed\\n     Environments\".  IEEE Transactions on Pattern Analysis and Machine\\n     Intelligence, Vol. PAMI-2, No. 1, 67-71.\\n   - Gates, G.W. (1972) \"The Reduced Nearest Neighbor Rule\".  IEEE Transactions\\n     on Information Theory, May 1972, 431-433.\\n   - See also: 1988 MLC Proceedings, 54-64.  Cheeseman et al\"s AUTOCLASS II\\n     conceptual clustering system finds 3 classes in the data.\\n   - Many, many more ...', 'feature_names': ['sepal length (cm)', 'sepal width (cm)', 'petal length (cm)', 'petal width (cm)'], 'filename': 'c:\\\\python\\\\python38\\\\lib\\\\site-packages\\\\sklearn\\\\datasets\\\\data\\\\iris.csv'}\n"
     ]
    }
   ],
   "source": [
    "from sklearn.datasets import load_iris\n",
    "\n",
    "iris = load_iris()\n",
    "print(iris)"
   ]
  },
  {
   "cell_type": "markdown",
   "id": "75d27f64",
   "metadata": {},
   "source": [
    "# Class"
   ]
  },
  {
   "cell_type": "code",
   "execution_count": 72,
   "id": "1d9bc3aa",
   "metadata": {},
   "outputs": [],
   "source": [
    "class Car:\n",
    "    color = \"\" #Field\n",
    "    speed = 0\n",
    "    \n",
    "    def upSpeed(self, value): #Method\n",
    "        self.speed += value\n",
    "    def downSpeed(self, value):\n",
    "        self.speed -= value"
   ]
  },
  {
   "cell_type": "code",
   "execution_count": 73,
   "id": "ce1d0eeb",
   "metadata": {},
   "outputs": [
    {
     "name": "stdout",
     "output_type": "stream",
     "text": [
      "자동차1의 색상은 Red이며, 현재 속도는 30km입니다.\n",
      "자동차2의 색상은 Blue이며, 현재 속도는 60km입니다.\n",
      "자동차3의 색상은 Yellow이며, 현재 속도는 90km입니다.\n"
     ]
    }
   ],
   "source": [
    "myCar1 = Car() #Instance : Class를 본따 실제 메모리에 할당된 객체( 클래스에 의해 만들어진 객체)  \n",
    "myCar1.color = \"Red\"\n",
    "myCar1.speed = 0\n",
    "\n",
    "myCar2 = Car()\n",
    "myCar2.color = \"Blue\"\n",
    "myCar2.speed = 0\n",
    "\n",
    "myCar3 = Car()\n",
    "myCar3.color = \"Yellow\"\n",
    "myCar3.speed = 0\n",
    "\n",
    "myCar1.upSpeed(30)\n",
    "print(\"자동차1의 색상은 %s이며, 현재 속도는 %dkm입니다.\"%(myCar1.color, myCar1.speed))\n",
    "myCar2.upSpeed(60)\n",
    "print(\"자동차2의 색상은 %s이며, 현재 속도는 %dkm입니다.\"%(myCar2.color, myCar2.speed))\n",
    "myCar3.upSpeed(90)\n",
    "print(\"자동차3의 색상은 %s이며, 현재 속도는 %dkm입니다.\"%(myCar3.color, myCar3.speed))\n"
   ]
  },
  {
   "cell_type": "code",
   "execution_count": 74,
   "id": "f352a0ca",
   "metadata": {},
   "outputs": [],
   "source": [
    "class Car:\n",
    "    color = \"\"               # Constructor : Instance 를 생성하면서 Field 값을 초기화시키는 함수\n",
    "    speed = 0\n",
    "    def __init__(self): # 던더 이닛 던더 (Double Underscore)\n",
    "        self.color = \"빨강\"\n",
    "        \n",
    "        self.speed = 0\n",
    "       "
   ]
  },
  {
   "cell_type": "code",
   "execution_count": 87,
   "id": "bbf762be",
   "metadata": {},
   "outputs": [
    {
     "name": "stdout",
     "output_type": "stream",
     "text": [
      "White Audi의 현재 속도는 0km입니다.\n",
      "Black Benz의 현재 속도는 30km입니다.\n"
     ]
    }
   ],
   "source": [
    "class Car:\n",
    "    def __init__(self, value1, value2, value3):\n",
    "        self.color = value1\n",
    "        self.name = value2\n",
    "        self.speed = value3\n",
    "    \n",
    "    def getColor(self):\n",
    "        return self.color\n",
    "    def getName(self):\n",
    "        return self.name\n",
    "    def getSpeed(self):\n",
    "        return self.speed\n",
    "    \n",
    "    def upSpeed(self, value): \n",
    "        self.speed += value\n",
    "    def downSpeed(self, value):\n",
    "        self.speed -= value\n",
    "        \n",
    "car1 = Car(\"White\",\"Audi\", 0)\n",
    "car2 = Car(\"Black\",\"Benz\",30)\n",
    "\n",
    "print(\"%s %s의 현재 속도는 %dkm입니다.\"%(car1.getColor(), car1.getName(), car1.getSpeed()))\n",
    "print(\"%s %s의 현재 속도는 %dkm입니다.\"%(car2.getColor(), car2.getName(), car2.getSpeed()))"
   ]
  },
  {
   "cell_type": "markdown",
   "id": "b84000b4",
   "metadata": {},
   "source": [
    "# Magic Method  \\_\\_xxxx\\_\\_"
   ]
  },
  {
   "cell_type": "markdown",
   "id": "fc2d6a19",
   "metadata": {},
   "source": [
    "### -  del, repr, add 등"
   ]
  },
  {
   "cell_type": "markdown",
   "id": "2098165c",
   "metadata": {},
   "source": [
    "# Instance Variable & Class Variable"
   ]
  },
  {
   "cell_type": "markdown",
   "id": "03dc3faf",
   "metadata": {},
   "source": [
    "# Inheritance"
   ]
  },
  {
   "cell_type": "markdown",
   "id": "f5a92730",
   "metadata": {},
   "source": [
    "## - Method Overriding"
   ]
  },
  {
   "cell_type": "code",
   "execution_count": 100,
   "id": "1f990bd9",
   "metadata": {},
   "outputs": [
    {
     "name": "stdout",
     "output_type": "stream",
     "text": [
      "Black 포터의 현재 속도는 200km입니다.\n",
      "White 승용차의 현재 속도는 150km입니다.\n",
      "Blue 소나타의 현재 속도는 150km입니다.\n"
     ]
    }
   ],
   "source": [
    "class Car:\n",
    "    def __init__(self, value1, value2, value3):\n",
    "        self.color = value1\n",
    "        self.name = value2\n",
    "        self.speed = value3\n",
    "    \n",
    "    def getColor(self):\n",
    "        return self.color\n",
    "    def getName(self):\n",
    "        return self.name\n",
    "    def getSpeed(self):\n",
    "        return self.speed\n",
    "    \n",
    "    def upSpeed(self, value): \n",
    "        self.speed += value\n",
    "    def downSpeed(self, value):\n",
    "        self.speed -= value\n",
    "        \n",
    "class Truck(Car):\n",
    "    pass\n",
    "class Sedan(Car):\n",
    "    def getSpeed(self): \n",
    "        \n",
    "        if self.speed >150:\n",
    "            self.speed = 150\n",
    "        return self.speed\n",
    "class Sonata(Sedan):\n",
    "    pass\n",
    "\n",
    "truck  = Truck(\"Black\",\"포터\",200)\n",
    "sedan = Sedan(\"White\", \"승용차\",200)\n",
    "sonata = Sonata(\"Blue\",\"소나타\",200)\n",
    "\n",
    "print(\"%s %s의 현재 속도는 %dkm입니다.\"%(truck.getColor(), truck.getName(), truck.getSpeed()))\n",
    "print(\"%s %s의 현재 속도는 %dkm입니다.\"%(sedan.getColor(), sedan.getName(), sedan.getSpeed()))\n",
    "print(\"%s %s의 현재 속도는 %dkm입니다.\"%(sonata.getColor(), sonata.getName(), sonata.getSpeed()))"
   ]
  },
  {
   "cell_type": "code",
   "execution_count": 130,
   "id": "1a059db2",
   "metadata": {},
   "outputs": [
    {
     "name": "stdout",
     "output_type": "stream",
     "text": [
      "#제인의 장바구니\n",
      "--------------------\n",
      " 바나나 3000 2\n",
      " 라면 4000 1\n",
      " ** 전체 가격 = 10000 물건 종류= 2\n",
      "----------------------------------------\n",
      "#대원의 장바구니\n",
      "--------------------\n",
      " 라면 4000 2\n",
      " ** 전체 가격 = 8000 물건 종류= 1\n",
      "----------------------------------------\n"
     ]
    }
   ],
   "source": [
    "class Basket:\n",
    "    def __init__(self,id):\n",
    "        self.id = id\n",
    "        self.items = []\n",
    "        self.prices = []\n",
    "        self.qtys = []\n",
    "        self.totalPrice = 0\n",
    "        self.totalCnt = 0\n",
    "    def add(self, item, price, qty):\n",
    "        if item not in self.items:\n",
    "            self.items.append(item)\n",
    "            self.prices.append(price)\n",
    "            self.qtys.append(qty)\n",
    "            self.totalPrice += price * qty\n",
    "            self.totalCnt += 1\n",
    "    def delete(self, item, qty):\n",
    "        for idx,value in enumerate(self.items):\n",
    "            if value == item:\n",
    "                self.qtys[idx] -= qty\n",
    "                self.totalPrice -= self.prices[idx]* qty\n",
    "            if self.qtys[idx] == 0:\n",
    "                self.totalCnt -= 1\n",
    "                del(self.qtys[idx])\n",
    "                del(self.prices[idx])\n",
    "                del(self.items[idx])\n",
    "                break\n",
    "    def printitems(self):\n",
    "        print(f'#{self.id}의 장바구니')\n",
    "        print('-'*20)\n",
    "        for idx, value in enumerate(self.items):\n",
    "            print(f' {value} {self.prices[idx]} {self.qtys[idx]}')\n",
    "        print(f' ** 전체 가격 = {self.totalPrice} 물건 종류= {self.totalCnt}')\n",
    "        print('-'*40)\n",
    "        \n",
    "\n",
    "        \n",
    "basket1 = Basket(\"제인\")\n",
    "basket2 = Basket(\"대원\")\n",
    "\n",
    "basket1.add(\"바나나\", 3000, 2)\n",
    "basket1.add(\"우유\", 2500, 2)\n",
    "basket1.add(\"라면\", 4000, 1)\n",
    "basket2.add(\"라면\", 4000, 2)\n",
    "basket1.delete(\"우유\", 2)\n",
    "\n",
    "basket1.printitems()\n",
    "basket2.printitems()"
   ]
  },
  {
   "cell_type": "markdown",
   "id": "07a1d42f",
   "metadata": {},
   "source": [
    "# Multi Thread"
   ]
  },
  {
   "cell_type": "markdown",
   "id": "9b03dd62",
   "metadata": {},
   "source": [
    "### - 프로그램 하나에서 여러 개를 동시에 처리할 수 있도록 제공하는 기능"
   ]
  },
  {
   "cell_type": "code",
   "execution_count": 142,
   "id": "a447e4a0",
   "metadata": {},
   "outputs": [
    {
     "name": "stdout",
     "output_type": "stream",
     "text": [
      "Car1~달립니다.\n",
      "Car2~달립니다.\n",
      "Car3~달립니다.\n",
      "Car2~달립니다.\n",
      "Car3~달립니다.\n",
      "Car1~달립니다.\n",
      "Car2~달립니다.\n",
      "Car3~달립니다.\n",
      "Car1~달립니다.\n"
     ]
    }
   ],
   "source": [
    "import threading\n",
    "import time\n",
    "\n",
    "class Racingcar:\n",
    "    def __init__(self, name):\n",
    "        self.carName = name\n",
    "    def runCar(self):\n",
    "        for _ in range(0,3):\n",
    "            carStr = self.carName +'~달립니다.\\n'\n",
    "            print(carStr, end='')\n",
    "            time.sleep(0.1)\n",
    "            \n",
    "            \n",
    "car1 = Racingcar('Car1')\n",
    "car2 = Racingcar('Car2')\n",
    "car3 = Racingcar('Car3')\n",
    "\n",
    "th1 = threading.Thread(target = car1.runCar)\n",
    "th2 = threading.Thread(target = car2.runCar)\n",
    "th3 = threading.Thread(target = car3.runCar)\n",
    "\n",
    "th1.start()\n",
    "th2.start()\n",
    "th3.start()"
   ]
  },
  {
   "cell_type": "markdown",
   "id": "07f0e696",
   "metadata": {},
   "source": [
    "# Multi Processing"
   ]
  },
  {
   "cell_type": "markdown",
   "id": "02e57b45",
   "metadata": {},
   "source": [
    "### - 동시에 CPU를 여러 개 사용"
   ]
  }
 ],
 "metadata": {
  "kernelspec": {
   "display_name": "Python 3 (ipykernel)",
   "language": "python",
   "name": "python3"
  },
  "language_info": {
   "codemirror_mode": {
    "name": "ipython",
    "version": 3
   },
   "file_extension": ".py",
   "mimetype": "text/x-python",
   "name": "python",
   "nbconvert_exporter": "python",
   "pygments_lexer": "ipython3",
   "version": "3.8.10"
  }
 },
 "nbformat": 4,
 "nbformat_minor": 5
}
