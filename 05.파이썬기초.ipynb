{
 "cells": [
  {
   "cell_type": "markdown",
   "id": "e9eb3d23",
   "metadata": {},
   "source": [
    "# Tuple"
   ]
  },
  {
   "cell_type": "code",
   "execution_count": 3,
   "id": "0f7f9697",
   "metadata": {},
   "outputs": [
    {
     "name": "stdout",
     "output_type": "stream",
     "text": [
      "<class 'tuple'>\n",
      "('a', 'b', 'c', 4, 5)\n"
     ]
    }
   ],
   "source": [
    "a = ('a','b','c',4,5) #Tuple: list와 유사하나 요소들의 수정과 추가가 불가능하다.\n",
    "                      #괄호 생략 가능 -> ()  \n",
    "print(type(a))\n",
    "print(a)"
   ]
  },
  {
   "cell_type": "code",
   "execution_count": 15,
   "id": "6c11cb83",
   "metadata": {},
   "outputs": [
    {
     "name": "stdout",
     "output_type": "stream",
     "text": [
      "('1', '2', '3', '1', '4', '5')\n",
      "88\n",
      "['1', '2', '3', '1', '4', '5']\n",
      "104\n",
      "47.2 ns ± 0.264 ns per loop (mean ± std. dev. of 7 runs, 10000000 loops each)\n",
      "10.8 ns ± 0.0511 ns per loop (mean ± std. dev. of 7 runs, 100000000 loops each)\n"
     ]
    }
   ],
   "source": [
    "import sys\n",
    "\n",
    "menu = ('짜장면','우동','짬뽕','볶음밥')\n",
    "#menu[1] = '유산슬' #요소 수정이 불가능함\n",
    "lst = ('1','2','3')\n",
    "lst2 = ('1','4','5')\n",
    "lst3 = lst + lst2 # 튜플을 합치는 것은 가능함.\n",
    "lst4 = ['1','2','3','1','4','5']\n",
    "print(lst3)\n",
    "print(sys.getsizeof(lst3))\n",
    "print(lst4)\n",
    "print(sys.getsizeof(lst4))\n",
    "#튜플은 변하지 않는 키 값으로 사용이 많이 됨.\n",
    "%timeit lst4 = ['1','2','3','1','4','5']\n",
    "%timeit lst3 = ('1','2','3','1','4','5') #자료형 생성시간이 짧다."
   ]
  },
  {
   "cell_type": "markdown",
   "id": "b228462f",
   "metadata": {},
   "source": [
    "# Dictionary"
   ]
  },
  {
   "cell_type": "code",
   "execution_count": 40,
   "id": "0edbf8ed",
   "metadata": {},
   "outputs": [
    {
     "name": "stdout",
     "output_type": "stream",
     "text": [
      "119993323+12321\n",
      "<class 'str'>\n",
      "<class 'str'>\n"
     ]
    },
    {
     "ename": "ValueError",
     "evalue": "invalid literal for int() with base 10: '2+5'",
     "output_type": "error",
     "traceback": [
      "\u001b[1;31m---------------------------------------------------------------------------\u001b[0m",
      "\u001b[1;31mValueError\u001b[0m                                Traceback (most recent call last)",
      "\u001b[1;32m~\\AppData\\Local\\Temp/ipykernel_8812/3997089234.py\u001b[0m in \u001b[0;36m<module>\u001b[1;34m\u001b[0m\n\u001b[0;32m     11\u001b[0m \u001b[1;31m#print(int(calc))\u001b[0m\u001b[1;33m\u001b[0m\u001b[1;33m\u001b[0m\u001b[1;33m\u001b[0m\u001b[0m\n\u001b[0;32m     12\u001b[0m \u001b[0mprint\u001b[0m\u001b[1;33m(\u001b[0m\u001b[0mtype\u001b[0m\u001b[1;33m(\u001b[0m\u001b[0mcalc2\u001b[0m\u001b[1;33m)\u001b[0m\u001b[1;33m)\u001b[0m\u001b[1;33m\u001b[0m\u001b[1;33m\u001b[0m\u001b[0m\n\u001b[1;32m---> 13\u001b[1;33m \u001b[0mprint\u001b[0m\u001b[1;33m(\u001b[0m\u001b[0mint\u001b[0m\u001b[1;33m(\u001b[0m\u001b[0mcalc2\u001b[0m\u001b[1;33m)\u001b[0m\u001b[1;33m)\u001b[0m\u001b[1;33m\u001b[0m\u001b[1;33m\u001b[0m\u001b[0m\n\u001b[0m",
      "\u001b[1;31mValueError\u001b[0m: invalid literal for int() with base 10: '2+5'"
     ]
    }
   ],
   "source": [
    "a = dict()\n",
    "a['name'] = 'pey'\n",
    "a['phone'] = '119993323'\n",
    "a['name'] += 'moly'\n",
    "a['phone'] += '+12321'\n",
    "calc = a['phone']\n",
    "calc.replace(\"'\",\"\")\n",
    "print(calc)\n",
    "calc2 = '2+5'\n",
    "print(type(calc))\n",
    "#print(int(calc))\n",
    "print(type(calc2))\n",
    "print(int(calc2))\n"
   ]
  },
  {
   "cell_type": "code",
   "execution_count": 101,
   "id": "da3e0647",
   "metadata": {},
   "outputs": [
    {
     "name": "stdout",
     "output_type": "stream",
     "text": [
      "dict_keys(['math', 'kor', 'science'])\n",
      "100\n",
      "3\n",
      "{'math': 100, 'kor': 90, 'science': 100}\n",
      "이름: 홍현기\n",
      " 국어: 90 \n",
      "수학: 100\n",
      "과학: 100\n",
      "Key[math], value[100]\n",
      "Key[kor], value[90]\n",
      "Key[science], value[100]\n",
      "math\n",
      "kor\n",
      "science\n",
      "100\n",
      "90\n",
      "100\n",
      "math 100\n",
      "kor 90\n",
      "science 100\n"
     ]
    }
   ],
   "source": [
    "name = '홍현기'\n",
    "scores = {}\n",
    "\n",
    "scores['math'] = 100\n",
    "scores['kor'] = 90\n",
    "scores['science'] = 100\n",
    "print(scores.keys())\n",
    "print(scores['math'])\n",
    "print(len(scores))\n",
    "print(scores)\n",
    "print(f'이름: {name}')\n",
    "print(f' 국어: { scores[\"kor\"] } ')\n",
    "print(f'수학: {scores[\"math\"]}')\n",
    "print(f'과학: {scores[\"science\"]}')\n",
    "for k in scores:\n",
    "    print(f'Key[{k}], value[{scores[k]}]')\n",
    "\n",
    "for k in scores.keys():\n",
    "    print(k)\n",
    "for k in scores.values():\n",
    "    print(k)\n",
    "for k, v in scores.items():\n",
    "    print(k, v)"
   ]
  },
  {
   "cell_type": "code",
   "execution_count": 82,
   "id": "652e886e",
   "metadata": {},
   "outputs": [
    {
     "name": "stdout",
     "output_type": "stream",
     "text": [
      "BTS의 성적은:100\n",
      "TWICE의 성적은:100\n",
      "BLACKPINK의 성적은:100\n",
      "NUEST의 성적은:100\n",
      "{'BTS': 100, 'TWICE': 100, 'BLACKPINK': 100, 'NUEST': 100}\n",
      "합계: 400, 평균: 100.00\n"
     ]
    }
   ],
   "source": [
    "names = ['BTS','TWICE','BLACKPINK','NUEST']\n",
    "idols = {}\n",
    "for name in names:\n",
    "    idols[name] = int(input(f'{name}의 성적은:')) \n",
    "    \n",
    "hap = 0 \n",
    "for key in idols:\n",
    "    hap = hap + idols[key]\n",
    "\n",
    "avg = hap / len(idols)\n",
    "print(idols)\n",
    "print('합계: %d, 평균: %.2f' %(hap, avg))"
   ]
  },
  {
   "cell_type": "code",
   "execution_count": 103,
   "id": "19e85a30",
   "metadata": {},
   "outputs": [
    {
     "name": "stdout",
     "output_type": "stream",
     "text": [
      "메뉴)\n",
      "                1. 단어 등록\n",
      "                2. 단어 검색\n",
      "                3. 모든 단어 보기\n",
      "                4. 단어 시험\n",
      "                0. 종료하기\n",
      "                4\n",
      "등록된 단어가 하나도 없네요 \n",
      "메뉴)\n",
      "                1. 단어 등록\n",
      "                2. 단어 검색\n",
      "                3. 모든 단어 보기\n",
      "                4. 단어 시험\n",
      "                0. 종료하기\n",
      "                1\n",
      "등록할 단어:apple\n",
      "apple의 뜻:사과\n",
      "등록되었습니다.\n",
      "메뉴)\n",
      "                1. 단어 등록\n",
      "                2. 단어 검색\n",
      "                3. 모든 단어 보기\n",
      "                4. 단어 시험\n",
      "                0. 종료하기\n",
      "                4\n",
      "apple:사과\n",
      "정답입니다 ^^\n",
      "메뉴)\n",
      "                1. 단어 등록\n",
      "                2. 단어 검색\n",
      "                3. 모든 단어 보기\n",
      "                4. 단어 시험\n",
      "                0. 종료하기\n",
      "                0\n"
     ]
    }
   ],
   "source": [
    "def word_dict():\n",
    "    word_dict = {}\n",
    "    import random\n",
    "    \n",
    "    while True:\n",
    "        select_num = int(input(\"\"\"메뉴)\n",
    "                1. 단어 등록\n",
    "                2. 단어 검색\n",
    "                3. 모든 단어 보기\n",
    "                4. 단어 시험\n",
    "                0. 종료하기\n",
    "                \"\"\"))\n",
    "        if select_num == 0:\n",
    "            break\n",
    "        if select_num == 1:\n",
    "            word=input('등록할 단어:')\n",
    "            mean=input(f'{word}의 뜻:')\n",
    "            \n",
    "            if word in word_dict.keys():\n",
    "                print('이미 등록된 단어입니다.')\n",
    "            else:\n",
    "                word_dict[word] = mean \n",
    "                print('등록되었습니다.')\n",
    "                \n",
    "        elif select_num ==2:\n",
    "            word=input('검색할 단어:')\n",
    "            if word not in word_dict.keys() :\n",
    "                print('단어가 없습니다.')\n",
    "            else:\n",
    "                print(f'{word}: {word_dict[word]}')\n",
    "                \n",
    "        elif select_num ==3:\n",
    "            if len(word_dict)==0 :\n",
    "                print('단어가 없습니다.')\n",
    "            else:    \n",
    "                for word in word_dict:\n",
    "                    print(f'{word}: {word_dict[word]}')\n",
    "        elif select_num ==4:\n",
    "            dic_len = len(word_dict)\n",
    "            if dic_len == 0 :\n",
    "                print('등록된 단어가 하나도 없네요 ')\n",
    "            else:\n",
    "                \n",
    "                random_word = random.choice(tuple(word_dict.keys()))\n",
    "                random_mean = input(f'{random_word}:')\n",
    "                if random_mean == word_dict[random_word]:\n",
    "                    print('정답입니다 ^^')\n",
    "                else:\n",
    "                    print(f'틀렸어요 ^^{random_word}는{word_dict[random_word]}입니다.')\n",
    "            \n",
    "word_dict()\n",
    "#choice() 인자로는 시퀀스 객체가 올 수 있음. example_dict.keys()는 시퀀스 객체가 아니기 때문에 list or tuple 형식으로 바꾸어 주어야함.\n",
    "    "
   ]
  },
  {
   "cell_type": "markdown",
   "id": "b7856749",
   "metadata": {},
   "source": [
    "# Set"
   ]
  },
  {
   "cell_type": "code",
   "execution_count": 128,
   "id": "48ede372",
   "metadata": {},
   "outputs": [
    {
     "name": "stdout",
     "output_type": "stream",
     "text": [
      "{'H', 'L', 'E', 'O'}\n",
      "728\n",
      "96\n",
      "80\n",
      "{2, 4}\n",
      "{1, 2, 3, 4, 5, 6, 8, 10}\n",
      "{1, 2, 3, 4, 5, 6, 8, 10}\n",
      "{8, 10, 6}\n",
      "{1, 3, 5}\n"
     ]
    }
   ],
   "source": [
    "a= set(\"HELLO\")\n",
    "print(a)\n",
    "\n",
    "\n",
    "\n",
    "\n",
    "s1 = {2,4,6,8,10}\n",
    "ss1 = [2,4,6,8,10]\n",
    "sss1 = (2,4,6,8,10)\n",
    "print(sys.getsizeof(s1))\n",
    "print(sys.getsizeof(ss1))\n",
    "print(sys.getsizeof(sss1))\n",
    "s2 = {1,2,3,4,5}\n",
    "s = s1 & s2 #Intersection()  교집합\n",
    "print(s)\n",
    "\n",
    "s = s1 | s2 #union(0)   합집합\n",
    "print(s)\n",
    "s1.union(s2) #똑같음\n",
    "print(s)\n",
    "\n",
    "s = s1 - s2 #Difference() 차집합\n",
    "print(s)\n",
    "s = s2 - s1\n",
    "print(s)\n"
   ]
  },
  {
   "cell_type": "markdown",
   "id": "3e51c2a8",
   "metadata": {},
   "source": [
    "# List Comprehension"
   ]
  },
  {
   "cell_type": "code",
   "execution_count": 115,
   "id": "dcba161b",
   "metadata": {},
   "outputs": [
    {
     "data": {
      "text/plain": [
       "[1, 2, 3, 4, 5]"
      ]
     },
     "execution_count": 115,
     "metadata": {},
     "output_type": "execute_result"
    }
   ],
   "source": [
    "numList = []\n",
    "for num in range(1,6):\n",
    "    numList.append(num)\n",
    "numList"
   ]
  },
  {
   "cell_type": "code",
   "execution_count": 121,
   "id": "6838e509",
   "metadata": {},
   "outputs": [
    {
     "name": "stdout",
     "output_type": "stream",
     "text": [
      "[1, 2, 3, 4, 5]\n",
      "[1, 4, 9, 16, 25]\n"
     ]
    }
   ],
   "source": [
    "numList = [num for num in range(1,6)]\n",
    "print(numList)\n",
    "numList = [num*num for num in range(1,6)]\n",
    "print(numList)\n",
    "\n"
   ]
  },
  {
   "cell_type": "code",
   "execution_count": 122,
   "id": "66a4991b",
   "metadata": {},
   "outputs": [
    {
     "name": "stdout",
     "output_type": "stream",
     "text": [
      "[3, 6, 9, 12, 15, 18]\n"
     ]
    }
   ],
   "source": [
    "numList= [num for num in range(3,20,3)]\n",
    "print(numList)\n"
   ]
  },
  {
   "cell_type": "code",
   "execution_count": 124,
   "id": "ab75bb91",
   "metadata": {},
   "outputs": [
    {
     "name": "stdout",
     "output_type": "stream",
     "text": [
      "[(1, 1), (1, 2), (2, 1), (2, 2), (3, 1), (3, 2)]\n",
      "120\n"
     ]
    }
   ],
   "source": [
    "rows = range(1,4)\n",
    "cols = range(1,3)\n",
    "cells = [(row,col) for row in rows for col in cols]\n",
    "print(cells)\n"
   ]
  },
  {
   "cell_type": "code",
   "execution_count": 129,
   "id": "9b1b2031",
   "metadata": {},
   "outputs": [
    {
     "name": "stdout",
     "output_type": "stream",
     "text": [
      "[(1, 'a'), (2, 'b'), (3, 'c'), (4, 'd'), (5, 'e')]\n",
      "{1: 'a', 2: 'b', 3: 'c', 4: 'd', 5: 'e'}\n"
     ]
    }
   ],
   "source": [
    "num = [1,2,3,4,5]\n",
    "alpha = ['a','b','c','d','e']\n",
    "\n",
    "tupList=  list(zip(num,alpha))\n",
    "dic = dict(zip(num, alpha))\n",
    "print(tupList)\n",
    "print(dic)"
   ]
  },
  {
   "cell_type": "code",
   "execution_count": null,
   "id": "454e2c85",
   "metadata": {},
   "outputs": [],
   "source": []
  }
 ],
 "metadata": {
  "kernelspec": {
   "display_name": "Python 3 (ipykernel)",
   "language": "python",
   "name": "python3"
  },
  "language_info": {
   "codemirror_mode": {
    "name": "ipython",
    "version": 3
   },
   "file_extension": ".py",
   "mimetype": "text/x-python",
   "name": "python",
   "nbconvert_exporter": "python",
   "pygments_lexer": "ipython3",
   "version": "3.8.10"
  }
 },
 "nbformat": 4,
 "nbformat_minor": 5
}
